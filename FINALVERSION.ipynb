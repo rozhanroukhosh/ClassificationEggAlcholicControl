{
 "cells": [
  {
   "cell_type": "code",
   "execution_count": 1,
   "id": "f36a61bc-847d-46d2-a26f-d3239d64b305",
   "metadata": {
    "execution": {
     "iopub.execute_input": "2022-06-06T16:23:00.661988Z",
     "iopub.status.busy": "2022-06-06T16:23:00.661601Z",
     "iopub.status.idle": "2022-06-06T16:23:02.868100Z",
     "shell.execute_reply": "2022-06-06T16:23:02.867615Z",
     "shell.execute_reply.started": "2022-06-06T16:23:00.661915Z"
    }
   },
   "outputs": [
    {
     "data": {
      "text/html": [
       "        <script type=\"text/javascript\">\n",
       "        window.PlotlyConfig = {MathJaxConfig: 'local'};\n",
       "        if (window.MathJax) {MathJax.Hub.Config({SVG: {font: \"STIX-Web\"}});}\n",
       "        if (typeof require !== 'undefined') {\n",
       "        require.undef(\"plotly\");\n",
       "        requirejs.config({\n",
       "            paths: {\n",
       "                'plotly': ['https://cdn.plot.ly/plotly-2.11.1.min']\n",
       "            }\n",
       "        });\n",
       "        require(['plotly'], function(Plotly) {\n",
       "            window._Plotly = Plotly;\n",
       "        });\n",
       "        }\n",
       "        </script>\n",
       "        "
      ]
     },
     "metadata": {},
     "output_type": "display_data"
    },
    {
     "data": {
      "text/html": [
       "        <script type=\"text/javascript\">\n",
       "        window.PlotlyConfig = {MathJaxConfig: 'local'};\n",
       "        if (window.MathJax) {MathJax.Hub.Config({SVG: {font: \"STIX-Web\"}});}\n",
       "        if (typeof require !== 'undefined') {\n",
       "        require.undef(\"plotly\");\n",
       "        requirejs.config({\n",
       "            paths: {\n",
       "                'plotly': ['https://cdn.plot.ly/plotly-2.11.1.min']\n",
       "            }\n",
       "        });\n",
       "        require(['plotly'], function(Plotly) {\n",
       "            window._Plotly = Plotly;\n",
       "        });\n",
       "        }\n",
       "        </script>\n",
       "        "
      ]
     },
     "metadata": {},
     "output_type": "display_data"
    }
   ],
   "source": [
    "import numpy as np\n",
    "import pandas as pd \n",
    "import os\n",
    "import random\n",
    "from tqdm import tqdm\n",
    "import matplotlib\n",
    "import seaborn as sns\n",
    "import matplotlib.pyplot as plt\n",
    "import plotly.graph_objs as go\n",
    "import warnings\n",
    "warnings.filterwarnings('ignore')\n",
    "\n",
    "import visulization as vs\n",
    "\n",
    "\n",
    "from plotly.offline import init_notebook_mode, iplot\n",
    "from elephas.utils.rdd_utils import to_simple_rdd\n",
    "\n",
    "import pyspark\n",
    "from pyspark import SparkContext, SparkConf\n",
    "from pyspark.sql import *\n",
    "from pyspark.sql.types import *\n",
    "from pyspark.sql.types import FloatType\n",
    "import pyspark.sql.functions as F\n",
    "from pyspark.sql.functions import *\n",
    "from pyspark.sql.types import IntegerType, StringType, FloatType\n",
    "from pyspark.sql.functions import col\n",
    "\n",
    "from pyspark.ml import Pipeline\n",
    "from pyspark.ml.feature import StringIndexer, OneHotEncoder, VectorAssembler, StandardScaler,MinMaxScaler\n",
    "from pyspark.ml.tuning import CrossValidator, ParamGridBuilder\n",
    "from pyspark.ml.classification import LogisticRegression , GBTClassifier, RandomForestClassifier, LinearSVC, MultilayerPerceptronClassifier\n",
    "\n",
    "from pyspark.ml.evaluation import BinaryClassificationEvaluator, MulticlassClassificationEvaluator\n",
    "\n",
    "\n",
    "from pyspark.mllib.util import MLUtils\n",
    "from pyspark.mllib.evaluation import MulticlassMetrics\n",
    "\n",
    "\n",
    "import tensorflow as tf\n",
    "from tensorflow.keras.models import Sequential\n",
    "from tensorflow.keras.layers import Dense, Dropout, Activation\n",
    "from tensorflow.keras.optimizers import SGD\n",
    "from tensorflow.keras.applications.resnet50 import ResNet50\n",
    "\n",
    "from tensorflow.keras.utils import to_categorical\n",
    "from tensorflow.keras import optimizers\n",
    "\n",
    "from sklearn import preprocessing\n",
    "import time\n",
    "\n",
    "from elephas.ml_model import ElephasEstimator\n",
    "from elephas.ml.adapter import to_data_frame\n",
    "from tensorflow.keras import optimizers\n",
    "\n",
    "\n",
    "seed = 23\n",
    "random.seed = seed\n",
    "init_notebook_mode(connected=True) ## plotly init"
   ]
  },
  {
   "cell_type": "markdown",
   "id": "19b2d3e4-3173-4f5f-a615-8b9b3676beb4",
   "metadata": {},
   "source": [
    "<h1>set ups Section</h1>"
   ]
  },
  {
   "cell_type": "code",
   "execution_count": 2,
   "id": "cb71ea98-2dcd-408a-bb9b-d6e204a99952",
   "metadata": {
    "execution": {
     "iopub.execute_input": "2022-06-06T16:23:02.869611Z",
     "iopub.status.busy": "2022-06-06T16:23:02.869275Z",
     "iopub.status.idle": "2022-06-06T16:23:05.094529Z",
     "shell.execute_reply": "2022-06-06T16:23:05.093904Z",
     "shell.execute_reply.started": "2022-06-06T16:23:02.869591Z"
    }
   },
   "outputs": [],
   "source": [
    "# Create the session\n",
    "conf = SparkConf().set(\"spark.ui.port\", \"4050\").set('spark.executor.memory', '32G').set('spark.driver.memory', '32G').set('spark.driver.maxResultSize', '32G').setAppName('Elephas_App')\n",
    "sc = pyspark.SparkContext(conf=conf)\n",
    "spark = SparkSession.builder.getOrCreate()"
   ]
  },
  {
   "cell_type": "code",
   "execution_count": 3,
   "id": "10ae415b-500e-4917-80c1-f7ed4bf42560",
   "metadata": {
    "execution": {
     "iopub.execute_input": "2022-06-06T16:23:05.095974Z",
     "iopub.status.busy": "2022-06-06T16:23:05.095557Z",
     "iopub.status.idle": "2022-06-06T16:23:05.588331Z",
     "shell.execute_reply": "2022-06-06T16:23:05.587810Z",
     "shell.execute_reply.started": "2022-06-06T16:23:05.095944Z"
    }
   },
   "outputs": [],
   "source": [
    "spark.conf.set('spark.sql.repl.eagerEval.enabled', True)"
   ]
  },
  {
   "cell_type": "markdown",
   "id": "e5645dea-d0a0-4088-bbb8-fe673e96d809",
   "metadata": {},
   "source": [
    "<h1>Reading Data</h1>"
   ]
  },
  {
   "cell_type": "code",
   "execution_count": 4,
   "id": "0a2a17fd-fc6e-4da2-af10-d4f4866e14b0",
   "metadata": {
    "execution": {
     "iopub.execute_input": "2022-06-06T16:23:05.589013Z",
     "iopub.status.busy": "2022-06-06T16:23:05.588916Z",
     "iopub.status.idle": "2022-06-06T16:23:11.821838Z",
     "shell.execute_reply": "2022-06-06T16:23:11.821240Z",
     "shell.execute_reply.started": "2022-06-06T16:23:05.589000Z"
    }
   },
   "outputs": [],
   "source": [
    "EEG_data_train = spark.read.load('./TRAIN/Train', \n",
    "                           format=\"csv\", \n",
    "                           sep=\",\", \n",
    "                           inferSchema=\"true\", \n",
    "                           header=\"true\")"
   ]
  },
  {
   "cell_type": "code",
   "execution_count": 5,
   "id": "9297c67b-41dd-493d-a48c-05ae58802b44",
   "metadata": {
    "execution": {
     "iopub.execute_input": "2022-06-06T16:23:11.823057Z",
     "iopub.status.busy": "2022-06-06T16:23:11.822807Z",
     "iopub.status.idle": "2022-06-06T16:23:14.860023Z",
     "shell.execute_reply": "2022-06-06T16:23:14.859554Z",
     "shell.execute_reply.started": "2022-06-06T16:23:11.823032Z"
    }
   },
   "outputs": [],
   "source": [
    "EEG_data_test = spark.read.load('./TEST/Test', \n",
    "                           format=\"csv\", \n",
    "                           sep=\",\", \n",
    "                           inferSchema=\"true\", \n",
    "                           header=\"true\")"
   ]
  },
  {
   "cell_type": "code",
   "execution_count": 6,
   "id": "294c83e9-1f60-4878-b9e7-289d86da4275",
   "metadata": {
    "execution": {
     "iopub.execute_input": "2022-06-06T16:23:14.861188Z",
     "iopub.status.busy": "2022-06-06T16:23:14.860910Z",
     "iopub.status.idle": "2022-06-06T16:23:14.880946Z",
     "shell.execute_reply": "2022-06-06T16:23:14.880501Z",
     "shell.execute_reply.started": "2022-06-06T16:23:14.861162Z"
    }
   },
   "outputs": [],
   "source": [
    "EEG_data = EEG_data_train.unionByName(EEG_data_test)"
   ]
  },
  {
   "cell_type": "markdown",
   "id": "ead2db1b-f046-4ee3-a1a4-fb0d1abb891a",
   "metadata": {},
   "source": [
    "<h1>grasps on Data<h1>"
   ]
  },
  {
   "cell_type": "code",
   "execution_count": 7,
   "id": "95b911d1-8f43-4116-972e-041472fa801a",
   "metadata": {
    "execution": {
     "iopub.execute_input": "2022-06-06T16:23:14.883258Z",
     "iopub.status.busy": "2022-06-06T16:23:14.883011Z",
     "iopub.status.idle": "2022-06-06T16:23:15.142942Z",
     "shell.execute_reply": "2022-06-06T16:23:15.142587Z",
     "shell.execute_reply.started": "2022-06-06T16:23:14.883231Z"
    }
   },
   "outputs": [
    {
     "name": "stdout",
     "output_type": "stream",
     "text": [
      "+---+------------+---------------+----------+------------+------------------+------------------+-------+-----------+----------+\n",
      "|_c0|trial number|sensor position|sample num|sensor value|subject identifier|matching condition|channel|       name|      time|\n",
      "+---+------------+---------------+----------+------------+------------------+------------------+-------+-----------+----------+\n",
      "|  5|          13|            FP1|         0|       2.686|                 a|       S2 nomatch,|      0|co2a0000375|       0.0|\n",
      "|  6|          13|            FP1|         1|      -0.244|                 a|       S2 nomatch,|      0|co2a0000375|0.00390625|\n",
      "|  7|          13|            FP1|         2|       -4.15|                 a|       S2 nomatch,|      0|co2a0000375| 0.0078125|\n",
      "|  8|          13|            FP1|         3|      -7.568|                 a|       S2 nomatch,|      0|co2a0000375|0.01171875|\n",
      "|  9|          13|            FP1|         4|      -9.521|                 a|       S2 nomatch,|      0|co2a0000375|  0.015625|\n",
      "+---+------------+---------------+----------+------------+------------------+------------------+-------+-----------+----------+\n",
      "only showing top 5 rows\n",
      "\n"
     ]
    }
   ],
   "source": [
    "EEG_data.show(5)"
   ]
  },
  {
   "cell_type": "code",
   "execution_count": 8,
   "id": "f865dc32-5b0e-498a-8664-cd8f014417b0",
   "metadata": {
    "execution": {
     "iopub.execute_input": "2022-06-06T16:23:15.143766Z",
     "iopub.status.busy": "2022-06-06T16:23:15.143606Z",
     "iopub.status.idle": "2022-06-06T16:23:16.383655Z",
     "shell.execute_reply": "2022-06-06T16:23:16.383189Z",
     "shell.execute_reply.started": "2022-06-06T16:23:15.143747Z"
    }
   },
   "outputs": [
    {
     "name": "stdout",
     "output_type": "stream",
     "text": [
      "The shape of the dataset is 15532032 rows by 10 columns\n"
     ]
    }
   ],
   "source": [
    "print(\"The shape of the dataset is {:d} rows by {:d} columns\".format(EEG_data.count(), len(EEG_data.columns)))"
   ]
  },
  {
   "cell_type": "code",
   "execution_count": 9,
   "id": "3769efce-f802-4a5e-8f36-967524ea75bb",
   "metadata": {
    "execution": {
     "iopub.execute_input": "2022-06-06T16:23:16.384560Z",
     "iopub.status.busy": "2022-06-06T16:23:16.384378Z",
     "iopub.status.idle": "2022-06-06T16:23:16.388560Z",
     "shell.execute_reply": "2022-06-06T16:23:16.388129Z",
     "shell.execute_reply.started": "2022-06-06T16:23:16.384539Z"
    }
   },
   "outputs": [
    {
     "name": "stdout",
     "output_type": "stream",
     "text": [
      "['_c0', 'trial number', 'sensor position', 'sample num', 'sensor value', 'subject identifier', 'matching condition', 'channel', 'name', 'time']\n",
      "root\n",
      " |-- _c0: integer (nullable = true)\n",
      " |-- trial number: integer (nullable = true)\n",
      " |-- sensor position: string (nullable = true)\n",
      " |-- sample num: integer (nullable = true)\n",
      " |-- sensor value: double (nullable = true)\n",
      " |-- subject identifier: string (nullable = true)\n",
      " |-- matching condition: string (nullable = true)\n",
      " |-- channel: integer (nullable = true)\n",
      " |-- name: string (nullable = true)\n",
      " |-- time: double (nullable = true)\n",
      "\n"
     ]
    }
   ],
   "source": [
    "print(EEG_data.columns)\n",
    "EEG_data.printSchema()"
   ]
  },
  {
   "cell_type": "markdown",
   "id": "48973571-4ba8-42da-adf3-ff7a5b5a3982",
   "metadata": {},
   "source": [
    "<h1>Data Initial Preprocessing<h1>"
   ]
  },
  {
   "cell_type": "code",
   "execution_count": 10,
   "id": "cb253de1-d38e-4963-a9a7-83016f843299",
   "metadata": {
    "execution": {
     "iopub.execute_input": "2022-06-06T16:23:16.389375Z",
     "iopub.status.busy": "2022-06-06T16:23:16.389200Z",
     "iopub.status.idle": "2022-06-06T16:23:16.472590Z",
     "shell.execute_reply": "2022-06-06T16:23:16.472240Z",
     "shell.execute_reply.started": "2022-06-06T16:23:16.389357Z"
    }
   },
   "outputs": [],
   "source": [
    "## replace some 'sensor position' values\n",
    "EEG_data = EEG_data.withColumn(\"sensor position\", when(EEG_data['sensor position'] == 'AF1',\"AF3\") \\\n",
    "      .when(EEG_data['sensor position'] == 'AF2',\"AF4\") \\\n",
    "      .when(EEG_data['sensor position'] == 'PO1',\"PO3\") \\\n",
    "      .when(EEG_data['sensor position'] == 'PO2',\"PO4\") \\\n",
    "      .otherwise(EEG_data['sensor position']))\n",
    "##replace the comma in matchas\n",
    "EEG_data = EEG_data.withColumn(\"matching condition\", when(EEG_data[\"matching condition\"]== 'S2 nomatch,','S2 nomatch')\\\n",
    "           .otherwise(EEG_data[\"matching condition\"]))"
   ]
  },
  {
   "cell_type": "code",
   "execution_count": 11,
   "id": "f243c924-1044-4048-9133-91894af52ebd",
   "metadata": {
    "execution": {
     "iopub.execute_input": "2022-06-06T16:23:16.473716Z",
     "iopub.status.busy": "2022-06-06T16:23:16.473493Z",
     "iopub.status.idle": "2022-06-06T16:23:16.489044Z",
     "shell.execute_reply": "2022-06-06T16:23:16.488556Z",
     "shell.execute_reply.started": "2022-06-06T16:23:16.473691Z"
    }
   },
   "outputs": [],
   "source": [
    "## remove rows with undefined positions\n",
    "EEG_data = EEG_data.where(~EEG_data['sensor position'].contains('X') & ~EEG_data['sensor position'].contains('Y') & ~EEG_data['sensor position'].contains('nd'))"
   ]
  },
  {
   "cell_type": "code",
   "execution_count": 12,
   "id": "b11d2c85-e961-4c6d-9c91-0a222545e98e",
   "metadata": {
    "execution": {
     "iopub.execute_input": "2022-06-06T16:23:16.489808Z",
     "iopub.status.busy": "2022-06-06T16:23:16.489702Z",
     "iopub.status.idle": "2022-06-06T16:23:34.242635Z",
     "shell.execute_reply": "2022-06-06T16:23:34.242011Z",
     "shell.execute_reply.started": "2022-06-06T16:23:16.489794Z"
    }
   },
   "outputs": [
    {
     "name": "stdout",
     "output_type": "stream",
     "text": [
      "Distinct count: 14429184\n",
      "+---+------------+---------------+----------+------------+------------------+------------------+-------+-----------+----------+\n",
      "|_c0|trial number|sensor position|sample num|sensor value|subject identifier|matching condition|channel|       name|      time|\n",
      "+---+------------+---------------+----------+------------+------------------+------------------+-------+-----------+----------+\n",
      "|132|          13|            FP1|       127|     -20.752|                 a|        S2 nomatch|      0|co2a0000375|0.49609375|\n",
      "|194|          13|            FP1|       189|       3.174|                 a|        S2 nomatch|      0|co2a0000375|0.73828125|\n",
      "|243|          13|            FP1|       238|      18.799|                 a|        S2 nomatch|      0|co2a0000375| 0.9296875|\n",
      "|556|          13|             F7|        37|      -8.982|                 a|        S2 nomatch|      2|co2a0000375|0.14453125|\n",
      "|772|          13|             F7|       253|       8.108|                 a|        S2 nomatch|      2|co2a0000375|0.98828125|\n",
      "+---+------------+---------------+----------+------------+------------------+------------------+-------+-----------+----------+\n",
      "only showing top 5 rows\n",
      "\n"
     ]
    }
   ],
   "source": [
    "#drop duplicated rows\n",
    "EEG_data = EEG_data.dropDuplicates()\n",
    "print(\"Distinct count: \"+str(EEG_data.count()))\n",
    "EEG_data.show(5)"
   ]
  },
  {
   "cell_type": "markdown",
   "id": "4e19ce91-b9ac-41c4-b5ae-e49659635051",
   "metadata": {},
   "source": [
    "<h1>Grasp on data after Preprocessing</h1>"
   ]
  },
  {
   "cell_type": "code",
   "execution_count": 13,
   "id": "71f478f1-b608-4a32-9b37-504371bc746b",
   "metadata": {
    "execution": {
     "iopub.execute_input": "2022-06-06T16:23:34.243792Z",
     "iopub.status.busy": "2022-06-06T16:23:34.243593Z",
     "iopub.status.idle": "2022-06-06T16:23:46.938225Z",
     "shell.execute_reply": "2022-06-06T16:23:46.937595Z",
     "shell.execute_reply.started": "2022-06-06T16:23:34.243766Z"
    }
   },
   "outputs": [
    {
     "name": "stdout",
     "output_type": "stream",
     "text": [
      "N. of missing values of column `_c0` = 0\n",
      "N. of missing values of column `trial number` = 0\n",
      "N. of missing values of column `sensor position` = 0\n",
      "N. of missing values of column `sample num` = 0\n",
      "N. of missing values of column `sensor value` = 0\n",
      "N. of missing values of column `subject identifier` = 0\n",
      "N. of missing values of column `matching condition` = 0\n",
      "N. of missing values of column `channel` = 0\n",
      "N. of missing values of column `name` = 0\n",
      "N. of missing values of column `time` = 0\n"
     ]
    }
   ],
   "source": [
    "for c in EEG_data.columns:\n",
    "  print(\"N. of missing values of column `{:s}` = {:d}\".format(c, EEG_data_train.where(col(c).isNull()).count()))"
   ]
  },
  {
   "cell_type": "code",
   "execution_count": 14,
   "id": "0f37d0d3-04b6-4f70-8f76-e6b776ac1e85",
   "metadata": {
    "execution": {
     "iopub.execute_input": "2022-06-06T16:23:46.939583Z",
     "iopub.status.busy": "2022-06-06T16:23:46.939095Z",
     "iopub.status.idle": "2022-06-06T16:23:59.545406Z",
     "shell.execute_reply": "2022-06-06T16:23:59.545102Z",
     "shell.execute_reply.started": "2022-06-06T16:23:46.939551Z"
    }
   },
   "outputs": [
    {
     "data": {
      "text/html": [
       "<table border='1'>\n",
       "<tr><th>count(1)</th></tr>\n",
       "<tr><td>7308288</td></tr>\n",
       "</table>\n"
      ],
      "text/plain": [
       "+--------+\n",
       "|count(1)|\n",
       "+--------+\n",
       "| 7308288|\n",
       "+--------+"
      ]
     },
     "execution_count": 14,
     "metadata": {},
     "output_type": "execute_result"
    }
   ],
   "source": [
    "#count the number of rows of data regarding alcoholic group\n",
    "EEG_data.createOrReplaceTempView('EEG_data_a')\n",
    "spark.sql(\"select count(*) from EEG_data_a where `subject identifier`='a'\")"
   ]
  },
  {
   "cell_type": "code",
   "execution_count": 15,
   "id": "443fff40-dd6d-4c39-b9b3-62e14308ac68",
   "metadata": {
    "execution": {
     "iopub.execute_input": "2022-06-06T16:23:59.546126Z",
     "iopub.status.busy": "2022-06-06T16:23:59.545933Z",
     "iopub.status.idle": "2022-06-06T16:24:10.555292Z",
     "shell.execute_reply": "2022-06-06T16:24:10.554917Z",
     "shell.execute_reply.started": "2022-06-06T16:23:59.546111Z"
    }
   },
   "outputs": [
    {
     "data": {
      "text/html": [
       "<table border='1'>\n",
       "<tr><th>count(1)</th></tr>\n",
       "<tr><td>7120896</td></tr>\n",
       "</table>\n"
      ],
      "text/plain": [
       "+--------+\n",
       "|count(1)|\n",
       "+--------+\n",
       "| 7120896|\n",
       "+--------+"
      ]
     },
     "execution_count": 15,
     "metadata": {},
     "output_type": "execute_result"
    }
   ],
   "source": [
    "#count the number of rows of data regarding control group\n",
    "EEG_data.createOrReplaceTempView('EEG_data_a')\n",
    "spark.sql(\"select count(*) from EEG_data_a where `subject identifier`='c'\")"
   ]
  },
  {
   "cell_type": "code",
   "execution_count": 16,
   "id": "e7558bb7-0224-4e03-aa95-56fce4a854c7",
   "metadata": {
    "execution": {
     "iopub.execute_input": "2022-06-06T16:24:10.556143Z",
     "iopub.status.busy": "2022-06-06T16:24:10.555980Z",
     "iopub.status.idle": "2022-06-06T16:24:14.606343Z",
     "shell.execute_reply": "2022-06-06T16:24:14.605664Z",
     "shell.execute_reply.started": "2022-06-06T16:24:10.556124Z"
    }
   },
   "outputs": [
    {
     "name": "stdout",
     "output_type": "stream",
     "text": [
      "+------------------+\n",
      "|subject identifier|\n",
      "+------------------+\n",
      "|                 c|\n",
      "|                 a|\n",
      "+------------------+\n",
      "\n"
     ]
    }
   ],
   "source": [
    "#show the distinc label in the experiment\n",
    "EEG_data.select('subject identifier').distinct().show()"
   ]
  },
  {
   "cell_type": "code",
   "execution_count": 17,
   "id": "5f324995-5a9b-4e94-9411-0157732a441c",
   "metadata": {
    "execution": {
     "iopub.execute_input": "2022-06-06T16:24:14.607804Z",
     "iopub.status.busy": "2022-06-06T16:24:14.607348Z",
     "iopub.status.idle": "2022-06-06T16:24:18.614346Z",
     "shell.execute_reply": "2022-06-06T16:24:18.613820Z",
     "shell.execute_reply.started": "2022-06-06T16:24:14.607769Z"
    }
   },
   "outputs": [
    {
     "name": "stdout",
     "output_type": "stream",
     "text": [
      "+------------------+\n",
      "|matching condition|\n",
      "+------------------+\n",
      "|        S2 nomatch|\n",
      "|          S2 match|\n",
      "|            S1 obj|\n",
      "+------------------+\n",
      "\n"
     ]
    }
   ],
   "source": [
    "#show the distinc maching condition in the experiment\n",
    "EEG_data.select('matching condition').distinct().show()"
   ]
  },
  {
   "cell_type": "code",
   "execution_count": 18,
   "id": "8230fa84-2438-4cf8-8bf2-fd3d6eb2922c",
   "metadata": {
    "execution": {
     "iopub.execute_input": "2022-06-06T16:24:18.615443Z",
     "iopub.status.busy": "2022-06-06T16:24:18.615229Z",
     "iopub.status.idle": "2022-06-06T16:24:21.811534Z",
     "shell.execute_reply": "2022-06-06T16:24:21.810955Z",
     "shell.execute_reply.started": "2022-06-06T16:24:18.615418Z"
    }
   },
   "outputs": [
    {
     "name": "stdout",
     "output_type": "stream",
     "text": [
      "+-----------+\n",
      "|       name|\n",
      "+-----------+\n",
      "|co2c0000345|\n",
      "|co2a0000369|\n",
      "|co2a0000371|\n",
      "|co2a0000375|\n",
      "|co2a0000365|\n",
      "|co2c0000339|\n",
      "|co2c0000337|\n",
      "|co2c0000342|\n",
      "|co2a0000368|\n",
      "|co2c0000344|\n",
      "|co2a0000364|\n",
      "|co2c0000338|\n",
      "|co2c0000340|\n",
      "|co2c0000341|\n",
      "|co2a0000370|\n",
      "|co2a0000372|\n",
      "+-----------+\n",
      "\n"
     ]
    }
   ],
   "source": [
    "#show the distinc person in the experiment\n",
    "EEG_data.select('name').distinct().show()"
   ]
  },
  {
   "cell_type": "markdown",
   "id": "1bc8f257-b9cb-4e60-9318-498b8382d778",
   "metadata": {},
   "source": [
    "<h1>visualization</h1>\n",
    "\n",
    "<pre>For this purpose I will <b>randmoly</b> choose one subject of the each group[alcoholic, control], \n",
    "     and to be able to visulise them based on the stimulus they saw 1.s1 obj 2. nomatch 3. match.\n",
    "     \n",
    "     in the second part of Visulization we check for correlation between differenr brain region of the dataset divied into groups of group[alcoholic, control] and with respect to stimuls they saw  1.s1 obj 2. nomatch 3. match.\n",
    "        \n",
    "</pre>"
   ]
  },
  {
   "cell_type": "code",
   "execution_count": 19,
   "id": "843e66f5-16f1-40a2-b599-e1b86628c63c",
   "metadata": {
    "execution": {
     "iopub.execute_input": "2022-06-06T16:24:21.812695Z",
     "iopub.status.busy": "2022-06-06T16:24:21.812447Z",
     "iopub.status.idle": "2022-06-06T16:28:10.234016Z",
     "shell.execute_reply": "2022-06-06T16:28:10.233605Z",
     "shell.execute_reply.started": "2022-06-06T16:24:21.812667Z"
    },
    "tags": []
   },
   "outputs": [
    {
     "data": {
      "image/png": "[encoded data removed]",
      "text/plain": [
       "<Figure size 720x360 with 4 Axes>"
      ]
     },
     "metadata": {
      "needs_background": "light"
     },
     "output_type": "display_data"
    },
    {
     "data": {
      "image/png": "[encoded data removed]",
      "text/plain": [
       "<Figure size 720x360 with 4 Axes>"
      ]
     },
     "metadata": {
      "needs_background": "light"
     },
     "output_type": "display_data"
    },
    {
     "data": {
      "image/png": "[encoded data removed]",
      "text/plain": [
       "<Figure size 720x360 with 4 Axes>"
      ]
     },
     "metadata": {
      "needs_background": "light"
     },
     "output_type": "display_data"
    },
    {
     "data": {
      "image/png": "[encoded data removed]",
      "text/plain": [
       "<Figure size 432x288 with 1 Axes>"
      ]
     },
     "metadata": {
      "needs_background": "light"
     },
     "output_type": "display_data"
    },
    {
     "data": {
      "image/png": "[encoded data removed]",
      "text/plain": [
       "<Figure size 432x288 with 1 Axes>"
      ]
     },
     "metadata": {
      "needs_background": "light"
     },
     "output_type": "display_data"
    },
    {
     "data": {
      "image/png": "[encoded data removed]",
      "text/plain": [
       "<Figure size 432x288 with 1 Axes>"
      ]
     },
     "metadata": {
      "needs_background": "light"
     },
     "output_type": "display_data"
    },
    {
     "data": {
      "application/vnd.plotly.v1+json": {
       "config": {
        "linkText": "Export to plot.ly",
        "plotlyServerURL": "https://plot.ly",
        "showLink": false
       },
       "data": [
        {
         "marker": {
          "color": "rgb(10,200,45)"
         },
         "name": "Alcoholic Group",
         "text": [
          21,
          25,
          20,
          26,
          17,
          18,
          14,
          21,
          26,
          24,
          15,
          24,
          19,
          25,
          22,
          24,
          20,
          22,
          24,
          24,
          23,
          26,
          22,
          25,
          25
         ],
         "type": "bar",
         "x": [
          "AF3-AF4",
          "AF3-AFZ",
          "AF3-F1",
          "AF4-AFZ",
          "AF4-F2",
          "AFZ-FZ",
          "CP3-P3",
          "CP4-P4",
          "F1-F3",
          "F1-FZ",
          "F2-F4",
          "F2-FZ",
          "FP2-FPZ",
          "O1-OZ",
          "O1-PO3",
          "O2-OZ",
          "OZ-POZ",
          "P1-P3",
          "P1-PO3",
          "P3-P5",
          "P3-PO3",
          "P4-P6",
          "P5-P7",
          "P6-P8",
          "PO3-POZ"
         ],
         "y": [
          0.8076923076923077,
          0.9615384615384616,
          0.7692307692307693,
          1,
          0.6538461538461539,
          0.6923076923076923,
          0.5384615384615384,
          0.8076923076923077,
          1,
          0.9230769230769231,
          0.5769230769230769,
          0.9230769230769231,
          0.7307692307692307,
          0.9615384615384616,
          0.8461538461538461,
          0.9230769230769231,
          0.7692307692307693,
          0.8461538461538461,
          0.9230769230769231,
          0.9230769230769231,
          0.8846153846153846,
          1,
          0.8461538461538461,
          0.9615384615384616,
          0.9615384615384616
         ]
        },
        {
         "marker": {
          "color": "rgb(200,30,45)"
         },
         "name": "Control Group",
         "text": [
          29,
          29,
          25,
          32,
          29,
          28,
          27,
          22,
          30,
          33,
          28,
          30,
          30,
          32,
          27,
          32,
          22,
          32,
          29,
          31,
          26,
          30,
          32,
          30,
          30
         ],
         "type": "bar",
         "x": [
          "AF3-AF4",
          "AF3-AFZ",
          "AF3-F1",
          "AF4-AFZ",
          "AF4-F2",
          "AFZ-FZ",
          "CP3-P3",
          "CP4-P4",
          "F1-F3",
          "F1-FZ",
          "F2-F4",
          "F2-FZ",
          "FP2-FPZ",
          "O1-OZ",
          "O1-PO3",
          "O2-OZ",
          "OZ-POZ",
          "P1-P3",
          "P1-PO3",
          "P3-P5",
          "P3-PO3",
          "P4-P6",
          "P5-P7",
          "P6-P8",
          "PO3-POZ"
         ],
         "y": [
          0.8787878787878788,
          0.8787878787878788,
          0.7575757575757576,
          0.9696969696969697,
          0.8787878787878788,
          0.8484848484848485,
          0.8181818181818182,
          0.6666666666666666,
          0.9090909090909091,
          1,
          0.8484848484848485,
          0.9090909090909091,
          0.9090909090909091,
          0.9696969696969697,
          0.8181818181818182,
          0.9696969696969697,
          0.6666666666666666,
          0.9696969696969697,
          0.8787878787878788,
          0.9393939393939394,
          0.7878787878787878,
          0.9090909090909091,
          0.9696969696969697,
          0.9090909090909091,
          0.9090909090909091
         ]
        }
       ],
       "layout": {
        "autosize": true,
        "barmode": "group",
        "template": {
         "data": {
          "bar": [
           {
            "error_x": {
             "color": "#2a3f5f"
            },
            "error_y": {
             "color": "#2a3f5f"
            },
            "marker": {
             "line": {
              "color": "#E5ECF6",
              "width": 0.5
             },
             "pattern": {
              "fillmode": "overlay",
              "size": 10,
              "solidity": 0.2
             }
            },
            "type": "bar"
           }
          ],
          "barpolar": [
           {
            "marker": {
             "line": {
              "color": "#E5ECF6",
              "width": 0.5
             },
             "pattern": {
              "fillmode": "overlay",
              "size": 10,
              "solidity": 0.2
             }
            },
            "type": "barpolar"
           }
          ],
          "carpet": [
           {
            "aaxis": {
             "endlinecolor": "#2a3f5f",
             "gridcolor": "white",
             "linecolor": "white",
             "minorgridcolor": "white",
             "startlinecolor": "#2a3f5f"
            },
            "baxis": {
             "endlinecolor": "#2a3f5f",
             "gridcolor": "white",
             "linecolor": "white",
             "minorgridcolor": "white",
             "startlinecolor": "#2a3f5f"
            },
            "type": "carpet"
           }
          ],
          "choropleth": [
           {
            "colorbar": {
             "outlinewidth": 0,
             "ticks": ""
            },
            "type": "choropleth"
           }
          ],
          "contour": [
           {
            "colorbar": {
             "outlinewidth": 0,
             "ticks": ""
            },
            "colorscale": [
             [
              0,
              "#0d0887"
             ],
             [
              0.1111111111111111,
              "#46039f"
             ],
             [
              0.2222222222222222,
              "#7201a8"
             ],
             [
              0.3333333333333333,
              "#9c179e"
             ],
             [
              0.4444444444444444,
              "#bd3786"
             ],
             [
              0.5555555555555556,
              "#d8576b"
             ],
             [
              0.6666666666666666,
              "#ed7953"
             ],
             [
              0.7777777777777778,
              "#fb9f3a"
             ],
             [
              0.8888888888888888,
              "#fdca26"
             ],
             [
              1,
              "#f0f921"
             ]
            ],
            "type": "contour"
           }
          ],
          "contourcarpet": [
           {
            "colorbar": {
             "outlinewidth": 0,
             "ticks": ""
            },
            "type": "contourcarpet"
           }
          ],
          "heatmap": [
           {
            "colorbar": {
             "outlinewidth": 0,
             "ticks": ""
            },
            "colorscale": [
             [
              0,
              "#0d0887"
             ],
             [
              0.1111111111111111,
              "#46039f"
             ],
             [
              0.2222222222222222,
              "#7201a8"
             ],
             [
              0.3333333333333333,
              "#9c179e"
             ],
             [
              0.4444444444444444,
              "#bd3786"
             ],
             [
              0.5555555555555556,
              "#d8576b"
             ],
             [
              0.6666666666666666,
              "#ed7953"
             ],
             [
              0.7777777777777778,
              "#fb9f3a"
             ],
             [
              0.8888888888888888,
              "#fdca26"
             ],
             [
              1,
              "#f0f921"
             ]
            ],
            "type": "heatmap"
           }
          ],
          "heatmapgl": [
           {
            "colorbar": {
             "outlinewidth": 0,
             "ticks": ""
            },
            "colorscale": [
             [
              0,
              "#0d0887"
             ],
             [
              0.1111111111111111,
              "#46039f"
             ],
             [
              0.2222222222222222,
              "#7201a8"
             ],
             [
              0.3333333333333333,
              "#9c179e"
             ],
             [
              0.4444444444444444,
              "#bd3786"
             ],
             [
              0.5555555555555556,
              "#d8576b"
             ],
             [
              0.6666666666666666,
              "#ed7953"
             ],
             [
              0.7777777777777778,
              "#fb9f3a"
             ],
             [
              0.8888888888888888,
              "#fdca26"
             ],
             [
              1,
              "#f0f921"
             ]
            ],
            "type": "heatmapgl"
           }
          ],
          "histogram": [
           {
            "marker": {
             "pattern": {
              "fillmode": "overlay",
              "size": 10,
              "solidity": 0.2
             }
            },
            "type": "histogram"
           }
          ],
          "histogram2d": [
           {
            "colorbar": {
             "outlinewidth": 0,
             "ticks": ""
            },
            "colorscale": [
             [
              0,
              "#0d0887"
             ],
             [
              0.1111111111111111,
              "#46039f"
             ],
             [
              0.2222222222222222,
              "#7201a8"
             ],
             [
              0.3333333333333333,
              "#9c179e"
             ],
             [
              0.4444444444444444,
              "#bd3786"
             ],
             [
              0.5555555555555556,
              "#d8576b"
             ],
             [
              0.6666666666666666,
              "#ed7953"
             ],
             [
              0.7777777777777778,
              "#fb9f3a"
             ],
             [
              0.8888888888888888,
              "#fdca26"
             ],
             [
              1,
              "#f0f921"
             ]
            ],
            "type": "histogram2d"
           }
          ],
          "histogram2dcontour": [
           {
            "colorbar": {
             "outlinewidth": 0,
             "ticks": ""
            },
            "colorscale": [
             [
              0,
              "#0d0887"
             ],
             [
              0.1111111111111111,
              "#46039f"
             ],
             [
              0.2222222222222222,
              "#7201a8"
             ],
             [
              0.3333333333333333,
              "#9c179e"
             ],
             [
              0.4444444444444444,
              "#bd3786"
             ],
             [
              0.5555555555555556,
              "#d8576b"
             ],
             [
              0.6666666666666666,
              "#ed7953"
             ],
             [
              0.7777777777777778,
              "#fb9f3a"
             ],
             [
              0.8888888888888888,
              "#fdca26"
             ],
             [
              1,
              "#f0f921"
             ]
            ],
            "type": "histogram2dcontour"
           }
          ],
          "mesh3d": [
           {
            "colorbar": {
             "outlinewidth": 0,
             "ticks": ""
            },
            "type": "mesh3d"
           }
          ],
          "parcoords": [
           {
            "line": {
             "colorbar": {
              "outlinewidth": 0,
              "ticks": ""
             }
            },
            "type": "parcoords"
           }
          ],
          "pie": [
           {
            "automargin": true,
            "type": "pie"
           }
          ],
          "scatter": [
           {
            "fillpattern": {
             "fillmode": "overlay",
             "size": 10,
             "solidity": 0.2
            },
            "type": "scatter"
           }
          ],
          "scatter3d": [
           {
            "line": {
             "colorbar": {
              "outlinewidth": 0,
              "ticks": ""
             }
            },
            "marker": {
             "colorbar": {
              "outlinewidth": 0,
              "ticks": ""
             }
            },
            "type": "scatter3d"
           }
          ],
          "scattercarpet": [
           {
            "marker": {
             "colorbar": {
              "outlinewidth": 0,
              "ticks": ""
             }
            },
            "type": "scattercarpet"
           }
          ],
          "scattergeo": [
           {
            "marker": {
             "colorbar": {
              "outlinewidth": 0,
              "ticks": ""
             }
            },
            "type": "scattergeo"
           }
          ],
          "scattergl": [
           {
            "marker": {
             "colorbar": {
              "outlinewidth": 0,
              "ticks": ""
             }
            },
            "type": "scattergl"
           }
          ],
          "scattermapbox": [
           {
            "marker": {
             "colorbar": {
              "outlinewidth": 0,
              "ticks": ""
             }
            },
            "type": "scattermapbox"
           }
          ],
          "scatterpolar": [
           {
            "marker": {
             "colorbar": {
              "outlinewidth": 0,
              "ticks": ""
             }
            },
            "type": "scatterpolar"
           }
          ],
          "scatterpolargl": [
           {
            "marker": {
             "colorbar": {
              "outlinewidth": 0,
              "ticks": ""
             }
            },
            "type": "scatterpolargl"
           }
          ],
          "scatterternary": [
           {
            "marker": {
             "colorbar": {
              "outlinewidth": 0,
              "ticks": ""
             }
            },
            "type": "scatterternary"
           }
          ],
          "surface": [
           {
            "colorbar": {
             "outlinewidth": 0,
             "ticks": ""
            },
            "colorscale": [
             [
              0,
              "#0d0887"
             ],
             [
              0.1111111111111111,
              "#46039f"
             ],
             [
              0.2222222222222222,
              "#7201a8"
             ],
             [
              0.3333333333333333,
              "#9c179e"
             ],
             [
              0.4444444444444444,
              "#bd3786"
             ],
             [
              0.5555555555555556,
              "#d8576b"
             ],
             [
              0.6666666666666666,
              "#ed7953"
             ],
             [
              0.7777777777777778,
              "#fb9f3a"
             ],
             [
              0.8888888888888888,
              "#fdca26"
             ],
             [
              1,
              "#f0f921"
             ]
            ],
            "type": "surface"
           }
          ],
          "table": [
           {
            "cells": {
             "fill": {
              "color": "#EBF0F8"
             },
             "line": {
              "color": "white"
             }
            },
            "header": {
             "fill": {
              "color": "#C8D4E3"
             },
             "line": {
              "color": "white"
             }
            },
            "type": "table"
           }
          ]
         },
         "layout": {
          "annotationdefaults": {
           "arrowcolor": "#2a3f5f",
           "arrowhead": 0,
           "arrowwidth": 1
          },
          "autotypenumbers": "strict",
          "coloraxis": {
           "colorbar": {
            "outlinewidth": 0,
            "ticks": ""
           }
          },
          "colorscale": {
           "diverging": [
            [
             0,
             "#8e0152"
            ],
            [
             0.1,
             "#c51b7d"
            ],
            [
             0.2,
             "#de77ae"
            ],
            [
             0.3,
             "#f1b6da"
            ],
            [
             0.4,
             "#fde0ef"
            ],
            [
             0.5,
             "#f7f7f7"
            ],
            [
             0.6,
             "#e6f5d0"
            ],
            [
             0.7,
             "#b8e186"
            ],
            [
             0.8,
             "#7fbc41"
            ],
            [
             0.9,
             "#4d9221"
            ],
            [
             1,
             "#276419"
            ]
           ],
           "sequential": [
            [
             0,
             "#0d0887"
            ],
            [
             0.1111111111111111,
             "#46039f"
            ],
            [
             0.2222222222222222,
             "#7201a8"
            ],
            [
             0.3333333333333333,
             "#9c179e"
            ],
            [
             0.4444444444444444,
             "#bd3786"
            ],
            [
             0.5555555555555556,
             "#d8576b"
            ],
            [
             0.6666666666666666,
             "#ed7953"
            ],
            [
             0.7777777777777778,
             "#fb9f3a"
            ],
            [
             0.8888888888888888,
             "#fdca26"
            ],
            [
             1,
             "#f0f921"
            ]
           ],
           "sequentialminus": [
            [
             0,
             "#0d0887"
            ],
            [
             0.1111111111111111,
             "#46039f"
            ],
            [
             0.2222222222222222,
             "#7201a8"
            ],
            [
             0.3333333333333333,
             "#9c179e"
            ],
            [
             0.4444444444444444,
             "#bd3786"
            ],
            [
             0.5555555555555556,
             "#d8576b"
            ],
            [
             0.6666666666666666,
             "#ed7953"
            ],
            [
             0.7777777777777778,
             "#fb9f3a"
            ],
            [
             0.8888888888888888,
             "#fdca26"
            ],
            [
             1,
             "#f0f921"
            ]
           ]
          },
          "colorway": [
           "#636efa",
           "#EF553B",
           "#00cc96",
           "#ab63fa",
           "#FFA15A",
           "#19d3f3",
           "#FF6692",
           "#B6E880",
           "#FF97FF",
           "#FECB52"
          ],
          "font": {
           "color": "#2a3f5f"
          },
          "geo": {
           "bgcolor": "white",
           "lakecolor": "white",
           "landcolor": "#E5ECF6",
           "showlakes": true,
           "showland": true,
           "subunitcolor": "white"
          },
          "hoverlabel": {
           "align": "left"
          },
          "hovermode": "closest",
          "mapbox": {
           "style": "light"
          },
          "paper_bgcolor": "white",
          "plot_bgcolor": "#E5ECF6",
          "polar": {
           "angularaxis": {
            "gridcolor": "white",
            "linecolor": "white",
            "ticks": ""
           },
           "bgcolor": "#E5ECF6",
           "radialaxis": {
            "gridcolor": "white",
            "linecolor": "white",
            "ticks": ""
           }
          },
          "scene": {
           "xaxis": {
            "backgroundcolor": "#E5ECF6",
            "gridcolor": "white",
            "gridwidth": 2,
            "linecolor": "white",
            "showbackground": true,
            "ticks": "",
            "zerolinecolor": "white"
           },
           "yaxis": {
            "backgroundcolor": "#E5ECF6",
            "gridcolor": "white",
            "gridwidth": 2,
            "linecolor": "white",
            "showbackground": true,
            "ticks": "",
            "zerolinecolor": "white"
           },
           "zaxis": {
            "backgroundcolor": "#E5ECF6",
            "gridcolor": "white",
            "gridwidth": 2,
            "linecolor": "white",
            "showbackground": true,
            "ticks": "",
            "zerolinecolor": "white"
           }
          },
          "shapedefaults": {
           "line": {
            "color": "#2a3f5f"
           }
          },
          "ternary": {
           "aaxis": {
            "gridcolor": "white",
            "linecolor": "white",
            "ticks": ""
           },
           "baxis": {
            "gridcolor": "white",
            "linecolor": "white",
            "ticks": ""
           },
           "bgcolor": "#E5ECF6",
           "caxis": {
            "gridcolor": "white",
            "linecolor": "white",
            "ticks": ""
           }
          },
          "title": {
           "x": 0.05
          },
          "xaxis": {
           "automargin": true,
           "gridcolor": "white",
           "linecolor": "white",
           "ticks": "",
           "title": {
            "standoff": 15
           },
           "zerolinecolor": "white",
           "zerolinewidth": 2
          },
          "yaxis": {
           "automargin": true,
           "gridcolor": "white",
           "linecolor": "white",
           "ticks": "",
           "title": {
            "standoff": 15
           },
           "zerolinecolor": "white",
           "zerolinewidth": 2
          }
         }
        },
        "title": {
         "text": "Amount of Correlated Pairs for the whole Data Set (S1 obj stimulus)"
        },
        "xaxis": {
         "autorange": true,
         "range": [
          -0.5,
          24.5
         ],
         "title": {
          "text": "Channel Pairs"
         },
         "type": "category"
        },
        "yaxis": {
         "autorange": true,
         "range": [
          0,
          1.0526315789473684
         ],
         "title": {
          "text": "Ratio of Trail count by count of group"
         },
         "type": "linear"
        }
       }
      },
      "image/png": "[encoded data removed]",
      "text/html": [
       "<div>                            <div id=\"48c0a7ce-7f88-4e63-b1b1-03cbff24dc01\" class=\"plotly-graph-div\" style=\"height:525px; width:100%;\"></div>            <script type=\"text/javascript\">                require([\"plotly\"], function(Plotly) {                    window.PLOTLYENV=window.PLOTLYENV || {};                                    if (document.getElementById(\"48c0a7ce-7f88-4e63-b1b1-03cbff24dc01\")) {                    Plotly.newPlot(                        \"48c0a7ce-7f88-4e63-b1b1-03cbff24dc01\",                        [{\"marker\":{\"color\":\"rgb(10,200,45)\"},\"name\":\"Alcoholic Group\",\"text\":[21.0,25.0,20.0,26.0,17.0,18.0,14.0,21.0,26.0,24.0,15.0,24.0,19.0,25.0,22.0,24.0,20.0,22.0,24.0,24.0,23.0,26.0,22.0,25.0,25.0],\"x\":[\"AF3-AF4\",\"AF3-AFZ\",\"AF3-F1\",\"AF4-AFZ\",\"AF4-F2\",\"AFZ-FZ\",\"CP3-P3\",\"CP4-P4\",\"F1-F3\",\"F1-FZ\",\"F2-F4\",\"F2-FZ\",\"FP2-FPZ\",\"O1-OZ\",\"O1-PO3\",\"O2-OZ\",\"OZ-POZ\",\"P1-P3\",\"P1-PO3\",\"P3-P5\",\"P3-PO3\",\"P4-P6\",\"P5-P7\",\"P6-P8\",\"PO3-POZ\"],\"y\":[0.8076923076923077,0.9615384615384616,0.7692307692307693,1.0,0.6538461538461539,0.6923076923076923,0.5384615384615384,0.8076923076923077,1.0,0.9230769230769231,0.5769230769230769,0.9230769230769231,0.7307692307692307,0.9615384615384616,0.8461538461538461,0.9230769230769231,0.7692307692307693,0.8461538461538461,0.9230769230769231,0.9230769230769231,0.8846153846153846,1.0,0.8461538461538461,0.9615384615384616,0.9615384615384616],\"type\":\"bar\"},{\"marker\":{\"color\":\"rgb(200,30,45)\"},\"name\":\"Control Group\",\"text\":[29.0,29.0,25.0,32.0,29.0,28.0,27.0,22.0,30.0,33.0,28.0,30.0,30.0,32.0,27.0,32.0,22.0,32.0,29.0,31.0,26.0,30.0,32.0,30.0,30.0],\"x\":[\"AF3-AF4\",\"AF3-AFZ\",\"AF3-F1\",\"AF4-AFZ\",\"AF4-F2\",\"AFZ-FZ\",\"CP3-P3\",\"CP4-P4\",\"F1-F3\",\"F1-FZ\",\"F2-F4\",\"F2-FZ\",\"FP2-FPZ\",\"O1-OZ\",\"O1-PO3\",\"O2-OZ\",\"OZ-POZ\",\"P1-P3\",\"P1-PO3\",\"P3-P5\",\"P3-PO3\",\"P4-P6\",\"P5-P7\",\"P6-P8\",\"PO3-POZ\"],\"y\":[0.8787878787878788,0.8787878787878788,0.7575757575757576,0.9696969696969697,0.8787878787878788,0.8484848484848485,0.8181818181818182,0.6666666666666666,0.9090909090909091,1.0,0.8484848484848485,0.9090909090909091,0.9090909090909091,0.9696969696969697,0.8181818181818182,0.9696969696969697,0.6666666666666666,0.9696969696969697,0.8787878787878788,0.9393939393939394,0.7878787878787878,0.9090909090909091,0.9696969696969697,0.9090909090909091,0.9090909090909091],\"type\":\"bar\"}],                        {\"barmode\":\"group\",\"template\":{\"data\":{\"barpolar\":[{\"marker\":{\"line\":{\"color\":\"#E5ECF6\",\"width\":0.5},\"pattern\":{\"fillmode\":\"overlay\",\"size\":10,\"solidity\":0.2}},\"type\":\"barpolar\"}],\"bar\":[{\"error_x\":{\"color\":\"#2a3f5f\"},\"error_y\":{\"color\":\"#2a3f5f\"},\"marker\":{\"line\":{\"color\":\"#E5ECF6\",\"width\":0.5},\"pattern\":{\"fillmode\":\"overlay\",\"size\":10,\"solidity\":0.2}},\"type\":\"bar\"}],\"carpet\":[{\"aaxis\":{\"endlinecolor\":\"#2a3f5f\",\"gridcolor\":\"white\",\"linecolor\":\"white\",\"minorgridcolor\":\"white\",\"startlinecolor\":\"#2a3f5f\"},\"baxis\":{\"endlinecolor\":\"#2a3f5f\",\"gridcolor\":\"white\",\"linecolor\":\"white\",\"minorgridcolor\":\"white\",\"startlinecolor\":\"#2a3f5f\"},\"type\":\"carpet\"}],\"choropleth\":[{\"colorbar\":{\"outlinewidth\":0,\"ticks\":\"\"},\"type\":\"choropleth\"}],\"contourcarpet\":[{\"colorbar\":{\"outlinewidth\":0,\"ticks\":\"\"},\"type\":\"contourcarpet\"}],\"contour\":[{\"colorbar\":{\"outlinewidth\":0,\"ticks\":\"\"},\"colorscale\":[[0.0,\"#0d0887\"],[0.1111111111111111,\"#46039f\"],[0.2222222222222222,\"#7201a8\"],[0.3333333333333333,\"#9c179e\"],[0.4444444444444444,\"#bd3786\"],[0.5555555555555556,\"#d8576b\"],[0.6666666666666666,\"#ed7953\"],[0.7777777777777778,\"#fb9f3a\"],[0.8888888888888888,\"#fdca26\"],[1.0,\"#f0f921\"]],\"type\":\"contour\"}],\"heatmapgl\":[{\"colorbar\":{\"outlinewidth\":0,\"ticks\":\"\"},\"colorscale\":[[0.0,\"#0d0887\"],[0.1111111111111111,\"#46039f\"],[0.2222222222222222,\"#7201a8\"],[0.3333333333333333,\"#9c179e\"],[0.4444444444444444,\"#bd3786\"],[0.5555555555555556,\"#d8576b\"],[0.6666666666666666,\"#ed7953\"],[0.7777777777777778,\"#fb9f3a\"],[0.8888888888888888,\"#fdca26\"],[1.0,\"#f0f921\"]],\"type\":\"heatmapgl\"}],\"heatmap\":[{\"colorbar\":{\"outlinewidth\":0,\"ticks\":\"\"},\"colorscale\":[[0.0,\"#0d0887\"],[0.1111111111111111,\"#46039f\"],[0.2222222222222222,\"#7201a8\"],[0.3333333333333333,\"#9c179e\"],[0.4444444444444444,\"#bd3786\"],[0.5555555555555556,\"#d8576b\"],[0.6666666666666666,\"#ed7953\"],[0.7777777777777778,\"#fb9f3a\"],[0.8888888888888888,\"#fdca26\"],[1.0,\"#f0f921\"]],\"type\":\"heatmap\"}],\"histogram2dcontour\":[{\"colorbar\":{\"outlinewidth\":0,\"ticks\":\"\"},\"colorscale\":[[0.0,\"#0d0887\"],[0.1111111111111111,\"#46039f\"],[0.2222222222222222,\"#7201a8\"],[0.3333333333333333,\"#9c179e\"],[0.4444444444444444,\"#bd3786\"],[0.5555555555555556,\"#d8576b\"],[0.6666666666666666,\"#ed7953\"],[0.7777777777777778,\"#fb9f3a\"],[0.8888888888888888,\"#fdca26\"],[1.0,\"#f0f921\"]],\"type\":\"histogram2dcontour\"}],\"histogram2d\":[{\"colorbar\":{\"outlinewidth\":0,\"ticks\":\"\"},\"colorscale\":[[0.0,\"#0d0887\"],[0.1111111111111111,\"#46039f\"],[0.2222222222222222,\"#7201a8\"],[0.3333333333333333,\"#9c179e\"],[0.4444444444444444,\"#bd3786\"],[0.5555555555555556,\"#d8576b\"],[0.6666666666666666,\"#ed7953\"],[0.7777777777777778,\"#fb9f3a\"],[0.8888888888888888,\"#fdca26\"],[1.0,\"#f0f921\"]],\"type\":\"histogram2d\"}],\"histogram\":[{\"marker\":{\"pattern\":{\"fillmode\":\"overlay\",\"size\":10,\"solidity\":0.2}},\"type\":\"histogram\"}],\"mesh3d\":[{\"colorbar\":{\"outlinewidth\":0,\"ticks\":\"\"},\"type\":\"mesh3d\"}],\"parcoords\":[{\"line\":{\"colorbar\":{\"outlinewidth\":0,\"ticks\":\"\"}},\"type\":\"parcoords\"}],\"pie\":[{\"automargin\":true,\"type\":\"pie\"}],\"scatter3d\":[{\"line\":{\"colorbar\":{\"outlinewidth\":0,\"ticks\":\"\"}},\"marker\":{\"colorbar\":{\"outlinewidth\":0,\"ticks\":\"\"}},\"type\":\"scatter3d\"}],\"scattercarpet\":[{\"marker\":{\"colorbar\":{\"outlinewidth\":0,\"ticks\":\"\"}},\"type\":\"scattercarpet\"}],\"scattergeo\":[{\"marker\":{\"colorbar\":{\"outlinewidth\":0,\"ticks\":\"\"}},\"type\":\"scattergeo\"}],\"scattergl\":[{\"marker\":{\"colorbar\":{\"outlinewidth\":0,\"ticks\":\"\"}},\"type\":\"scattergl\"}],\"scattermapbox\":[{\"marker\":{\"colorbar\":{\"outlinewidth\":0,\"ticks\":\"\"}},\"type\":\"scattermapbox\"}],\"scatterpolargl\":[{\"marker\":{\"colorbar\":{\"outlinewidth\":0,\"ticks\":\"\"}},\"type\":\"scatterpolargl\"}],\"scatterpolar\":[{\"marker\":{\"colorbar\":{\"outlinewidth\":0,\"ticks\":\"\"}},\"type\":\"scatterpolar\"}],\"scatter\":[{\"fillpattern\":{\"fillmode\":\"overlay\",\"size\":10,\"solidity\":0.2},\"type\":\"scatter\"}],\"scatterternary\":[{\"marker\":{\"colorbar\":{\"outlinewidth\":0,\"ticks\":\"\"}},\"type\":\"scatterternary\"}],\"surface\":[{\"colorbar\":{\"outlinewidth\":0,\"ticks\":\"\"},\"colorscale\":[[0.0,\"#0d0887\"],[0.1111111111111111,\"#46039f\"],[0.2222222222222222,\"#7201a8\"],[0.3333333333333333,\"#9c179e\"],[0.4444444444444444,\"#bd3786\"],[0.5555555555555556,\"#d8576b\"],[0.6666666666666666,\"#ed7953\"],[0.7777777777777778,\"#fb9f3a\"],[0.8888888888888888,\"#fdca26\"],[1.0,\"#f0f921\"]],\"type\":\"surface\"}],\"table\":[{\"cells\":{\"fill\":{\"color\":\"#EBF0F8\"},\"line\":{\"color\":\"white\"}},\"header\":{\"fill\":{\"color\":\"#C8D4E3\"},\"line\":{\"color\":\"white\"}},\"type\":\"table\"}]},\"layout\":{\"annotationdefaults\":{\"arrowcolor\":\"#2a3f5f\",\"arrowhead\":0,\"arrowwidth\":1},\"autotypenumbers\":\"strict\",\"coloraxis\":{\"colorbar\":{\"outlinewidth\":0,\"ticks\":\"\"}},\"colorscale\":{\"diverging\":[[0,\"#8e0152\"],[0.1,\"#c51b7d\"],[0.2,\"#de77ae\"],[0.3,\"#f1b6da\"],[0.4,\"#fde0ef\"],[0.5,\"#f7f7f7\"],[0.6,\"#e6f5d0\"],[0.7,\"#b8e186\"],[0.8,\"#7fbc41\"],[0.9,\"#4d9221\"],[1,\"#276419\"]],\"sequential\":[[0.0,\"#0d0887\"],[0.1111111111111111,\"#46039f\"],[0.2222222222222222,\"#7201a8\"],[0.3333333333333333,\"#9c179e\"],[0.4444444444444444,\"#bd3786\"],[0.5555555555555556,\"#d8576b\"],[0.6666666666666666,\"#ed7953\"],[0.7777777777777778,\"#fb9f3a\"],[0.8888888888888888,\"#fdca26\"],[1.0,\"#f0f921\"]],\"sequentialminus\":[[0.0,\"#0d0887\"],[0.1111111111111111,\"#46039f\"],[0.2222222222222222,\"#7201a8\"],[0.3333333333333333,\"#9c179e\"],[0.4444444444444444,\"#bd3786\"],[0.5555555555555556,\"#d8576b\"],[0.6666666666666666,\"#ed7953\"],[0.7777777777777778,\"#fb9f3a\"],[0.8888888888888888,\"#fdca26\"],[1.0,\"#f0f921\"]]},\"colorway\":[\"#636efa\",\"#EF553B\",\"#00cc96\",\"#ab63fa\",\"#FFA15A\",\"#19d3f3\",\"#FF6692\",\"#B6E880\",\"#FF97FF\",\"#FECB52\"],\"font\":{\"color\":\"#2a3f5f\"},\"geo\":{\"bgcolor\":\"white\",\"lakecolor\":\"white\",\"landcolor\":\"#E5ECF6\",\"showlakes\":true,\"showland\":true,\"subunitcolor\":\"white\"},\"hoverlabel\":{\"align\":\"left\"},\"hovermode\":\"closest\",\"mapbox\":{\"style\":\"light\"},\"paper_bgcolor\":\"white\",\"plot_bgcolor\":\"#E5ECF6\",\"polar\":{\"angularaxis\":{\"gridcolor\":\"white\",\"linecolor\":\"white\",\"ticks\":\"\"},\"bgcolor\":\"#E5ECF6\",\"radialaxis\":{\"gridcolor\":\"white\",\"linecolor\":\"white\",\"ticks\":\"\"}},\"scene\":{\"xaxis\":{\"backgroundcolor\":\"#E5ECF6\",\"gridcolor\":\"white\",\"gridwidth\":2,\"linecolor\":\"white\",\"showbackground\":true,\"ticks\":\"\",\"zerolinecolor\":\"white\"},\"yaxis\":{\"backgroundcolor\":\"#E5ECF6\",\"gridcolor\":\"white\",\"gridwidth\":2,\"linecolor\":\"white\",\"showbackground\":true,\"ticks\":\"\",\"zerolinecolor\":\"white\"},\"zaxis\":{\"backgroundcolor\":\"#E5ECF6\",\"gridcolor\":\"white\",\"gridwidth\":2,\"linecolor\":\"white\",\"showbackground\":true,\"ticks\":\"\",\"zerolinecolor\":\"white\"}},\"shapedefaults\":{\"line\":{\"color\":\"#2a3f5f\"}},\"ternary\":{\"aaxis\":{\"gridcolor\":\"white\",\"linecolor\":\"white\",\"ticks\":\"\"},\"baxis\":{\"gridcolor\":\"white\",\"linecolor\":\"white\",\"ticks\":\"\"},\"bgcolor\":\"#E5ECF6\",\"caxis\":{\"gridcolor\":\"white\",\"linecolor\":\"white\",\"ticks\":\"\"}},\"title\":{\"x\":0.05},\"xaxis\":{\"automargin\":true,\"gridcolor\":\"white\",\"linecolor\":\"white\",\"ticks\":\"\",\"title\":{\"standoff\":15},\"zerolinecolor\":\"white\",\"zerolinewidth\":2},\"yaxis\":{\"automargin\":true,\"gridcolor\":\"white\",\"linecolor\":\"white\",\"ticks\":\"\",\"title\":{\"standoff\":15},\"zerolinecolor\":\"white\",\"zerolinewidth\":2}}},\"title\":{\"text\":\"Amount of Correlated Pairs for the whole Data Set (S1 obj stimulus)\"},\"xaxis\":{\"title\":{\"text\":\"Channel Pairs\"}},\"yaxis\":{\"title\":{\"text\":\"Ratio of Trail count by count of group\"}}},                        {\"responsive\": true}                    ).then(function(){\n",
       "                            \n",
       "var gd = document.getElementById('48c0a7ce-7f88-4e63-b1b1-03cbff24dc01');\n",
       "var x = new MutationObserver(function (mutations, observer) {{\n",
       "        var display = window.getComputedStyle(gd).display;\n",
       "        if (!display || display === 'none') {{\n",
       "            console.log([gd, 'removed!']);\n",
       "            Plotly.purge(gd);\n",
       "            observer.disconnect();\n",
       "        }}\n",
       "}});\n",
       "\n",
       "// Listen for the removal of the full notebook cells\n",
       "var notebookContainer = gd.closest('#notebook-container');\n",
       "if (notebookContainer) {{\n",
       "    x.observe(notebookContainer, {childList: true});\n",
       "}}\n",
       "\n",
       "// Listen for the clearing of the current output cell\n",
       "var outputEl = gd.closest('.output');\n",
       "if (outputEl) {{\n",
       "    x.observe(outputEl, {childList: true});\n",
       "}}\n",
       "\n",
       "                        })                };                });            </script>        </div>"
      ]
     },
     "metadata": {},
     "output_type": "display_data"
    },
    {
     "data": {
      "application/vnd.plotly.v1+json": {
       "config": {
        "linkText": "Export to plot.ly",
        "plotlyServerURL": "https://plot.ly",
        "showLink": false
       },
       "data": [
        {
         "marker": {
          "color": "rgb(10,200,45)"
         },
         "name": "Alcoholic Group",
         "text": [
          22,
          28,
          27,
          21,
          4,
          22,
          21,
          24,
          22,
          22,
          23,
          13,
          26,
          1,
          5,
          6,
          22,
          19,
          28,
          28,
          25,
          23,
          24,
          21,
          22,
          28,
          26,
          27
         ],
         "type": "bar",
         "x": [
          "AF3-AF4",
          "AF3-AFZ",
          "AF4-AFZ",
          "AF4-F2",
          "AF7-FP1",
          "AFZ-F2",
          "AFZ-FPZ",
          "AFZ-FZ",
          "CP4-P4",
          "F1-F3",
          "F1-FZ",
          "F2-F4",
          "F2-FZ",
          "F6-F8",
          "FP1-FP2",
          "FP1-FPZ",
          "FP2-FPZ",
          "O1-O2",
          "O1-OZ",
          "O2-OZ",
          "P1-P3",
          "P1-PO3",
          "P1-POZ",
          "P1-PZ",
          "P3-P5",
          "P3-PO3",
          "P4-P6",
          "PO3-POZ"
         ],
         "y": [
          0.7586206896551724,
          0.9655172413793104,
          0.9310344827586207,
          0.7241379310344828,
          0.13793103448275862,
          0.7586206896551724,
          0.7241379310344828,
          0.8275862068965517,
          0.7586206896551724,
          0.7586206896551724,
          0.7931034482758621,
          0.4482758620689655,
          0.896551724137931,
          0.034482758620689655,
          0.1724137931034483,
          0.20689655172413793,
          0.7586206896551724,
          0.6551724137931034,
          0.9655172413793104,
          0.9655172413793104,
          0.8620689655172413,
          0.7931034482758621,
          0.8275862068965517,
          0.7241379310344828,
          0.7586206896551724,
          0.9655172413793104,
          0.896551724137931,
          0.9310344827586207
         ]
        },
        {
         "marker": {
          "color": "rgb(200,30,45)"
         },
         "name": "Control Group",
         "text": [
          28,
          30,
          29,
          29,
          30,
          26,
          25,
          22,
          17,
          30,
          30,
          29,
          29,
          28,
          29,
          30,
          29,
          28,
          29,
          30,
          28,
          17,
          10,
          29,
          30,
          24,
          28,
          29
         ],
         "type": "bar",
         "x": [
          "AF3-AF4",
          "AF3-AFZ",
          "AF4-AFZ",
          "AF4-F2",
          "AF7-FP1",
          "AFZ-F2",
          "AFZ-FPZ",
          "AFZ-FZ",
          "CP4-P4",
          "F1-F3",
          "F1-FZ",
          "F2-F4",
          "F2-FZ",
          "F6-F8",
          "FP1-FP2",
          "FP1-FPZ",
          "FP2-FPZ",
          "O1-O2",
          "O1-OZ",
          "O2-OZ",
          "P1-P3",
          "P1-PO3",
          "P1-POZ",
          "P1-PZ",
          "P3-P5",
          "P3-PO3",
          "P4-P6",
          "PO3-POZ"
         ],
         "y": [
          0.9333333333333333,
          1,
          0.9666666666666667,
          0.9666666666666667,
          1,
          0.8666666666666667,
          0.8333333333333334,
          0.7333333333333333,
          0.5666666666666667,
          1,
          1,
          0.9666666666666667,
          0.9666666666666667,
          0.9333333333333333,
          0.9666666666666667,
          1,
          0.9666666666666667,
          0.9333333333333333,
          0.9666666666666667,
          1,
          0.9333333333333333,
          0.5666666666666667,
          0.3333333333333333,
          0.9666666666666667,
          1,
          0.8,
          0.9333333333333333,
          0.9666666666666667
         ]
        }
       ],
       "layout": {
        "autosize": true,
        "barmode": "group",
        "template": {
         "data": {
          "bar": [
           {
            "error_x": {
             "color": "#2a3f5f"
            },
            "error_y": {
             "color": "#2a3f5f"
            },
            "marker": {
             "line": {
              "color": "#E5ECF6",
              "width": 0.5
             },
             "pattern": {
              "fillmode": "overlay",
              "size": 10,
              "solidity": 0.2
             }
            },
            "type": "bar"
           }
          ],
          "barpolar": [
           {
            "marker": {
             "line": {
              "color": "#E5ECF6",
              "width": 0.5
             },
             "pattern": {
              "fillmode": "overlay",
              "size": 10,
              "solidity": 0.2
             }
            },
            "type": "barpolar"
           }
          ],
          "carpet": [
           {
            "aaxis": {
             "endlinecolor": "#2a3f5f",
             "gridcolor": "white",
             "linecolor": "white",
             "minorgridcolor": "white",
             "startlinecolor": "#2a3f5f"
            },
            "baxis": {
             "endlinecolor": "#2a3f5f",
             "gridcolor": "white",
             "linecolor": "white",
             "minorgridcolor": "white",
             "startlinecolor": "#2a3f5f"
            },
            "type": "carpet"
           }
          ],
          "choropleth": [
           {
            "colorbar": {
             "outlinewidth": 0,
             "ticks": ""
            },
            "type": "choropleth"
           }
          ],
          "contour": [
           {
            "colorbar": {
             "outlinewidth": 0,
             "ticks": ""
            },
            "colorscale": [
             [
              0,
              "#0d0887"
             ],
             [
              0.1111111111111111,
              "#46039f"
             ],
             [
              0.2222222222222222,
              "#7201a8"
             ],
             [
              0.3333333333333333,
              "#9c179e"
             ],
             [
              0.4444444444444444,
              "#bd3786"
             ],
             [
              0.5555555555555556,
              "#d8576b"
             ],
             [
              0.6666666666666666,
              "#ed7953"
             ],
             [
              0.7777777777777778,
              "#fb9f3a"
             ],
             [
              0.8888888888888888,
              "#fdca26"
             ],
             [
              1,
              "#f0f921"
             ]
            ],
            "type": "contour"
           }
          ],
          "contourcarpet": [
           {
            "colorbar": {
             "outlinewidth": 0,
             "ticks": ""
            },
            "type": "contourcarpet"
           }
          ],
          "heatmap": [
           {
            "colorbar": {
             "outlinewidth": 0,
             "ticks": ""
            },
            "colorscale": [
             [
              0,
              "#0d0887"
             ],
             [
              0.1111111111111111,
              "#46039f"
             ],
             [
              0.2222222222222222,
              "#7201a8"
             ],
             [
              0.3333333333333333,
              "#9c179e"
             ],
             [
              0.4444444444444444,
              "#bd3786"
             ],
             [
              0.5555555555555556,
              "#d8576b"
             ],
             [
              0.6666666666666666,
              "#ed7953"
             ],
             [
              0.7777777777777778,
              "#fb9f3a"
             ],
             [
              0.8888888888888888,
              "#fdca26"
             ],
             [
              1,
              "#f0f921"
             ]
            ],
            "type": "heatmap"
           }
          ],
          "heatmapgl": [
           {
            "colorbar": {
             "outlinewidth": 0,
             "ticks": ""
            },
            "colorscale": [
             [
              0,
              "#0d0887"
             ],
             [
              0.1111111111111111,
              "#46039f"
             ],
             [
              0.2222222222222222,
              "#7201a8"
             ],
             [
              0.3333333333333333,
              "#9c179e"
             ],
             [
              0.4444444444444444,
              "#bd3786"
             ],
             [
              0.5555555555555556,
              "#d8576b"
             ],
             [
              0.6666666666666666,
              "#ed7953"
             ],
             [
              0.7777777777777778,
              "#fb9f3a"
             ],
             [
              0.8888888888888888,
              "#fdca26"
             ],
             [
              1,
              "#f0f921"
             ]
            ],
            "type": "heatmapgl"
           }
          ],
          "histogram": [
           {
            "marker": {
             "pattern": {
              "fillmode": "overlay",
              "size": 10,
              "solidity": 0.2
             }
            },
            "type": "histogram"
           }
          ],
          "histogram2d": [
           {
            "colorbar": {
             "outlinewidth": 0,
             "ticks": ""
            },
            "colorscale": [
             [
              0,
              "#0d0887"
             ],
             [
              0.1111111111111111,
              "#46039f"
             ],
             [
              0.2222222222222222,
              "#7201a8"
             ],
             [
              0.3333333333333333,
              "#9c179e"
             ],
             [
              0.4444444444444444,
              "#bd3786"
             ],
             [
              0.5555555555555556,
              "#d8576b"
             ],
             [
              0.6666666666666666,
              "#ed7953"
             ],
             [
              0.7777777777777778,
              "#fb9f3a"
             ],
             [
              0.8888888888888888,
              "#fdca26"
             ],
             [
              1,
              "#f0f921"
             ]
            ],
            "type": "histogram2d"
           }
          ],
          "histogram2dcontour": [
           {
            "colorbar": {
             "outlinewidth": 0,
             "ticks": ""
            },
            "colorscale": [
             [
              0,
              "#0d0887"
             ],
             [
              0.1111111111111111,
              "#46039f"
             ],
             [
              0.2222222222222222,
              "#7201a8"
             ],
             [
              0.3333333333333333,
              "#9c179e"
             ],
             [
              0.4444444444444444,
              "#bd3786"
             ],
             [
              0.5555555555555556,
              "#d8576b"
             ],
             [
              0.6666666666666666,
              "#ed7953"
             ],
             [
              0.7777777777777778,
              "#fb9f3a"
             ],
             [
              0.8888888888888888,
              "#fdca26"
             ],
             [
              1,
              "#f0f921"
             ]
            ],
            "type": "histogram2dcontour"
           }
          ],
          "mesh3d": [
           {
            "colorbar": {
             "outlinewidth": 0,
             "ticks": ""
            },
            "type": "mesh3d"
           }
          ],
          "parcoords": [
           {
            "line": {
             "colorbar": {
              "outlinewidth": 0,
              "ticks": ""
             }
            },
            "type": "parcoords"
           }
          ],
          "pie": [
           {
            "automargin": true,
            "type": "pie"
           }
          ],
          "scatter": [
           {
            "fillpattern": {
             "fillmode": "overlay",
             "size": 10,
             "solidity": 0.2
            },
            "type": "scatter"
           }
          ],
          "scatter3d": [
           {
            "line": {
             "colorbar": {
              "outlinewidth": 0,
              "ticks": ""
             }
            },
            "marker": {
             "colorbar": {
              "outlinewidth": 0,
              "ticks": ""
             }
            },
            "type": "scatter3d"
           }
          ],
          "scattercarpet": [
           {
            "marker": {
             "colorbar": {
              "outlinewidth": 0,
              "ticks": ""
             }
            },
            "type": "scattercarpet"
           }
          ],
          "scattergeo": [
           {
            "marker": {
             "colorbar": {
              "outlinewidth": 0,
              "ticks": ""
             }
            },
            "type": "scattergeo"
           }
          ],
          "scattergl": [
           {
            "marker": {
             "colorbar": {
              "outlinewidth": 0,
              "ticks": ""
             }
            },
            "type": "scattergl"
           }
          ],
          "scattermapbox": [
           {
            "marker": {
             "colorbar": {
              "outlinewidth": 0,
              "ticks": ""
             }
            },
            "type": "scattermapbox"
           }
          ],
          "scatterpolar": [
           {
            "marker": {
             "colorbar": {
              "outlinewidth": 0,
              "ticks": ""
             }
            },
            "type": "scatterpolar"
           }
          ],
          "scatterpolargl": [
           {
            "marker": {
             "colorbar": {
              "outlinewidth": 0,
              "ticks": ""
             }
            },
            "type": "scatterpolargl"
           }
          ],
          "scatterternary": [
           {
            "marker": {
             "colorbar": {
              "outlinewidth": 0,
              "ticks": ""
             }
            },
            "type": "scatterternary"
           }
          ],
          "surface": [
           {
            "colorbar": {
             "outlinewidth": 0,
             "ticks": ""
            },
            "colorscale": [
             [
              0,
              "#0d0887"
             ],
             [
              0.1111111111111111,
              "#46039f"
             ],
             [
              0.2222222222222222,
              "#7201a8"
             ],
             [
              0.3333333333333333,
              "#9c179e"
             ],
             [
              0.4444444444444444,
              "#bd3786"
             ],
             [
              0.5555555555555556,
              "#d8576b"
             ],
             [
              0.6666666666666666,
              "#ed7953"
             ],
             [
              0.7777777777777778,
              "#fb9f3a"
             ],
             [
              0.8888888888888888,
              "#fdca26"
             ],
             [
              1,
              "#f0f921"
             ]
            ],
            "type": "surface"
           }
          ],
          "table": [
           {
            "cells": {
             "fill": {
              "color": "#EBF0F8"
             },
             "line": {
              "color": "white"
             }
            },
            "header": {
             "fill": {
              "color": "#C8D4E3"
             },
             "line": {
              "color": "white"
             }
            },
            "type": "table"
           }
          ]
         },
         "layout": {
          "annotationdefaults": {
           "arrowcolor": "#2a3f5f",
           "arrowhead": 0,
           "arrowwidth": 1
          },
          "autotypenumbers": "strict",
          "coloraxis": {
           "colorbar": {
            "outlinewidth": 0,
            "ticks": ""
           }
          },
          "colorscale": {
           "diverging": [
            [
             0,
             "#8e0152"
            ],
            [
             0.1,
             "#c51b7d"
            ],
            [
             0.2,
             "#de77ae"
            ],
            [
             0.3,
             "#f1b6da"
            ],
            [
             0.4,
             "#fde0ef"
            ],
            [
             0.5,
             "#f7f7f7"
            ],
            [
             0.6,
             "#e6f5d0"
            ],
            [
             0.7,
             "#b8e186"
            ],
            [
             0.8,
             "#7fbc41"
            ],
            [
             0.9,
             "#4d9221"
            ],
            [
             1,
             "#276419"
            ]
           ],
           "sequential": [
            [
             0,
             "#0d0887"
            ],
            [
             0.1111111111111111,
             "#46039f"
            ],
            [
             0.2222222222222222,
             "#7201a8"
            ],
            [
             0.3333333333333333,
             "#9c179e"
            ],
            [
             0.4444444444444444,
             "#bd3786"
            ],
            [
             0.5555555555555556,
             "#d8576b"
            ],
            [
             0.6666666666666666,
             "#ed7953"
            ],
            [
             0.7777777777777778,
             "#fb9f3a"
            ],
            [
             0.8888888888888888,
             "#fdca26"
            ],
            [
             1,
             "#f0f921"
            ]
           ],
           "sequentialminus": [
            [
             0,
             "#0d0887"
            ],
            [
             0.1111111111111111,
             "#46039f"
            ],
            [
             0.2222222222222222,
             "#7201a8"
            ],
            [
             0.3333333333333333,
             "#9c179e"
            ],
            [
             0.4444444444444444,
             "#bd3786"
            ],
            [
             0.5555555555555556,
             "#d8576b"
            ],
            [
             0.6666666666666666,
             "#ed7953"
            ],
            [
             0.7777777777777778,
             "#fb9f3a"
            ],
            [
             0.8888888888888888,
             "#fdca26"
            ],
            [
             1,
             "#f0f921"
            ]
           ]
          },
          "colorway": [
           "#636efa",
           "#EF553B",
           "#00cc96",
           "#ab63fa",
           "#FFA15A",
           "#19d3f3",
           "#FF6692",
           "#B6E880",
           "#FF97FF",
           "#FECB52"
          ],
          "font": {
           "color": "#2a3f5f"
          },
          "geo": {
           "bgcolor": "white",
           "lakecolor": "white",
           "landcolor": "#E5ECF6",
           "showlakes": true,
           "showland": true,
           "subunitcolor": "white"
          },
          "hoverlabel": {
           "align": "left"
          },
          "hovermode": "closest",
          "mapbox": {
           "style": "light"
          },
          "paper_bgcolor": "white",
          "plot_bgcolor": "#E5ECF6",
          "polar": {
           "angularaxis": {
            "gridcolor": "white",
            "linecolor": "white",
            "ticks": ""
           },
           "bgcolor": "#E5ECF6",
           "radialaxis": {
            "gridcolor": "white",
            "linecolor": "white",
            "ticks": ""
           }
          },
          "scene": {
           "xaxis": {
            "backgroundcolor": "#E5ECF6",
            "gridcolor": "white",
            "gridwidth": 2,
            "linecolor": "white",
            "showbackground": true,
            "ticks": "",
            "zerolinecolor": "white"
           },
           "yaxis": {
            "backgroundcolor": "#E5ECF6",
            "gridcolor": "white",
            "gridwidth": 2,
            "linecolor": "white",
            "showbackground": true,
            "ticks": "",
            "zerolinecolor": "white"
           },
           "zaxis": {
            "backgroundcolor": "#E5ECF6",
            "gridcolor": "white",
            "gridwidth": 2,
            "linecolor": "white",
            "showbackground": true,
            "ticks": "",
            "zerolinecolor": "white"
           }
          },
          "shapedefaults": {
           "line": {
            "color": "#2a3f5f"
           }
          },
          "ternary": {
           "aaxis": {
            "gridcolor": "white",
            "linecolor": "white",
            "ticks": ""
           },
           "baxis": {
            "gridcolor": "white",
            "linecolor": "white",
            "ticks": ""
           },
           "bgcolor": "#E5ECF6",
           "caxis": {
            "gridcolor": "white",
            "linecolor": "white",
            "ticks": ""
           }
          },
          "title": {
           "x": 0.05
          },
          "xaxis": {
           "automargin": true,
           "gridcolor": "white",
           "linecolor": "white",
           "ticks": "",
           "title": {
            "standoff": 15
           },
           "zerolinecolor": "white",
           "zerolinewidth": 2
          },
          "yaxis": {
           "automargin": true,
           "gridcolor": "white",
           "linecolor": "white",
           "ticks": "",
           "title": {
            "standoff": 15
           },
           "zerolinecolor": "white",
           "zerolinewidth": 2
          }
         }
        },
        "title": {
         "text": "Amount of Correlated Pairs for the whole Data Set (S2 match stimulus)"
        },
        "xaxis": {
         "autorange": true,
         "range": [
          -0.5,
          27.5
         ],
         "title": {
          "text": "Channel Pairs"
         },
         "type": "category"
        },
        "yaxis": {
         "autorange": true,
         "range": [
          0,
          1.0526315789473684
         ],
         "title": {
          "text": "Ratio of Trail count by count of group"
         },
         "type": "linear"
        }
       }
      },
      "image/png": "[encoded data removed]",
      "text/html": [
       "<div>                            <div id=\"059dceb6-d168-4488-adf3-b73eca82fcaf\" class=\"plotly-graph-div\" style=\"height:525px; width:100%;\"></div>            <script type=\"text/javascript\">                require([\"plotly\"], function(Plotly) {                    window.PLOTLYENV=window.PLOTLYENV || {};                                    if (document.getElementById(\"059dceb6-d168-4488-adf3-b73eca82fcaf\")) {                    Plotly.newPlot(                        \"059dceb6-d168-4488-adf3-b73eca82fcaf\",                        [{\"marker\":{\"color\":\"rgb(10,200,45)\"},\"name\":\"Alcoholic Group\",\"text\":[22.0,28.0,27.0,21.0,4.0,22.0,21.0,24.0,22.0,22.0,23.0,13.0,26.0,1.0,5.0,6.0,22.0,19.0,28.0,28.0,25.0,23.0,24.0,21.0,22.0,28.0,26.0,27.0],\"x\":[\"AF3-AF4\",\"AF3-AFZ\",\"AF4-AFZ\",\"AF4-F2\",\"AF7-FP1\",\"AFZ-F2\",\"AFZ-FPZ\",\"AFZ-FZ\",\"CP4-P4\",\"F1-F3\",\"F1-FZ\",\"F2-F4\",\"F2-FZ\",\"F6-F8\",\"FP1-FP2\",\"FP1-FPZ\",\"FP2-FPZ\",\"O1-O2\",\"O1-OZ\",\"O2-OZ\",\"P1-P3\",\"P1-PO3\",\"P1-POZ\",\"P1-PZ\",\"P3-P5\",\"P3-PO3\",\"P4-P6\",\"PO3-POZ\"],\"y\":[0.7586206896551724,0.9655172413793104,0.9310344827586207,0.7241379310344828,0.13793103448275862,0.7586206896551724,0.7241379310344828,0.8275862068965517,0.7586206896551724,0.7586206896551724,0.7931034482758621,0.4482758620689655,0.896551724137931,0.034482758620689655,0.1724137931034483,0.20689655172413793,0.7586206896551724,0.6551724137931034,0.9655172413793104,0.9655172413793104,0.8620689655172413,0.7931034482758621,0.8275862068965517,0.7241379310344828,0.7586206896551724,0.9655172413793104,0.896551724137931,0.9310344827586207],\"type\":\"bar\"},{\"marker\":{\"color\":\"rgb(200,30,45)\"},\"name\":\"Control Group\",\"text\":[28.0,30.0,29.0,29.0,30.0,26.0,25.0,22.0,17.0,30.0,30.0,29.0,29.0,28.0,29.0,30.0,29.0,28.0,29.0,30.0,28.0,17.0,10.0,29.0,30.0,24.0,28.0,29.0],\"x\":[\"AF3-AF4\",\"AF3-AFZ\",\"AF4-AFZ\",\"AF4-F2\",\"AF7-FP1\",\"AFZ-F2\",\"AFZ-FPZ\",\"AFZ-FZ\",\"CP4-P4\",\"F1-F3\",\"F1-FZ\",\"F2-F4\",\"F2-FZ\",\"F6-F8\",\"FP1-FP2\",\"FP1-FPZ\",\"FP2-FPZ\",\"O1-O2\",\"O1-OZ\",\"O2-OZ\",\"P1-P3\",\"P1-PO3\",\"P1-POZ\",\"P1-PZ\",\"P3-P5\",\"P3-PO3\",\"P4-P6\",\"PO3-POZ\"],\"y\":[0.9333333333333333,1.0,0.9666666666666667,0.9666666666666667,1.0,0.8666666666666667,0.8333333333333334,0.7333333333333333,0.5666666666666667,1.0,1.0,0.9666666666666667,0.9666666666666667,0.9333333333333333,0.9666666666666667,1.0,0.9666666666666667,0.9333333333333333,0.9666666666666667,1.0,0.9333333333333333,0.5666666666666667,0.3333333333333333,0.9666666666666667,1.0,0.8,0.9333333333333333,0.9666666666666667],\"type\":\"bar\"}],                        {\"barmode\":\"group\",\"template\":{\"data\":{\"barpolar\":[{\"marker\":{\"line\":{\"color\":\"#E5ECF6\",\"width\":0.5},\"pattern\":{\"fillmode\":\"overlay\",\"size\":10,\"solidity\":0.2}},\"type\":\"barpolar\"}],\"bar\":[{\"error_x\":{\"color\":\"#2a3f5f\"},\"error_y\":{\"color\":\"#2a3f5f\"},\"marker\":{\"line\":{\"color\":\"#E5ECF6\",\"width\":0.5},\"pattern\":{\"fillmode\":\"overlay\",\"size\":10,\"solidity\":0.2}},\"type\":\"bar\"}],\"carpet\":[{\"aaxis\":{\"endlinecolor\":\"#2a3f5f\",\"gridcolor\":\"white\",\"linecolor\":\"white\",\"minorgridcolor\":\"white\",\"startlinecolor\":\"#2a3f5f\"},\"baxis\":{\"endlinecolor\":\"#2a3f5f\",\"gridcolor\":\"white\",\"linecolor\":\"white\",\"minorgridcolor\":\"white\",\"startlinecolor\":\"#2a3f5f\"},\"type\":\"carpet\"}],\"choropleth\":[{\"colorbar\":{\"outlinewidth\":0,\"ticks\":\"\"},\"type\":\"choropleth\"}],\"contourcarpet\":[{\"colorbar\":{\"outlinewidth\":0,\"ticks\":\"\"},\"type\":\"contourcarpet\"}],\"contour\":[{\"colorbar\":{\"outlinewidth\":0,\"ticks\":\"\"},\"colorscale\":[[0.0,\"#0d0887\"],[0.1111111111111111,\"#46039f\"],[0.2222222222222222,\"#7201a8\"],[0.3333333333333333,\"#9c179e\"],[0.4444444444444444,\"#bd3786\"],[0.5555555555555556,\"#d8576b\"],[0.6666666666666666,\"#ed7953\"],[0.7777777777777778,\"#fb9f3a\"],[0.8888888888888888,\"#fdca26\"],[1.0,\"#f0f921\"]],\"type\":\"contour\"}],\"heatmapgl\":[{\"colorbar\":{\"outlinewidth\":0,\"ticks\":\"\"},\"colorscale\":[[0.0,\"#0d0887\"],[0.1111111111111111,\"#46039f\"],[0.2222222222222222,\"#7201a8\"],[0.3333333333333333,\"#9c179e\"],[0.4444444444444444,\"#bd3786\"],[0.5555555555555556,\"#d8576b\"],[0.6666666666666666,\"#ed7953\"],[0.7777777777777778,\"#fb9f3a\"],[0.8888888888888888,\"#fdca26\"],[1.0,\"#f0f921\"]],\"type\":\"heatmapgl\"}],\"heatmap\":[{\"colorbar\":{\"outlinewidth\":0,\"ticks\":\"\"},\"colorscale\":[[0.0,\"#0d0887\"],[0.1111111111111111,\"#46039f\"],[0.2222222222222222,\"#7201a8\"],[0.3333333333333333,\"#9c179e\"],[0.4444444444444444,\"#bd3786\"],[0.5555555555555556,\"#d8576b\"],[0.6666666666666666,\"#ed7953\"],[0.7777777777777778,\"#fb9f3a\"],[0.8888888888888888,\"#fdca26\"],[1.0,\"#f0f921\"]],\"type\":\"heatmap\"}],\"histogram2dcontour\":[{\"colorbar\":{\"outlinewidth\":0,\"ticks\":\"\"},\"colorscale\":[[0.0,\"#0d0887\"],[0.1111111111111111,\"#46039f\"],[0.2222222222222222,\"#7201a8\"],[0.3333333333333333,\"#9c179e\"],[0.4444444444444444,\"#bd3786\"],[0.5555555555555556,\"#d8576b\"],[0.6666666666666666,\"#ed7953\"],[0.7777777777777778,\"#fb9f3a\"],[0.8888888888888888,\"#fdca26\"],[1.0,\"#f0f921\"]],\"type\":\"histogram2dcontour\"}],\"histogram2d\":[{\"colorbar\":{\"outlinewidth\":0,\"ticks\":\"\"},\"colorscale\":[[0.0,\"#0d0887\"],[0.1111111111111111,\"#46039f\"],[0.2222222222222222,\"#7201a8\"],[0.3333333333333333,\"#9c179e\"],[0.4444444444444444,\"#bd3786\"],[0.5555555555555556,\"#d8576b\"],[0.6666666666666666,\"#ed7953\"],[0.7777777777777778,\"#fb9f3a\"],[0.8888888888888888,\"#fdca26\"],[1.0,\"#f0f921\"]],\"type\":\"histogram2d\"}],\"histogram\":[{\"marker\":{\"pattern\":{\"fillmode\":\"overlay\",\"size\":10,\"solidity\":0.2}},\"type\":\"histogram\"}],\"mesh3d\":[{\"colorbar\":{\"outlinewidth\":0,\"ticks\":\"\"},\"type\":\"mesh3d\"}],\"parcoords\":[{\"line\":{\"colorbar\":{\"outlinewidth\":0,\"ticks\":\"\"}},\"type\":\"parcoords\"}],\"pie\":[{\"automargin\":true,\"type\":\"pie\"}],\"scatter3d\":[{\"line\":{\"colorbar\":{\"outlinewidth\":0,\"ticks\":\"\"}},\"marker\":{\"colorbar\":{\"outlinewidth\":0,\"ticks\":\"\"}},\"type\":\"scatter3d\"}],\"scattercarpet\":[{\"marker\":{\"colorbar\":{\"outlinewidth\":0,\"ticks\":\"\"}},\"type\":\"scattercarpet\"}],\"scattergeo\":[{\"marker\":{\"colorbar\":{\"outlinewidth\":0,\"ticks\":\"\"}},\"type\":\"scattergeo\"}],\"scattergl\":[{\"marker\":{\"colorbar\":{\"outlinewidth\":0,\"ticks\":\"\"}},\"type\":\"scattergl\"}],\"scattermapbox\":[{\"marker\":{\"colorbar\":{\"outlinewidth\":0,\"ticks\":\"\"}},\"type\":\"scattermapbox\"}],\"scatterpolargl\":[{\"marker\":{\"colorbar\":{\"outlinewidth\":0,\"ticks\":\"\"}},\"type\":\"scatterpolargl\"}],\"scatterpolar\":[{\"marker\":{\"colorbar\":{\"outlinewidth\":0,\"ticks\":\"\"}},\"type\":\"scatterpolar\"}],\"scatter\":[{\"fillpattern\":{\"fillmode\":\"overlay\",\"size\":10,\"solidity\":0.2},\"type\":\"scatter\"}],\"scatterternary\":[{\"marker\":{\"colorbar\":{\"outlinewidth\":0,\"ticks\":\"\"}},\"type\":\"scatterternary\"}],\"surface\":[{\"colorbar\":{\"outlinewidth\":0,\"ticks\":\"\"},\"colorscale\":[[0.0,\"#0d0887\"],[0.1111111111111111,\"#46039f\"],[0.2222222222222222,\"#7201a8\"],[0.3333333333333333,\"#9c179e\"],[0.4444444444444444,\"#bd3786\"],[0.5555555555555556,\"#d8576b\"],[0.6666666666666666,\"#ed7953\"],[0.7777777777777778,\"#fb9f3a\"],[0.8888888888888888,\"#fdca26\"],[1.0,\"#f0f921\"]],\"type\":\"surface\"}],\"table\":[{\"cells\":{\"fill\":{\"color\":\"#EBF0F8\"},\"line\":{\"color\":\"white\"}},\"header\":{\"fill\":{\"color\":\"#C8D4E3\"},\"line\":{\"color\":\"white\"}},\"type\":\"table\"}]},\"layout\":{\"annotationdefaults\":{\"arrowcolor\":\"#2a3f5f\",\"arrowhead\":0,\"arrowwidth\":1},\"autotypenumbers\":\"strict\",\"coloraxis\":{\"colorbar\":{\"outlinewidth\":0,\"ticks\":\"\"}},\"colorscale\":{\"diverging\":[[0,\"#8e0152\"],[0.1,\"#c51b7d\"],[0.2,\"#de77ae\"],[0.3,\"#f1b6da\"],[0.4,\"#fde0ef\"],[0.5,\"#f7f7f7\"],[0.6,\"#e6f5d0\"],[0.7,\"#b8e186\"],[0.8,\"#7fbc41\"],[0.9,\"#4d9221\"],[1,\"#276419\"]],\"sequential\":[[0.0,\"#0d0887\"],[0.1111111111111111,\"#46039f\"],[0.2222222222222222,\"#7201a8\"],[0.3333333333333333,\"#9c179e\"],[0.4444444444444444,\"#bd3786\"],[0.5555555555555556,\"#d8576b\"],[0.6666666666666666,\"#ed7953\"],[0.7777777777777778,\"#fb9f3a\"],[0.8888888888888888,\"#fdca26\"],[1.0,\"#f0f921\"]],\"sequentialminus\":[[0.0,\"#0d0887\"],[0.1111111111111111,\"#46039f\"],[0.2222222222222222,\"#7201a8\"],[0.3333333333333333,\"#9c179e\"],[0.4444444444444444,\"#bd3786\"],[0.5555555555555556,\"#d8576b\"],[0.6666666666666666,\"#ed7953\"],[0.7777777777777778,\"#fb9f3a\"],[0.8888888888888888,\"#fdca26\"],[1.0,\"#f0f921\"]]},\"colorway\":[\"#636efa\",\"#EF553B\",\"#00cc96\",\"#ab63fa\",\"#FFA15A\",\"#19d3f3\",\"#FF6692\",\"#B6E880\",\"#FF97FF\",\"#FECB52\"],\"font\":{\"color\":\"#2a3f5f\"},\"geo\":{\"bgcolor\":\"white\",\"lakecolor\":\"white\",\"landcolor\":\"#E5ECF6\",\"showlakes\":true,\"showland\":true,\"subunitcolor\":\"white\"},\"hoverlabel\":{\"align\":\"left\"},\"hovermode\":\"closest\",\"mapbox\":{\"style\":\"light\"},\"paper_bgcolor\":\"white\",\"plot_bgcolor\":\"#E5ECF6\",\"polar\":{\"angularaxis\":{\"gridcolor\":\"white\",\"linecolor\":\"white\",\"ticks\":\"\"},\"bgcolor\":\"#E5ECF6\",\"radialaxis\":{\"gridcolor\":\"white\",\"linecolor\":\"white\",\"ticks\":\"\"}},\"scene\":{\"xaxis\":{\"backgroundcolor\":\"#E5ECF6\",\"gridcolor\":\"white\",\"gridwidth\":2,\"linecolor\":\"white\",\"showbackground\":true,\"ticks\":\"\",\"zerolinecolor\":\"white\"},\"yaxis\":{\"backgroundcolor\":\"#E5ECF6\",\"gridcolor\":\"white\",\"gridwidth\":2,\"linecolor\":\"white\",\"showbackground\":true,\"ticks\":\"\",\"zerolinecolor\":\"white\"},\"zaxis\":{\"backgroundcolor\":\"#E5ECF6\",\"gridcolor\":\"white\",\"gridwidth\":2,\"linecolor\":\"white\",\"showbackground\":true,\"ticks\":\"\",\"zerolinecolor\":\"white\"}},\"shapedefaults\":{\"line\":{\"color\":\"#2a3f5f\"}},\"ternary\":{\"aaxis\":{\"gridcolor\":\"white\",\"linecolor\":\"white\",\"ticks\":\"\"},\"baxis\":{\"gridcolor\":\"white\",\"linecolor\":\"white\",\"ticks\":\"\"},\"bgcolor\":\"#E5ECF6\",\"caxis\":{\"gridcolor\":\"white\",\"linecolor\":\"white\",\"ticks\":\"\"}},\"title\":{\"x\":0.05},\"xaxis\":{\"automargin\":true,\"gridcolor\":\"white\",\"linecolor\":\"white\",\"ticks\":\"\",\"title\":{\"standoff\":15},\"zerolinecolor\":\"white\",\"zerolinewidth\":2},\"yaxis\":{\"automargin\":true,\"gridcolor\":\"white\",\"linecolor\":\"white\",\"ticks\":\"\",\"title\":{\"standoff\":15},\"zerolinecolor\":\"white\",\"zerolinewidth\":2}}},\"title\":{\"text\":\"Amount of Correlated Pairs for the whole Data Set (S2 match stimulus)\"},\"xaxis\":{\"title\":{\"text\":\"Channel Pairs\"}},\"yaxis\":{\"title\":{\"text\":\"Ratio of Trail count by count of group\"}}},                        {\"responsive\": true}                    ).then(function(){\n",
       "                            \n",
       "var gd = document.getElementById('059dceb6-d168-4488-adf3-b73eca82fcaf');\n",
       "var x = new MutationObserver(function (mutations, observer) {{\n",
       "        var display = window.getComputedStyle(gd).display;\n",
       "        if (!display || display === 'none') {{\n",
       "            console.log([gd, 'removed!']);\n",
       "            Plotly.purge(gd);\n",
       "            observer.disconnect();\n",
       "        }}\n",
       "}});\n",
       "\n",
       "// Listen for the removal of the full notebook cells\n",
       "var notebookContainer = gd.closest('#notebook-container');\n",
       "if (notebookContainer) {{\n",
       "    x.observe(notebookContainer, {childList: true});\n",
       "}}\n",
       "\n",
       "// Listen for the clearing of the current output cell\n",
       "var outputEl = gd.closest('.output');\n",
       "if (outputEl) {{\n",
       "    x.observe(outputEl, {childList: true});\n",
       "}}\n",
       "\n",
       "                        })                };                });            </script>        </div>"
      ]
     },
     "metadata": {},
     "output_type": "display_data"
    },
    {
     "data": {
      "application/vnd.plotly.v1+json": {
       "config": {
        "linkText": "Export to plot.ly",
        "plotlyServerURL": "https://plot.ly",
        "showLink": false
       },
       "data": [
        {
         "marker": {
          "color": "rgb(10,200,45)"
         },
         "name": "Alcoholic Group",
         "text": [
          18,
          24,
          25,
          5,
          23,
          25,
          16,
          23,
          13,
          5,
          6,
          24,
          22,
          28,
          23,
          28,
          27,
          27,
          22,
          26,
          24,
          25,
          27,
          23,
          23,
          28
         ],
         "type": "bar",
         "x": [
          "AF3-AF4",
          "AF3-AFZ",
          "AF4-AFZ",
          "AF7-FP1",
          "F1-F3",
          "F1-FZ",
          "F2-F4",
          "F2-FZ",
          "F4-F6",
          "FP1-FP2",
          "FP1-FPZ",
          "FP2-FPZ",
          "O1-O2",
          "O1-OZ",
          "O1-PO3",
          "O2-OZ",
          "P1-P3",
          "P1-PO3",
          "P1-POZ",
          "P1-PZ",
          "P3-P5",
          "P3-PO3",
          "P4-P6",
          "P5-P7",
          "P6-P8",
          "PO3-POZ"
         ],
         "y": [
          0.6428571428571429,
          0.8571428571428571,
          0.8928571428571429,
          0.17857142857142858,
          0.8214285714285714,
          0.8928571428571429,
          0.5714285714285714,
          0.8214285714285714,
          0.4642857142857143,
          0.17857142857142858,
          0.21428571428571427,
          0.8571428571428571,
          0.7857142857142857,
          1,
          0.8214285714285714,
          1,
          0.9642857142857143,
          0.9642857142857143,
          0.7857142857142857,
          0.9285714285714286,
          0.8571428571428571,
          0.8928571428571429,
          0.9642857142857143,
          0.8214285714285714,
          0.8214285714285714,
          1
         ]
        },
        {
         "marker": {
          "color": "rgb(200,30,45)"
         },
         "name": "Control Group",
         "text": [
          28,
          29,
          29,
          27,
          27,
          29,
          28,
          29,
          28,
          28,
          29,
          29,
          25,
          28,
          18,
          29,
          29,
          20,
          14,
          26,
          29,
          23,
          29,
          28,
          29,
          27
         ],
         "type": "bar",
         "x": [
          "AF3-AF4",
          "AF3-AFZ",
          "AF4-AFZ",
          "AF7-FP1",
          "F1-F3",
          "F1-FZ",
          "F2-F4",
          "F2-FZ",
          "F4-F6",
          "FP1-FP2",
          "FP1-FPZ",
          "FP2-FPZ",
          "O1-O2",
          "O1-OZ",
          "O1-PO3",
          "O2-OZ",
          "P1-P3",
          "P1-PO3",
          "P1-POZ",
          "P1-PZ",
          "P3-P5",
          "P3-PO3",
          "P4-P6",
          "P5-P7",
          "P6-P8",
          "PO3-POZ"
         ],
         "y": [
          0.9655172413793104,
          1,
          1,
          0.9310344827586207,
          0.9310344827586207,
          1,
          0.9655172413793104,
          1,
          0.9655172413793104,
          0.9655172413793104,
          1,
          1,
          0.8620689655172413,
          0.9655172413793104,
          0.6206896551724138,
          1,
          1,
          0.6896551724137931,
          0.4827586206896552,
          0.896551724137931,
          1,
          0.7931034482758621,
          1,
          0.9655172413793104,
          1,
          0.9310344827586207
         ]
        }
       ],
       "layout": {
        "autosize": true,
        "barmode": "group",
        "template": {
         "data": {
          "bar": [
           {
            "error_x": {
             "color": "#2a3f5f"
            },
            "error_y": {
             "color": "#2a3f5f"
            },
            "marker": {
             "line": {
              "color": "#E5ECF6",
              "width": 0.5
             },
             "pattern": {
              "fillmode": "overlay",
              "size": 10,
              "solidity": 0.2
             }
            },
            "type": "bar"
           }
          ],
          "barpolar": [
           {
            "marker": {
             "line": {
              "color": "#E5ECF6",
              "width": 0.5
             },
             "pattern": {
              "fillmode": "overlay",
              "size": 10,
              "solidity": 0.2
             }
            },
            "type": "barpolar"
           }
          ],
          "carpet": [
           {
            "aaxis": {
             "endlinecolor": "#2a3f5f",
             "gridcolor": "white",
             "linecolor": "white",
             "minorgridcolor": "white",
             "startlinecolor": "#2a3f5f"
            },
            "baxis": {
             "endlinecolor": "#2a3f5f",
             "gridcolor": "white",
             "linecolor": "white",
             "minorgridcolor": "white",
             "startlinecolor": "#2a3f5f"
            },
            "type": "carpet"
           }
          ],
          "choropleth": [
           {
            "colorbar": {
             "outlinewidth": 0,
             "ticks": ""
            },
            "type": "choropleth"
           }
          ],
          "contour": [
           {
            "colorbar": {
             "outlinewidth": 0,
             "ticks": ""
            },
            "colorscale": [
             [
              0,
              "#0d0887"
             ],
             [
              0.1111111111111111,
              "#46039f"
             ],
             [
              0.2222222222222222,
              "#7201a8"
             ],
             [
              0.3333333333333333,
              "#9c179e"
             ],
             [
              0.4444444444444444,
              "#bd3786"
             ],
             [
              0.5555555555555556,
              "#d8576b"
             ],
             [
              0.6666666666666666,
              "#ed7953"
             ],
             [
              0.7777777777777778,
              "#fb9f3a"
             ],
             [
              0.8888888888888888,
              "#fdca26"
             ],
             [
              1,
              "#f0f921"
             ]
            ],
            "type": "contour"
           }
          ],
          "contourcarpet": [
           {
            "colorbar": {
             "outlinewidth": 0,
             "ticks": ""
            },
            "type": "contourcarpet"
           }
          ],
          "heatmap": [
           {
            "colorbar": {
             "outlinewidth": 0,
             "ticks": ""
            },
            "colorscale": [
             [
              0,
              "#0d0887"
             ],
             [
              0.1111111111111111,
              "#46039f"
             ],
             [
              0.2222222222222222,
              "#7201a8"
             ],
             [
              0.3333333333333333,
              "#9c179e"
             ],
             [
              0.4444444444444444,
              "#bd3786"
             ],
             [
              0.5555555555555556,
              "#d8576b"
             ],
             [
              0.6666666666666666,
              "#ed7953"
             ],
             [
              0.7777777777777778,
              "#fb9f3a"
             ],
             [
              0.8888888888888888,
              "#fdca26"
             ],
             [
              1,
              "#f0f921"
             ]
            ],
            "type": "heatmap"
           }
          ],
          "heatmapgl": [
           {
            "colorbar": {
             "outlinewidth": 0,
             "ticks": ""
            },
            "colorscale": [
             [
              0,
              "#0d0887"
             ],
             [
              0.1111111111111111,
              "#46039f"
             ],
             [
              0.2222222222222222,
              "#7201a8"
             ],
             [
              0.3333333333333333,
              "#9c179e"
             ],
             [
              0.4444444444444444,
              "#bd3786"
             ],
             [
              0.5555555555555556,
              "#d8576b"
             ],
             [
              0.6666666666666666,
              "#ed7953"
             ],
             [
              0.7777777777777778,
              "#fb9f3a"
             ],
             [
              0.8888888888888888,
              "#fdca26"
             ],
             [
              1,
              "#f0f921"
             ]
            ],
            "type": "heatmapgl"
           }
          ],
          "histogram": [
           {
            "marker": {
             "pattern": {
              "fillmode": "overlay",
              "size": 10,
              "solidity": 0.2
             }
            },
            "type": "histogram"
           }
          ],
          "histogram2d": [
           {
            "colorbar": {
             "outlinewidth": 0,
             "ticks": ""
            },
            "colorscale": [
             [
              0,
              "#0d0887"
             ],
             [
              0.1111111111111111,
              "#46039f"
             ],
             [
              0.2222222222222222,
              "#7201a8"
             ],
             [
              0.3333333333333333,
              "#9c179e"
             ],
             [
              0.4444444444444444,
              "#bd3786"
             ],
             [
              0.5555555555555556,
              "#d8576b"
             ],
             [
              0.6666666666666666,
              "#ed7953"
             ],
             [
              0.7777777777777778,
              "#fb9f3a"
             ],
             [
              0.8888888888888888,
              "#fdca26"
             ],
             [
              1,
              "#f0f921"
             ]
            ],
            "type": "histogram2d"
           }
          ],
          "histogram2dcontour": [
           {
            "colorbar": {
             "outlinewidth": 0,
             "ticks": ""
            },
            "colorscale": [
             [
              0,
              "#0d0887"
             ],
             [
              0.1111111111111111,
              "#46039f"
             ],
             [
              0.2222222222222222,
              "#7201a8"
             ],
             [
              0.3333333333333333,
              "#9c179e"
             ],
             [
              0.4444444444444444,
              "#bd3786"
             ],
             [
              0.5555555555555556,
              "#d8576b"
             ],
             [
              0.6666666666666666,
              "#ed7953"
             ],
             [
              0.7777777777777778,
              "#fb9f3a"
             ],
             [
              0.8888888888888888,
              "#fdca26"
             ],
             [
              1,
              "#f0f921"
             ]
            ],
            "type": "histogram2dcontour"
           }
          ],
          "mesh3d": [
           {
            "colorbar": {
             "outlinewidth": 0,
             "ticks": ""
            },
            "type": "mesh3d"
           }
          ],
          "parcoords": [
           {
            "line": {
             "colorbar": {
              "outlinewidth": 0,
              "ticks": ""
             }
            },
            "type": "parcoords"
           }
          ],
          "pie": [
           {
            "automargin": true,
            "type": "pie"
           }
          ],
          "scatter": [
           {
            "fillpattern": {
             "fillmode": "overlay",
             "size": 10,
             "solidity": 0.2
            },
            "type": "scatter"
           }
          ],
          "scatter3d": [
           {
            "line": {
             "colorbar": {
              "outlinewidth": 0,
              "ticks": ""
             }
            },
            "marker": {
             "colorbar": {
              "outlinewidth": 0,
              "ticks": ""
             }
            },
            "type": "scatter3d"
           }
          ],
          "scattercarpet": [
           {
            "marker": {
             "colorbar": {
              "outlinewidth": 0,
              "ticks": ""
             }
            },
            "type": "scattercarpet"
           }
          ],
          "scattergeo": [
           {
            "marker": {
             "colorbar": {
              "outlinewidth": 0,
              "ticks": ""
             }
            },
            "type": "scattergeo"
           }
          ],
          "scattergl": [
           {
            "marker": {
             "colorbar": {
              "outlinewidth": 0,
              "ticks": ""
             }
            },
            "type": "scattergl"
           }
          ],
          "scattermapbox": [
           {
            "marker": {
             "colorbar": {
              "outlinewidth": 0,
              "ticks": ""
             }
            },
            "type": "scattermapbox"
           }
          ],
          "scatterpolar": [
           {
            "marker": {
             "colorbar": {
              "outlinewidth": 0,
              "ticks": ""
             }
            },
            "type": "scatterpolar"
           }
          ],
          "scatterpolargl": [
           {
            "marker": {
             "colorbar": {
              "outlinewidth": 0,
              "ticks": ""
             }
            },
            "type": "scatterpolargl"
           }
          ],
          "scatterternary": [
           {
            "marker": {
             "colorbar": {
              "outlinewidth": 0,
              "ticks": ""
             }
            },
            "type": "scatterternary"
           }
          ],
          "surface": [
           {
            "colorbar": {
             "outlinewidth": 0,
             "ticks": ""
            },
            "colorscale": [
             [
              0,
              "#0d0887"
             ],
             [
              0.1111111111111111,
              "#46039f"
             ],
             [
              0.2222222222222222,
              "#7201a8"
             ],
             [
              0.3333333333333333,
              "#9c179e"
             ],
             [
              0.4444444444444444,
              "#bd3786"
             ],
             [
              0.5555555555555556,
              "#d8576b"
             ],
             [
              0.6666666666666666,
              "#ed7953"
             ],
             [
              0.7777777777777778,
              "#fb9f3a"
             ],
             [
              0.8888888888888888,
              "#fdca26"
             ],
             [
              1,
              "#f0f921"
             ]
            ],
            "type": "surface"
           }
          ],
          "table": [
           {
            "cells": {
             "fill": {
              "color": "#EBF0F8"
             },
             "line": {
              "color": "white"
             }
            },
            "header": {
             "fill": {
              "color": "#C8D4E3"
             },
             "line": {
              "color": "white"
             }
            },
            "type": "table"
           }
          ]
         },
         "layout": {
          "annotationdefaults": {
           "arrowcolor": "#2a3f5f",
           "arrowhead": 0,
           "arrowwidth": 1
          },
          "autotypenumbers": "strict",
          "coloraxis": {
           "colorbar": {
            "outlinewidth": 0,
            "ticks": ""
           }
          },
          "colorscale": {
           "diverging": [
            [
             0,
             "#8e0152"
            ],
            [
             0.1,
             "#c51b7d"
            ],
            [
             0.2,
             "#de77ae"
            ],
            [
             0.3,
             "#f1b6da"
            ],
            [
             0.4,
             "#fde0ef"
            ],
            [
             0.5,
             "#f7f7f7"
            ],
            [
             0.6,
             "#e6f5d0"
            ],
            [
             0.7,
             "#b8e186"
            ],
            [
             0.8,
             "#7fbc41"
            ],
            [
             0.9,
             "#4d9221"
            ],
            [
             1,
             "#276419"
            ]
           ],
           "sequential": [
            [
             0,
             "#0d0887"
            ],
            [
             0.1111111111111111,
             "#46039f"
            ],
            [
             0.2222222222222222,
             "#7201a8"
            ],
            [
             0.3333333333333333,
             "#9c179e"
            ],
            [
             0.4444444444444444,
             "#bd3786"
            ],
            [
             0.5555555555555556,
             "#d8576b"
            ],
            [
             0.6666666666666666,
             "#ed7953"
            ],
            [
             0.7777777777777778,
             "#fb9f3a"
            ],
            [
             0.8888888888888888,
             "#fdca26"
            ],
            [
             1,
             "#f0f921"
            ]
           ],
           "sequentialminus": [
            [
             0,
             "#0d0887"
            ],
            [
             0.1111111111111111,
             "#46039f"
            ],
            [
             0.2222222222222222,
             "#7201a8"
            ],
            [
             0.3333333333333333,
             "#9c179e"
            ],
            [
             0.4444444444444444,
             "#bd3786"
            ],
            [
             0.5555555555555556,
             "#d8576b"
            ],
            [
             0.6666666666666666,
             "#ed7953"
            ],
            [
             0.7777777777777778,
             "#fb9f3a"
            ],
            [
             0.8888888888888888,
             "#fdca26"
            ],
            [
             1,
             "#f0f921"
            ]
           ]
          },
          "colorway": [
           "#636efa",
           "#EF553B",
           "#00cc96",
           "#ab63fa",
           "#FFA15A",
           "#19d3f3",
           "#FF6692",
           "#B6E880",
           "#FF97FF",
           "#FECB52"
          ],
          "font": {
           "color": "#2a3f5f"
          },
          "geo": {
           "bgcolor": "white",
           "lakecolor": "white",
           "landcolor": "#E5ECF6",
           "showlakes": true,
           "showland": true,
           "subunitcolor": "white"
          },
          "hoverlabel": {
           "align": "left"
          },
          "hovermode": "closest",
          "mapbox": {
           "style": "light"
          },
          "paper_bgcolor": "white",
          "plot_bgcolor": "#E5ECF6",
          "polar": {
           "angularaxis": {
            "gridcolor": "white",
            "linecolor": "white",
            "ticks": ""
           },
           "bgcolor": "#E5ECF6",
           "radialaxis": {
            "gridcolor": "white",
            "linecolor": "white",
            "ticks": ""
           }
          },
          "scene": {
           "xaxis": {
            "backgroundcolor": "#E5ECF6",
            "gridcolor": "white",
            "gridwidth": 2,
            "linecolor": "white",
            "showbackground": true,
            "ticks": "",
            "zerolinecolor": "white"
           },
           "yaxis": {
            "backgroundcolor": "#E5ECF6",
            "gridcolor": "white",
            "gridwidth": 2,
            "linecolor": "white",
            "showbackground": true,
            "ticks": "",
            "zerolinecolor": "white"
           },
           "zaxis": {
            "backgroundcolor": "#E5ECF6",
            "gridcolor": "white",
            "gridwidth": 2,
            "linecolor": "white",
            "showbackground": true,
            "ticks": "",
            "zerolinecolor": "white"
           }
          },
          "shapedefaults": {
           "line": {
            "color": "#2a3f5f"
           }
          },
          "ternary": {
           "aaxis": {
            "gridcolor": "white",
            "linecolor": "white",
            "ticks": ""
           },
           "baxis": {
            "gridcolor": "white",
            "linecolor": "white",
            "ticks": ""
           },
           "bgcolor": "#E5ECF6",
           "caxis": {
            "gridcolor": "white",
            "linecolor": "white",
            "ticks": ""
           }
          },
          "title": {
           "x": 0.05
          },
          "xaxis": {
           "automargin": true,
           "gridcolor": "white",
           "linecolor": "white",
           "ticks": "",
           "title": {
            "standoff": 15
           },
           "zerolinecolor": "white",
           "zerolinewidth": 2
          },
          "yaxis": {
           "automargin": true,
           "gridcolor": "white",
           "linecolor": "white",
           "ticks": "",
           "title": {
            "standoff": 15
           },
           "zerolinecolor": "white",
           "zerolinewidth": 2
          }
         }
        },
        "title": {
         "text": "Amount of Correlated Pairs for the whole Data Set (S2 nomatch stimulus)"
        },
        "xaxis": {
         "autorange": true,
         "range": [
          -0.5,
          25.5
         ],
         "title": {
          "text": "Channel Pairs"
         },
         "type": "category"
        },
        "yaxis": {
         "autorange": true,
         "range": [
          0,
          1.0526315789473684
         ],
         "title": {
          "text": "Ratio of Trail count by count of group"
         },
         "type": "linear"
        }
       }
      },
      "image/png": "[encoded data removed]",
      "text/html": [
       "<div>                            <div id=\"1b27cce3-c3d0-4192-9c09-d9d847f2d9f6\" class=\"plotly-graph-div\" style=\"height:525px; width:100%;\"></div>            <script type=\"text/javascript\">                require([\"plotly\"], function(Plotly) {                    window.PLOTLYENV=window.PLOTLYENV || {};                                    if (document.getElementById(\"1b27cce3-c3d0-4192-9c09-d9d847f2d9f6\")) {                    Plotly.newPlot(                        \"1b27cce3-c3d0-4192-9c09-d9d847f2d9f6\",                        [{\"marker\":{\"color\":\"rgb(10,200,45)\"},\"name\":\"Alcoholic Group\",\"text\":[18.0,24.0,25.0,5.0,23.0,25.0,16.0,23.0,13.0,5.0,6.0,24.0,22.0,28.0,23.0,28.0,27.0,27.0,22.0,26.0,24.0,25.0,27.0,23.0,23.0,28.0],\"x\":[\"AF3-AF4\",\"AF3-AFZ\",\"AF4-AFZ\",\"AF7-FP1\",\"F1-F3\",\"F1-FZ\",\"F2-F4\",\"F2-FZ\",\"F4-F6\",\"FP1-FP2\",\"FP1-FPZ\",\"FP2-FPZ\",\"O1-O2\",\"O1-OZ\",\"O1-PO3\",\"O2-OZ\",\"P1-P3\",\"P1-PO3\",\"P1-POZ\",\"P1-PZ\",\"P3-P5\",\"P3-PO3\",\"P4-P6\",\"P5-P7\",\"P6-P8\",\"PO3-POZ\"],\"y\":[0.6428571428571429,0.8571428571428571,0.8928571428571429,0.17857142857142858,0.8214285714285714,0.8928571428571429,0.5714285714285714,0.8214285714285714,0.4642857142857143,0.17857142857142858,0.21428571428571427,0.8571428571428571,0.7857142857142857,1.0,0.8214285714285714,1.0,0.9642857142857143,0.9642857142857143,0.7857142857142857,0.9285714285714286,0.8571428571428571,0.8928571428571429,0.9642857142857143,0.8214285714285714,0.8214285714285714,1.0],\"type\":\"bar\"},{\"marker\":{\"color\":\"rgb(200,30,45)\"},\"name\":\"Control Group\",\"text\":[28.0,29.0,29.0,27.0,27.0,29.0,28.0,29.0,28.0,28.0,29.0,29.0,25.0,28.0,18.0,29.0,29.0,20.0,14.0,26.0,29.0,23.0,29.0,28.0,29.0,27.0],\"x\":[\"AF3-AF4\",\"AF3-AFZ\",\"AF4-AFZ\",\"AF7-FP1\",\"F1-F3\",\"F1-FZ\",\"F2-F4\",\"F2-FZ\",\"F4-F6\",\"FP1-FP2\",\"FP1-FPZ\",\"FP2-FPZ\",\"O1-O2\",\"O1-OZ\",\"O1-PO3\",\"O2-OZ\",\"P1-P3\",\"P1-PO3\",\"P1-POZ\",\"P1-PZ\",\"P3-P5\",\"P3-PO3\",\"P4-P6\",\"P5-P7\",\"P6-P8\",\"PO3-POZ\"],\"y\":[0.9655172413793104,1.0,1.0,0.9310344827586207,0.9310344827586207,1.0,0.9655172413793104,1.0,0.9655172413793104,0.9655172413793104,1.0,1.0,0.8620689655172413,0.9655172413793104,0.6206896551724138,1.0,1.0,0.6896551724137931,0.4827586206896552,0.896551724137931,1.0,0.7931034482758621,1.0,0.9655172413793104,1.0,0.9310344827586207],\"type\":\"bar\"}],                        {\"barmode\":\"group\",\"template\":{\"data\":{\"barpolar\":[{\"marker\":{\"line\":{\"color\":\"#E5ECF6\",\"width\":0.5},\"pattern\":{\"fillmode\":\"overlay\",\"size\":10,\"solidity\":0.2}},\"type\":\"barpolar\"}],\"bar\":[{\"error_x\":{\"color\":\"#2a3f5f\"},\"error_y\":{\"color\":\"#2a3f5f\"},\"marker\":{\"line\":{\"color\":\"#E5ECF6\",\"width\":0.5},\"pattern\":{\"fillmode\":\"overlay\",\"size\":10,\"solidity\":0.2}},\"type\":\"bar\"}],\"carpet\":[{\"aaxis\":{\"endlinecolor\":\"#2a3f5f\",\"gridcolor\":\"white\",\"linecolor\":\"white\",\"minorgridcolor\":\"white\",\"startlinecolor\":\"#2a3f5f\"},\"baxis\":{\"endlinecolor\":\"#2a3f5f\",\"gridcolor\":\"white\",\"linecolor\":\"white\",\"minorgridcolor\":\"white\",\"startlinecolor\":\"#2a3f5f\"},\"type\":\"carpet\"}],\"choropleth\":[{\"colorbar\":{\"outlinewidth\":0,\"ticks\":\"\"},\"type\":\"choropleth\"}],\"contourcarpet\":[{\"colorbar\":{\"outlinewidth\":0,\"ticks\":\"\"},\"type\":\"contourcarpet\"}],\"contour\":[{\"colorbar\":{\"outlinewidth\":0,\"ticks\":\"\"},\"colorscale\":[[0.0,\"#0d0887\"],[0.1111111111111111,\"#46039f\"],[0.2222222222222222,\"#7201a8\"],[0.3333333333333333,\"#9c179e\"],[0.4444444444444444,\"#bd3786\"],[0.5555555555555556,\"#d8576b\"],[0.6666666666666666,\"#ed7953\"],[0.7777777777777778,\"#fb9f3a\"],[0.8888888888888888,\"#fdca26\"],[1.0,\"#f0f921\"]],\"type\":\"contour\"}],\"heatmapgl\":[{\"colorbar\":{\"outlinewidth\":0,\"ticks\":\"\"},\"colorscale\":[[0.0,\"#0d0887\"],[0.1111111111111111,\"#46039f\"],[0.2222222222222222,\"#7201a8\"],[0.3333333333333333,\"#9c179e\"],[0.4444444444444444,\"#bd3786\"],[0.5555555555555556,\"#d8576b\"],[0.6666666666666666,\"#ed7953\"],[0.7777777777777778,\"#fb9f3a\"],[0.8888888888888888,\"#fdca26\"],[1.0,\"#f0f921\"]],\"type\":\"heatmapgl\"}],\"heatmap\":[{\"colorbar\":{\"outlinewidth\":0,\"ticks\":\"\"},\"colorscale\":[[0.0,\"#0d0887\"],[0.1111111111111111,\"#46039f\"],[0.2222222222222222,\"#7201a8\"],[0.3333333333333333,\"#9c179e\"],[0.4444444444444444,\"#bd3786\"],[0.5555555555555556,\"#d8576b\"],[0.6666666666666666,\"#ed7953\"],[0.7777777777777778,\"#fb9f3a\"],[0.8888888888888888,\"#fdca26\"],[1.0,\"#f0f921\"]],\"type\":\"heatmap\"}],\"histogram2dcontour\":[{\"colorbar\":{\"outlinewidth\":0,\"ticks\":\"\"},\"colorscale\":[[0.0,\"#0d0887\"],[0.1111111111111111,\"#46039f\"],[0.2222222222222222,\"#7201a8\"],[0.3333333333333333,\"#9c179e\"],[0.4444444444444444,\"#bd3786\"],[0.5555555555555556,\"#d8576b\"],[0.6666666666666666,\"#ed7953\"],[0.7777777777777778,\"#fb9f3a\"],[0.8888888888888888,\"#fdca26\"],[1.0,\"#f0f921\"]],\"type\":\"histogram2dcontour\"}],\"histogram2d\":[{\"colorbar\":{\"outlinewidth\":0,\"ticks\":\"\"},\"colorscale\":[[0.0,\"#0d0887\"],[0.1111111111111111,\"#46039f\"],[0.2222222222222222,\"#7201a8\"],[0.3333333333333333,\"#9c179e\"],[0.4444444444444444,\"#bd3786\"],[0.5555555555555556,\"#d8576b\"],[0.6666666666666666,\"#ed7953\"],[0.7777777777777778,\"#fb9f3a\"],[0.8888888888888888,\"#fdca26\"],[1.0,\"#f0f921\"]],\"type\":\"histogram2d\"}],\"histogram\":[{\"marker\":{\"pattern\":{\"fillmode\":\"overlay\",\"size\":10,\"solidity\":0.2}},\"type\":\"histogram\"}],\"mesh3d\":[{\"colorbar\":{\"outlinewidth\":0,\"ticks\":\"\"},\"type\":\"mesh3d\"}],\"parcoords\":[{\"line\":{\"colorbar\":{\"outlinewidth\":0,\"ticks\":\"\"}},\"type\":\"parcoords\"}],\"pie\":[{\"automargin\":true,\"type\":\"pie\"}],\"scatter3d\":[{\"line\":{\"colorbar\":{\"outlinewidth\":0,\"ticks\":\"\"}},\"marker\":{\"colorbar\":{\"outlinewidth\":0,\"ticks\":\"\"}},\"type\":\"scatter3d\"}],\"scattercarpet\":[{\"marker\":{\"colorbar\":{\"outlinewidth\":0,\"ticks\":\"\"}},\"type\":\"scattercarpet\"}],\"scattergeo\":[{\"marker\":{\"colorbar\":{\"outlinewidth\":0,\"ticks\":\"\"}},\"type\":\"scattergeo\"}],\"scattergl\":[{\"marker\":{\"colorbar\":{\"outlinewidth\":0,\"ticks\":\"\"}},\"type\":\"scattergl\"}],\"scattermapbox\":[{\"marker\":{\"colorbar\":{\"outlinewidth\":0,\"ticks\":\"\"}},\"type\":\"scattermapbox\"}],\"scatterpolargl\":[{\"marker\":{\"colorbar\":{\"outlinewidth\":0,\"ticks\":\"\"}},\"type\":\"scatterpolargl\"}],\"scatterpolar\":[{\"marker\":{\"colorbar\":{\"outlinewidth\":0,\"ticks\":\"\"}},\"type\":\"scatterpolar\"}],\"scatter\":[{\"fillpattern\":{\"fillmode\":\"overlay\",\"size\":10,\"solidity\":0.2},\"type\":\"scatter\"}],\"scatterternary\":[{\"marker\":{\"colorbar\":{\"outlinewidth\":0,\"ticks\":\"\"}},\"type\":\"scatterternary\"}],\"surface\":[{\"colorbar\":{\"outlinewidth\":0,\"ticks\":\"\"},\"colorscale\":[[0.0,\"#0d0887\"],[0.1111111111111111,\"#46039f\"],[0.2222222222222222,\"#7201a8\"],[0.3333333333333333,\"#9c179e\"],[0.4444444444444444,\"#bd3786\"],[0.5555555555555556,\"#d8576b\"],[0.6666666666666666,\"#ed7953\"],[0.7777777777777778,\"#fb9f3a\"],[0.8888888888888888,\"#fdca26\"],[1.0,\"#f0f921\"]],\"type\":\"surface\"}],\"table\":[{\"cells\":{\"fill\":{\"color\":\"#EBF0F8\"},\"line\":{\"color\":\"white\"}},\"header\":{\"fill\":{\"color\":\"#C8D4E3\"},\"line\":{\"color\":\"white\"}},\"type\":\"table\"}]},\"layout\":{\"annotationdefaults\":{\"arrowcolor\":\"#2a3f5f\",\"arrowhead\":0,\"arrowwidth\":1},\"autotypenumbers\":\"strict\",\"coloraxis\":{\"colorbar\":{\"outlinewidth\":0,\"ticks\":\"\"}},\"colorscale\":{\"diverging\":[[0,\"#8e0152\"],[0.1,\"#c51b7d\"],[0.2,\"#de77ae\"],[0.3,\"#f1b6da\"],[0.4,\"#fde0ef\"],[0.5,\"#f7f7f7\"],[0.6,\"#e6f5d0\"],[0.7,\"#b8e186\"],[0.8,\"#7fbc41\"],[0.9,\"#4d9221\"],[1,\"#276419\"]],\"sequential\":[[0.0,\"#0d0887\"],[0.1111111111111111,\"#46039f\"],[0.2222222222222222,\"#7201a8\"],[0.3333333333333333,\"#9c179e\"],[0.4444444444444444,\"#bd3786\"],[0.5555555555555556,\"#d8576b\"],[0.6666666666666666,\"#ed7953\"],[0.7777777777777778,\"#fb9f3a\"],[0.8888888888888888,\"#fdca26\"],[1.0,\"#f0f921\"]],\"sequentialminus\":[[0.0,\"#0d0887\"],[0.1111111111111111,\"#46039f\"],[0.2222222222222222,\"#7201a8\"],[0.3333333333333333,\"#9c179e\"],[0.4444444444444444,\"#bd3786\"],[0.5555555555555556,\"#d8576b\"],[0.6666666666666666,\"#ed7953\"],[0.7777777777777778,\"#fb9f3a\"],[0.8888888888888888,\"#fdca26\"],[1.0,\"#f0f921\"]]},\"colorway\":[\"#636efa\",\"#EF553B\",\"#00cc96\",\"#ab63fa\",\"#FFA15A\",\"#19d3f3\",\"#FF6692\",\"#B6E880\",\"#FF97FF\",\"#FECB52\"],\"font\":{\"color\":\"#2a3f5f\"},\"geo\":{\"bgcolor\":\"white\",\"lakecolor\":\"white\",\"landcolor\":\"#E5ECF6\",\"showlakes\":true,\"showland\":true,\"subunitcolor\":\"white\"},\"hoverlabel\":{\"align\":\"left\"},\"hovermode\":\"closest\",\"mapbox\":{\"style\":\"light\"},\"paper_bgcolor\":\"white\",\"plot_bgcolor\":\"#E5ECF6\",\"polar\":{\"angularaxis\":{\"gridcolor\":\"white\",\"linecolor\":\"white\",\"ticks\":\"\"},\"bgcolor\":\"#E5ECF6\",\"radialaxis\":{\"gridcolor\":\"white\",\"linecolor\":\"white\",\"ticks\":\"\"}},\"scene\":{\"xaxis\":{\"backgroundcolor\":\"#E5ECF6\",\"gridcolor\":\"white\",\"gridwidth\":2,\"linecolor\":\"white\",\"showbackground\":true,\"ticks\":\"\",\"zerolinecolor\":\"white\"},\"yaxis\":{\"backgroundcolor\":\"#E5ECF6\",\"gridcolor\":\"white\",\"gridwidth\":2,\"linecolor\":\"white\",\"showbackground\":true,\"ticks\":\"\",\"zerolinecolor\":\"white\"},\"zaxis\":{\"backgroundcolor\":\"#E5ECF6\",\"gridcolor\":\"white\",\"gridwidth\":2,\"linecolor\":\"white\",\"showbackground\":true,\"ticks\":\"\",\"zerolinecolor\":\"white\"}},\"shapedefaults\":{\"line\":{\"color\":\"#2a3f5f\"}},\"ternary\":{\"aaxis\":{\"gridcolor\":\"white\",\"linecolor\":\"white\",\"ticks\":\"\"},\"baxis\":{\"gridcolor\":\"white\",\"linecolor\":\"white\",\"ticks\":\"\"},\"bgcolor\":\"#E5ECF6\",\"caxis\":{\"gridcolor\":\"white\",\"linecolor\":\"white\",\"ticks\":\"\"}},\"title\":{\"x\":0.05},\"xaxis\":{\"automargin\":true,\"gridcolor\":\"white\",\"linecolor\":\"white\",\"ticks\":\"\",\"title\":{\"standoff\":15},\"zerolinecolor\":\"white\",\"zerolinewidth\":2},\"yaxis\":{\"automargin\":true,\"gridcolor\":\"white\",\"linecolor\":\"white\",\"ticks\":\"\",\"title\":{\"standoff\":15},\"zerolinecolor\":\"white\",\"zerolinewidth\":2}}},\"title\":{\"text\":\"Amount of Correlated Pairs for the whole Data Set (S2 nomatch stimulus)\"},\"xaxis\":{\"title\":{\"text\":\"Channel Pairs\"}},\"yaxis\":{\"title\":{\"text\":\"Ratio of Trail count by count of group\"}}},                        {\"responsive\": true}                    ).then(function(){\n",
       "                            \n",
       "var gd = document.getElementById('1b27cce3-c3d0-4192-9c09-d9d847f2d9f6');\n",
       "var x = new MutationObserver(function (mutations, observer) {{\n",
       "        var display = window.getComputedStyle(gd).display;\n",
       "        if (!display || display === 'none') {{\n",
       "            console.log([gd, 'removed!']);\n",
       "            Plotly.purge(gd);\n",
       "            observer.disconnect();\n",
       "        }}\n",
       "}});\n",
       "\n",
       "// Listen for the removal of the full notebook cells\n",
       "var notebookContainer = gd.closest('#notebook-container');\n",
       "if (notebookContainer) {{\n",
       "    x.observe(notebookContainer, {childList: true});\n",
       "}}\n",
       "\n",
       "// Listen for the clearing of the current output cell\n",
       "var outputEl = gd.closest('.output');\n",
       "if (outputEl) {{\n",
       "    x.observe(outputEl, {childList: true});\n",
       "}}\n",
       "\n",
       "                        })                };                });            </script>        </div>"
      ]
     },
     "metadata": {},
     "output_type": "display_data"
    }
   ],
   "source": [
    "vs.plot(EEG_data)"
   ]
  },
  {
   "cell_type": "markdown",
   "id": "95dc0fcb-c54c-425f-80b7-03baca1fce80",
   "metadata": {},
   "source": [
    "<h1>Data Preprocessing<h1>"
   ]
  },
  {
   "cell_type": "code",
   "execution_count": 20,
   "id": "2d77bb09-2737-469f-bcc3-b654bf5c4cab",
   "metadata": {
    "execution": {
     "iopub.execute_input": "2022-06-06T16:28:10.234847Z",
     "iopub.status.busy": "2022-06-06T16:28:10.234633Z",
     "iopub.status.idle": "2022-06-06T16:28:10.239872Z",
     "shell.execute_reply": "2022-06-06T16:28:10.239497Z",
     "shell.execute_reply.started": "2022-06-06T16:28:10.234830Z"
    }
   },
   "outputs": [],
   "source": [
    "def to_numerical(df, numerical_features, categorical_features, target_variable):\n",
    "\n",
    "    \"\"\"\n",
    "    summary: This function is responsible to implement the pipeline for transforming categorical features into numerical ones\n",
    "             also after transfering the daata \n",
    "    paraams:\n",
    "        - df: the input dataframe\n",
    "        - numerical_features: the list of column names in `df` corresponding to numerical features\n",
    "        - categorical_features: the list of column names in `df` corresponding to categorical features\n",
    "        - target_variable: the column name in `df` corresponding to the target variable\n",
    "\n",
    "    Return:\n",
    "        - transformer: the pipeline of transformation fit to `df` (for future usage)\n",
    "        - df_transformed: the dataframe transformed according to the pipeline\n",
    "    \"\"\"\n",
    "\n",
    "    indexers = [StringIndexer(inputCol=c, outputCol=\"{0}_indexed\".format(c), handleInvalid=\"keep\") for c in categorical_features]\n",
    "    encoder = OneHotEncoder(inputCols=[indexer.getOutputCol() for indexer in indexers], \n",
    "                                    outputCols=[\"{0}_encoded\".format(indexer.getOutputCol()) for indexer in indexers], \n",
    "                                    handleInvalid=\"keep\")\n",
    "\n",
    "    label_indexer = StringIndexer(inputCol = target_variable, outputCol = \"label\")\n",
    "    assembler = VectorAssembler(inputCols=encoder.getOutputCols() + numerical_features, outputCol=\"features\")\n",
    "    scaler = StandardScaler(inputCol=assembler.getOutputCol(), outputCol=\"std_\"+assembler.getOutputCol(), withStd=True, withMean=True)\n",
    "    stages = indexers + [encoder] + [label_indexer] + [assembler] + [scaler]\n",
    "    pipeline = Pipeline(stages=stages)\n",
    "    transformer = pipeline.fit(df)\n",
    "    df_transformed = transformer.transform(df)\n",
    "    return transformer, df_transformed "
   ]
  },
  {
   "cell_type": "code",
   "execution_count": 21,
   "id": "c4fe96de-2dc9-4898-8bb5-f5412a8e7e32",
   "metadata": {
    "execution": {
     "iopub.execute_input": "2022-06-06T16:28:10.240443Z",
     "iopub.status.busy": "2022-06-06T16:28:10.240349Z",
     "iopub.status.idle": "2022-06-06T16:28:10.247818Z",
     "shell.execute_reply": "2022-06-06T16:28:10.247384Z",
     "shell.execute_reply.started": "2022-06-06T16:28:10.240430Z"
    }
   },
   "outputs": [],
   "source": [
    "numerical_features = ['sensor value', 'channel','sample num', 'trial number']\n",
    "categorial_features = ['matching condition']\n",
    "target_feature = 'subject identifier'"
   ]
  },
  {
   "cell_type": "code",
   "execution_count": 22,
   "id": "60d64540-0130-42c4-9b3b-80105e195311",
   "metadata": {
    "execution": {
     "iopub.execute_input": "2022-06-06T16:28:10.250922Z",
     "iopub.status.busy": "2022-06-06T16:28:10.250745Z",
     "iopub.status.idle": "2022-06-06T16:28:10.268760Z",
     "shell.execute_reply": "2022-06-06T16:28:10.268252Z",
     "shell.execute_reply.started": "2022-06-06T16:28:10.250904Z"
    }
   },
   "outputs": [],
   "source": [
    "train_df, test_df = EEG_data.randomSplit([0.7, 0.3], seed=seed)"
   ]
  },
  {
   "cell_type": "code",
   "execution_count": 23,
   "id": "5bf85f89-2c9c-459f-b6b3-11955d7b52a4",
   "metadata": {
    "execution": {
     "iopub.execute_input": "2022-06-06T16:28:10.269801Z",
     "iopub.status.busy": "2022-06-06T16:28:10.269600Z",
     "iopub.status.idle": "2022-06-06T16:28:31.751801Z",
     "shell.execute_reply": "2022-06-06T16:28:31.751251Z",
     "shell.execute_reply.started": "2022-06-06T16:28:10.269777Z"
    }
   },
   "outputs": [
    {
     "data": {
      "text/html": [
       "<table border='1'>\n",
       "<tr><th>count(1)</th></tr>\n",
       "<tr><td>2192087</td></tr>\n",
       "</table>\n"
      ],
      "text/plain": [
       "+--------+\n",
       "|count(1)|\n",
       "+--------+\n",
       "| 2192087|\n",
       "+--------+"
      ]
     },
     "execution_count": 23,
     "metadata": {},
     "output_type": "execute_result"
    }
   ],
   "source": [
    "test_df.createOrReplaceTempView('test_df')\n",
    "spark.sql(\"select count(*) from test_df where `subject identifier`='a'\")"
   ]
  },
  {
   "cell_type": "code",
   "execution_count": 24,
   "id": "3b8409db-f8ba-4d3d-962b-fafcddcc828e",
   "metadata": {
    "execution": {
     "iopub.execute_input": "2022-06-06T16:28:31.752834Z",
     "iopub.status.busy": "2022-06-06T16:28:31.752663Z",
     "iopub.status.idle": "2022-06-06T16:28:51.624336Z",
     "shell.execute_reply": "2022-06-06T16:28:51.623516Z",
     "shell.execute_reply.started": "2022-06-06T16:28:31.752812Z"
    }
   },
   "outputs": [
    {
     "data": {
      "text/html": [
       "<table border='1'>\n",
       "<tr><th>count(1)</th></tr>\n",
       "<tr><td>2136952</td></tr>\n",
       "</table>\n"
      ],
      "text/plain": [
       "+--------+\n",
       "|count(1)|\n",
       "+--------+\n",
       "| 2136952|\n",
       "+--------+"
      ]
     },
     "execution_count": 24,
     "metadata": {},
     "output_type": "execute_result"
    }
   ],
   "source": [
    "spark.sql(\"select count(*) from test_df where `subject identifier`='c'\")"
   ]
  },
  {
   "cell_type": "code",
   "execution_count": 25,
   "id": "54884654-ced1-4896-b65a-5a5828312691",
   "metadata": {
    "execution": {
     "iopub.execute_input": "2022-06-06T16:28:51.625594Z",
     "iopub.status.busy": "2022-06-06T16:28:51.625405Z",
     "iopub.status.idle": "2022-06-06T16:29:11.857919Z",
     "shell.execute_reply": "2022-06-06T16:29:11.857454Z",
     "shell.execute_reply.started": "2022-06-06T16:28:51.625569Z"
    }
   },
   "outputs": [
    {
     "data": {
      "text/html": [
       "<table border='1'>\n",
       "<tr><th>count(1)</th></tr>\n",
       "<tr><td>5116201</td></tr>\n",
       "</table>\n"
      ],
      "text/plain": [
       "+--------+\n",
       "|count(1)|\n",
       "+--------+\n",
       "| 5116201|\n",
       "+--------+"
      ]
     },
     "execution_count": 25,
     "metadata": {},
     "output_type": "execute_result"
    }
   ],
   "source": [
    "train_df.createOrReplaceTempView('train_df')\n",
    "spark.sql(\"select count(*) from train_df where `subject identifier`='a'\")"
   ]
  },
  {
   "cell_type": "code",
   "execution_count": 26,
   "id": "49dc1a8b-edce-43c4-8924-79cd6b699d20",
   "metadata": {
    "execution": {
     "iopub.execute_input": "2022-06-06T16:29:11.858935Z",
     "iopub.status.busy": "2022-06-06T16:29:11.858753Z",
     "iopub.status.idle": "2022-06-06T16:29:31.870699Z",
     "shell.execute_reply": "2022-06-06T16:29:31.870191Z",
     "shell.execute_reply.started": "2022-06-06T16:29:11.858915Z"
    }
   },
   "outputs": [
    {
     "data": {
      "text/html": [
       "<table border='1'>\n",
       "<tr><th>count(1)</th></tr>\n",
       "<tr><td>4983944</td></tr>\n",
       "</table>\n"
      ],
      "text/plain": [
       "+--------+\n",
       "|count(1)|\n",
       "+--------+\n",
       "| 4983944|\n",
       "+--------+"
      ]
     },
     "execution_count": 26,
     "metadata": {},
     "output_type": "execute_result"
    }
   ],
   "source": [
    "spark.sql(\"select count(*) from train_df where `subject identifier`='c'\")"
   ]
  },
  {
   "cell_type": "code",
   "execution_count": 27,
   "id": "9f09d173-cc32-44c1-abed-862d7e061c2d",
   "metadata": {
    "execution": {
     "iopub.execute_input": "2022-06-06T16:29:31.871727Z",
     "iopub.status.busy": "2022-06-06T16:29:31.871552Z",
     "iopub.status.idle": "2022-06-06T16:30:08.448967Z",
     "shell.execute_reply": "2022-06-06T16:30:08.448355Z",
     "shell.execute_reply.started": "2022-06-06T16:29:31.871704Z"
    }
   },
   "outputs": [],
   "source": [
    "# Transform the training set and get back both the transformer and the new dataset\n",
    "transformer, train = to_numerical(train_df, numerical_features, categorial_features, 'subject identifier')"
   ]
  },
  {
   "cell_type": "code",
   "execution_count": 28,
   "id": "fe0fa3c2-61c5-426e-8f73-c7d7846cd5b7",
   "metadata": {
    "execution": {
     "iopub.execute_input": "2022-06-06T16:30:08.450109Z",
     "iopub.status.busy": "2022-06-06T16:30:08.449909Z",
     "iopub.status.idle": "2022-06-06T16:30:08.506582Z",
     "shell.execute_reply": "2022-06-06T16:30:08.506006Z",
     "shell.execute_reply.started": "2022-06-06T16:30:08.450082Z"
    }
   },
   "outputs": [],
   "source": [
    "#transform the test data\n",
    "test = transformer.transform(test_df)"
   ]
  },
  {
   "cell_type": "code",
   "execution_count": 29,
   "id": "bdbba5ec-36f8-4016-8739-1a9e3832e4ae",
   "metadata": {
    "execution": {
     "iopub.execute_input": "2022-06-06T16:30:08.508119Z",
     "iopub.status.busy": "2022-06-06T16:30:08.507655Z",
     "iopub.status.idle": "2022-06-06T16:30:17.073558Z",
     "shell.execute_reply": "2022-06-06T16:30:17.073094Z",
     "shell.execute_reply.started": "2022-06-06T16:30:08.508099Z"
    }
   },
   "outputs": [
    {
     "name": "stdout",
     "output_type": "stream",
     "text": [
      "+---+------------+---------------+----------+------------+------------------+------------------+-------+-----------+----+--------------------------+----------------------------------+-----+--------------------+--------------------+\n",
      "|_c0|trial number|sensor position|sample num|sensor value|subject identifier|matching condition|channel|       name|time|matching condition_indexed|matching condition_indexed_encoded|label|            features|        std_features|\n",
      "+---+------------+---------------+----------+------------+------------------+------------------+-------+-----------+----+--------------------------+----------------------------------+-----+--------------------+--------------------+\n",
      "|  5|           4|            FP1|         0|      -3.784|                 a|            S1 obj|      0|co2a0000372| 0.0|                       0.0|                     (4,[0],[1.0])|  0.0|(8,[0,4,7],[1.0,-...|[1.37450527313268...|\n",
      "|  5|           4|            FP1|         0|       3.764|                 a|            S1 obj|      0|co2a0000375| 0.0|                       0.0|                     (4,[0],[1.0])|  0.0|(8,[0,4,7],[1.0,3...|[1.37450527313268...|\n",
      "+---+------------+---------------+----------+------------+------------------+------------------+-------+-----------+----+--------------------------+----------------------------------+-----+--------------------+--------------------+\n",
      "only showing top 2 rows\n",
      "\n"
     ]
    }
   ],
   "source": [
    "train.show(2)"
   ]
  },
  {
   "cell_type": "code",
   "execution_count": 30,
   "id": "195a18ab-16dc-4eb9-87b9-f0bfe9dd3fe2",
   "metadata": {
    "execution": {
     "iopub.execute_input": "2022-06-06T16:30:17.074644Z",
     "iopub.status.busy": "2022-06-06T16:30:17.074376Z",
     "iopub.status.idle": "2022-06-06T16:30:17.089618Z",
     "shell.execute_reply": "2022-06-06T16:30:17.089020Z",
     "shell.execute_reply.started": "2022-06-06T16:30:17.074619Z"
    }
   },
   "outputs": [],
   "source": [
    "#get only standard scaled features and labels and usse them through of the whole trainings\n",
    "trainRDD = train.select([\"std_features\", \"label\"])\n",
    "testRDD = test.select([\"std_features\",\"label\"])"
   ]
  },
  {
   "cell_type": "markdown",
   "id": "7cec44d7-870e-40dc-89b6-2dde5505e432",
   "metadata": {},
   "source": [
    "<h1>ML algorithms</h1>"
   ]
  },
  {
   "cell_type": "code",
   "execution_count": 31,
   "id": "0024bd68-a1ae-4a4d-9783-d9bdb9e4b548",
   "metadata": {
    "execution": {
     "iopub.execute_input": "2022-06-06T16:30:17.090963Z",
     "iopub.status.busy": "2022-06-06T16:30:17.090579Z",
     "iopub.status.idle": "2022-06-06T16:30:17.097395Z",
     "shell.execute_reply": "2022-06-06T16:30:17.096822Z",
     "shell.execute_reply.started": "2022-06-06T16:30:17.090936Z"
    }
   },
   "outputs": [],
   "source": [
    "def evaluate_model_Multi(predictions):\n",
    "        \"\"\"\n",
    "        summary: based on the prediction Dataframe, this function calculate accuracy,\n",
    "        test Error, and plot the confusion Matrix\n",
    "        \n",
    "        params:\n",
    "            predication: Spark Dataframe conating all the predictions for test set\n",
    "        \"\"\"\n",
    "        evaluator = MulticlassClassificationEvaluator(labelCol=\"label\", predictionCol=\"prediction\")\n",
    "        accuracy = evaluator.evaluate(predictions)\n",
    "        print(\"Accuracy : : {:.3f}\".format(accuracy))\n",
    "        print(\"Test Error : {:.3f}\".format(1-accuracy))\n",
    "\n",
    "        preds_and_labels = predictions.select(['prediction','label'])\\\n",
    "                            .withColumn('label', F.col('label').cast(FloatType())).orderBy('prediction')\n",
    "        preds_and_labels = preds_and_labels.select(['prediction','label'])\n",
    "        metrics = MulticlassMetrics(preds_and_labels.rdd.map(tuple))\n",
    "        \n",
    "        print(metrics.confusionMatrix().toArray())\n",
    "        vs.plot_confusion(metrics.confusionMatrix().toArray())"
   ]
  },
  {
   "cell_type": "code",
   "execution_count": 32,
   "id": "1ee60b7e-fd97-43be-920d-b912505a09a2",
   "metadata": {
    "execution": {
     "iopub.execute_input": "2022-06-06T16:30:17.098676Z",
     "iopub.status.busy": "2022-06-06T16:30:17.098277Z",
     "iopub.status.idle": "2022-06-06T16:30:17.102479Z",
     "shell.execute_reply": "2022-06-06T16:30:17.101949Z",
     "shell.execute_reply.started": "2022-06-06T16:30:17.098650Z"
    }
   },
   "outputs": [],
   "source": [
    "def evaluate_model_bin(predictions, metric=\"areaUnderROC\"):\n",
    "    \"\"\"\n",
    "    summary: evaluations of the model with binary classifier \n",
    "    params:\n",
    "        predication: Spark Dataframe conating all the predictions for test set\n",
    "        metric: metric to evaluvate for the dataframe\n",
    "    returns:\n",
    "        a float number indicating the value of metric given\n",
    "    \"\"\"\n",
    "    evaluator = BinaryClassificationEvaluator(metricName=metric)\n",
    "    return evaluator.evaluate(predictions)"
   ]
  },
  {
   "cell_type": "code",
   "execution_count": 33,
   "id": "23b61d66-58c1-4839-b778-3f6a65162143",
   "metadata": {
    "execution": {
     "iopub.execute_input": "2022-06-06T16:30:17.103544Z",
     "iopub.status.busy": "2022-06-06T16:30:17.103310Z",
     "iopub.status.idle": "2022-06-06T16:30:17.108140Z",
     "shell.execute_reply": "2022-06-06T16:30:17.107669Z",
     "shell.execute_reply.started": "2022-06-06T16:30:17.103520Z"
    }
   },
   "outputs": [],
   "source": [
    "def evaluvation_M_B(predeictions, model):\n",
    "    \"\"\"\n",
    "    summary: get the prediction calculate areaunderROC, areaUnderPR, accuracy , test errorr\n",
    "             plot the confusion Matrix\n",
    "    params:\n",
    "         predication: Spark Dataframe conating all the predictions for test set\n",
    "         model: string, name of the model that the predications are based on\n",
    "        \n",
    "    \"\"\"\n",
    "    print(\"***** Test Set Results For {0} *****\".format(model))\n",
    "    print(\"Area Under ROC Curve (ROC AUC): {:.3f}\".format(evaluate_model_bin(predeictions)))\n",
    "    print(\"Area Under Precision-Recall Curve: {:.3f}\".format(evaluate_model_bin(predeictions, metric=\"areaUnderPR\")))\n",
    "    evaluate_model_Multi(predeictions)\n",
    "    print(\"***** Test Set *****\")"
   ]
  },
  {
   "cell_type": "code",
   "execution_count": 34,
   "id": "6a3c69d6-3f0f-4d07-aeeb-6d99bdfc4454",
   "metadata": {
    "execution": {
     "iopub.execute_input": "2022-06-06T16:30:17.109079Z",
     "iopub.status.busy": "2022-06-06T16:30:17.108880Z",
     "iopub.status.idle": "2022-06-06T16:30:17.113905Z",
     "shell.execute_reply": "2022-06-06T16:30:17.113386Z",
     "shell.execute_reply.started": "2022-06-06T16:30:17.109059Z"
    }
   },
   "outputs": [],
   "source": [
    "def CV_data(models):\n",
    "    \"\"\"\n",
    "    summary: for each of the cross Validation model, it prints avarge roc_auc\n",
    "    params:\n",
    "        models: set of traind cross validate models\n",
    "    \"\"\"\n",
    "    for i, avg_roc_auc in enumerate(models.avgMetrics):\n",
    "        print(\"Avg. ROC AUC computed across k-fold cross validation for model setting #{:d}: {:.3f}\".format(i+1, avg_roc_auc))"
   ]
  },
  {
   "cell_type": "code",
   "execution_count": 35,
   "id": "68561597-c904-4322-8a23-f41aae7c433b",
   "metadata": {
    "execution": {
     "iopub.execute_input": "2022-06-06T16:30:17.115085Z",
     "iopub.status.busy": "2022-06-06T16:30:17.114657Z",
     "iopub.status.idle": "2022-06-06T16:30:17.121287Z",
     "shell.execute_reply": "2022-06-06T16:30:17.120771Z",
     "shell.execute_reply.started": "2022-06-06T16:30:17.115057Z"
    }
   },
   "outputs": [],
   "source": [
    "def RandomForestClassifier_pipeline(train, k_fold=5):\n",
    "    \"\"\"\n",
    "    summary: a pipleline will be trained using cross validation for random forest\n",
    "    \n",
    "    params:\n",
    "        train: trained tranformed vectories data\n",
    "        k_fold: the number of folds used in CV\n",
    "    returns:\n",
    "        bestModel: CV model trained with traing data given with best choosen paarams\n",
    "    \"\"\"\n",
    "\n",
    "    rf = RandomForestClassifier(featuresCol = 'std_features', labelCol = 'label')\n",
    "    stage = [rf]\n",
    "    pipeline = Pipeline(stages=stage)\n",
    "    paramGrid = ParamGridBuilder() \\\n",
    "        .addGrid(rf.numTrees, np.arange(start = 64, stop = 160, step = 32)) \\\n",
    "        .addGrid(rf.maxDepth, [2, 4, 8]) \\\n",
    "        .build()\n",
    "\n",
    "\n",
    "    crossval = CrossValidator(estimator=pipeline,\n",
    "                              estimatorParamMaps=paramGrid,\n",
    "                              evaluator=BinaryClassificationEvaluator(metricName=\"areaUnderROC\"),\n",
    "                              collectSubModels=True,\n",
    "                              numFolds=k_fold)  \n",
    "    start_time = time.time()\n",
    "    # Run cross-validation, and choose the best set of parameters.\n",
    "    bestModel = crossval.fit(train)\n",
    "    print(\"--- %s seconds ---\" % (time.time() - start_time))\n",
    "    return bestModel"
   ]
  },
  {
   "cell_type": "code",
   "execution_count": 36,
   "id": "61a7b0e8-567b-44ce-b1c2-fa7944ee8502",
   "metadata": {
    "execution": {
     "iopub.execute_input": "2022-06-06T16:30:17.122312Z",
     "iopub.status.busy": "2022-06-06T16:30:17.122078Z",
     "iopub.status.idle": "2022-06-06T18:29:30.039319Z",
     "shell.execute_reply": "2022-06-06T18:29:30.032166Z",
     "shell.execute_reply.started": "2022-06-06T16:30:17.122287Z"
    }
   },
   "outputs": [
    {
     "name": "stdout",
     "output_type": "stream",
     "text": [
      "--- 7138.660521507263 seconds ---\n"
     ]
    }
   ],
   "source": [
    "RFModel = RandomForestClassifier_pipeline(trainRDD, 5)\n",
    "basePath = \"./bestModels\"\n",
    "RFModel.save(basePath + \"/randomForest\")"
   ]
  },
  {
   "cell_type": "code",
   "execution_count": 37,
   "id": "4d8389ec-46d9-489d-b2c0-9fb39b7998aa",
   "metadata": {
    "execution": {
     "iopub.execute_input": "2022-06-06T18:29:30.070588Z",
     "iopub.status.busy": "2022-06-06T18:29:30.069660Z",
     "iopub.status.idle": "2022-06-06T18:29:30.117296Z",
     "shell.execute_reply": "2022-06-06T18:29:30.116789Z",
     "shell.execute_reply.started": "2022-06-06T18:29:30.070269Z"
    }
   },
   "outputs": [
    {
     "name": "stdout",
     "output_type": "stream",
     "text": [
      "Avg. ROC AUC computed across k-fold cross validation for model setting #1: 0.573\n",
      "Avg. ROC AUC computed across k-fold cross validation for model setting #2: 0.595\n",
      "Avg. ROC AUC computed across k-fold cross validation for model setting #3: 0.617\n",
      "Avg. ROC AUC computed across k-fold cross validation for model setting #4: 0.573\n",
      "Avg. ROC AUC computed across k-fold cross validation for model setting #5: 0.596\n",
      "Avg. ROC AUC computed across k-fold cross validation for model setting #6: 0.617\n",
      "Avg. ROC AUC computed across k-fold cross validation for model setting #7: 0.574\n",
      "Avg. ROC AUC computed across k-fold cross validation for model setting #8: 0.597\n",
      "Avg. ROC AUC computed across k-fold cross validation for model setting #9: 0.617\n"
     ]
    }
   ],
   "source": [
    "predictionRF = RFModel.transform(testRDD)\n",
    "CV_data(RFModel)"
   ]
  },
  {
   "cell_type": "code",
   "execution_count": 38,
   "id": "e98ec8ba-853e-4a08-8c8f-b090f65c00e4",
   "metadata": {
    "execution": {
     "iopub.execute_input": "2022-06-06T18:29:30.118356Z",
     "iopub.status.busy": "2022-06-06T18:29:30.118257Z",
     "iopub.status.idle": "2022-06-06T18:31:27.815345Z",
     "shell.execute_reply": "2022-06-06T18:31:27.815007Z",
     "shell.execute_reply.started": "2022-06-06T18:29:30.118342Z"
    }
   },
   "outputs": [
    {
     "name": "stdout",
     "output_type": "stream",
     "text": [
      "***** Test Set Results For Random Forset Classifier *****\n",
      "Area Under ROC Curve (ROC AUC): 0.617\n",
      "Area Under Precision-Recall Curve: 0.624\n",
      "Accuracy : : 0.580\n",
      "Test Error : 0.420\n",
      "[[1630596.  561491.]\n",
      " [1213201.  923751.]]\n"
     ]
    },
    {
     "data": {
      "image/png": "[encoded data removed]",
      "text/plain": [
       "<Figure size 432x288 with 2 Axes>"
      ]
     },
     "metadata": {
      "needs_background": "light"
     },
     "output_type": "display_data"
    },
    {
     "name": "stdout",
     "output_type": "stream",
     "text": [
      "***** Test Set *****\n"
     ]
    }
   ],
   "source": [
    "evaluvation_M_B(predictionRF, 'Random Forset Classifier')"
   ]
  },
  {
   "cell_type": "code",
   "execution_count": 39,
   "id": "4100b7d2-06e4-4813-b8a8-f98b51f739c8",
   "metadata": {
    "execution": {
     "iopub.execute_input": "2022-06-06T18:31:27.816372Z",
     "iopub.status.busy": "2022-06-06T18:31:27.816148Z",
     "iopub.status.idle": "2022-06-06T18:31:27.820368Z",
     "shell.execute_reply": "2022-06-06T18:31:27.819958Z",
     "shell.execute_reply.started": "2022-06-06T18:31:27.816352Z"
    }
   },
   "outputs": [
    {
     "name": "stdout",
     "output_type": "stream",
     "text": [
      "RandomForestClassificationModel: uid=RandomForestClassifier_4b76b8ba0d9a, numTrees=64, numClasses=2, numFeatures=8\n"
     ]
    }
   ],
   "source": [
    "print(RFModel.bestModel.stages[-1])"
   ]
  },
  {
   "cell_type": "markdown",
   "id": "e118f244-565a-4524-b7e4-cab0dc38a37e",
   "metadata": {},
   "source": [
    "<h2>SVM</h2>"
   ]
  },
  {
   "cell_type": "code",
   "execution_count": 40,
   "id": "50252e2b-cbe9-4cda-a361-8932d0379bdd",
   "metadata": {
    "execution": {
     "iopub.execute_input": "2022-06-06T18:31:27.821939Z",
     "iopub.status.busy": "2022-06-06T18:31:27.821529Z",
     "iopub.status.idle": "2022-06-06T18:31:27.828319Z",
     "shell.execute_reply": "2022-06-06T18:31:27.827718Z",
     "shell.execute_reply.started": "2022-06-06T18:31:27.821911Z"
    },
    "tags": []
   },
   "outputs": [],
   "source": [
    "# lsvc = LinearSVC(maxIter=100, regParam=0.1, featuresCol = 'std_features', labelCol = 'label')\n",
    "# lsvcModel = lsvc.fit(trainRDD)\n",
    "\n",
    "# coefficients = lsvcModel.coefficients\n",
    "# intercept = lsvcModel.intercept\n",
    "# print(\"Some coefficients: \" + str(coefficients))\n",
    "# print(\"Intercept: \" + str(intercept))\n",
    "# predictionSVM = lsvcModel.transform(testRDD)"
   ]
  },
  {
   "cell_type": "code",
   "execution_count": 41,
   "id": "e335b2a6-3a36-410c-b6c0-926e3000d557",
   "metadata": {
    "execution": {
     "iopub.execute_input": "2022-06-06T18:31:27.829495Z",
     "iopub.status.busy": "2022-06-06T18:31:27.829354Z",
     "iopub.status.idle": "2022-06-06T18:31:27.835489Z",
     "shell.execute_reply": "2022-06-06T18:31:27.835045Z",
     "shell.execute_reply.started": "2022-06-06T18:31:27.829478Z"
    },
    "tags": []
   },
   "outputs": [],
   "source": [
    "def LinearSVC_pipeline(train, k_fold=5):\n",
    "    \"\"\"\n",
    "    summary: a pipleline will be trained using cross validation for linearSVC\n",
    "    \n",
    "    params:\n",
    "        train: trained tranformed vectories data\n",
    "        k_fold: the number of folds used in CV\n",
    "    returns:\n",
    "        cv_model: CV model trained with traing data given with best choosen paarams\n",
    "    \"\"\"\n",
    "    SV_reg = LinearSVC(featuresCol=\"std_features\", labelCol=\"label\", maxIter=100)\n",
    "    stage = [SV_reg]\n",
    "\n",
    "    # 6. Set up the pipeline\n",
    "    pipeline = Pipeline(stages=stage)\n",
    "    param_grid = ParamGridBuilder()\\\n",
    "    .addGrid(SV_reg.regParam, [0.0, 0.05, 0.1]) \\\n",
    "    .addGrid(SV_reg.maxIter , [100, 1000]) \\\n",
    "    .build()\n",
    "    \n",
    "    cross_val = CrossValidator(estimator=pipeline, \n",
    "                               estimatorParamMaps=param_grid,\n",
    "                               evaluator=BinaryClassificationEvaluator(metricName=\"areaUnderROC\"),\n",
    "                               numFolds=k_fold,\n",
    "                               collectSubModels=True \n",
    "                               )\n",
    "\n",
    "    # Run cross-validation, and choose the best set of parameters.\n",
    "    cv_model = cross_val.fit(train)\n",
    "\n",
    "    return cv_model\n"
   ]
  },
  {
   "cell_type": "code",
   "execution_count": 42,
   "id": "ed6db52a-dcc8-4ddc-9a47-b8d73c10f650",
   "metadata": {
    "execution": {
     "iopub.execute_input": "2022-06-06T18:31:27.836695Z",
     "iopub.status.busy": "2022-06-06T18:31:27.836350Z",
     "iopub.status.idle": "2022-06-06T18:45:32.087076Z",
     "shell.execute_reply": "2022-06-06T18:45:32.086497Z",
     "shell.execute_reply.started": "2022-06-06T18:31:27.836674Z"
    }
   },
   "outputs": [],
   "source": [
    "lsvcModel = LinearSVC_pipeline(trainRDD, 5)\n",
    "lsvcModel.save(basePath + \"/lsvcModel\")\n",
    "predictionSVM = lsvcModel.transform(testRDD)"
   ]
  },
  {
   "cell_type": "code",
   "execution_count": 43,
   "id": "2ed8ef66-0b39-4ee3-b429-23efbc6e1d75",
   "metadata": {
    "execution": {
     "iopub.execute_input": "2022-06-06T18:45:32.088644Z",
     "iopub.status.busy": "2022-06-06T18:45:32.088459Z",
     "iopub.status.idle": "2022-06-06T18:45:32.092475Z",
     "shell.execute_reply": "2022-06-06T18:45:32.091932Z",
     "shell.execute_reply.started": "2022-06-06T18:45:32.088625Z"
    }
   },
   "outputs": [
    {
     "name": "stdout",
     "output_type": "stream",
     "text": [
      "Avg. ROC AUC computed across k-fold cross validation for model setting #1: 0.562\n",
      "Avg. ROC AUC computed across k-fold cross validation for model setting #2: 0.562\n",
      "Avg. ROC AUC computed across k-fold cross validation for model setting #3: 0.553\n",
      "Avg. ROC AUC computed across k-fold cross validation for model setting #4: 0.553\n",
      "Avg. ROC AUC computed across k-fold cross validation for model setting #5: 0.552\n",
      "Avg. ROC AUC computed across k-fold cross validation for model setting #6: 0.552\n"
     ]
    }
   ],
   "source": [
    "CV_data(lsvcModel)"
   ]
  },
  {
   "cell_type": "code",
   "execution_count": 44,
   "id": "16f27330-85ba-471a-84a3-dbd9b8ade843",
   "metadata": {
    "execution": {
     "iopub.execute_input": "2022-06-06T18:45:32.094171Z",
     "iopub.status.busy": "2022-06-06T18:45:32.094007Z",
     "iopub.status.idle": "2022-06-06T18:47:12.416208Z",
     "shell.execute_reply": "2022-06-06T18:47:12.415668Z",
     "shell.execute_reply.started": "2022-06-06T18:45:32.094153Z"
    }
   },
   "outputs": [
    {
     "name": "stdout",
     "output_type": "stream",
     "text": [
      "***** Test Set Results For SVM Classifier *****\n",
      "Area Under ROC Curve (ROC AUC): 0.562\n",
      "Area Under Precision-Recall Curve: 0.568\n",
      "Accuracy : : 0.546\n",
      "Test Error : 0.454\n",
      "[[1341624.  850463.]\n",
      " [1106053. 1030899.]]\n"
     ]
    },
    {
     "data": {
      "image/png": "[encoded data removed]",
      "text/plain": [
       "<Figure size 432x288 with 2 Axes>"
      ]
     },
     "metadata": {
      "needs_background": "light"
     },
     "output_type": "display_data"
    },
    {
     "name": "stdout",
     "output_type": "stream",
     "text": [
      "***** Test Set *****\n"
     ]
    }
   ],
   "source": [
    "evaluvation_M_B(predictionSVM, 'SVM Classifier')"
   ]
  },
  {
   "cell_type": "markdown",
   "id": "3cd58728-9acc-427c-b618-e479000d05ba",
   "metadata": {},
   "source": [
    "<h2>LogisticRegression</h2>"
   ]
  },
  {
   "cell_type": "code",
   "execution_count": 45,
   "id": "b72a1677-c0a5-493e-b465-bb534562b82e",
   "metadata": {
    "execution": {
     "iopub.execute_input": "2022-06-06T18:47:12.418023Z",
     "iopub.status.busy": "2022-06-06T18:47:12.417777Z",
     "iopub.status.idle": "2022-06-06T18:47:12.421445Z",
     "shell.execute_reply": "2022-06-06T18:47:12.420860Z",
     "shell.execute_reply.started": "2022-06-06T18:47:12.417996Z"
    },
    "tags": []
   },
   "outputs": [],
   "source": [
    "# from pyspark.ml.classification import LogisticRegression\n",
    "\n",
    "# lr = LogisticRegression(featuresCol = 'std_features', labelCol = 'label', maxIter=1000)\n",
    "# lrModel = lr.fit(trainRDD)\n",
    "# predictionsLG = lrModel.transform(testRDD)\n"
   ]
  },
  {
   "cell_type": "markdown",
   "id": "447ca658-a807-4c43-aec8-fd508d2e5ba3",
   "metadata": {
    "tags": []
   },
   "source": [
    "<h4>beta coefficient represents the change in the mean response</h4>"
   ]
  },
  {
   "cell_type": "code",
   "execution_count": 46,
   "id": "a8cbf098-a9f1-47a5-a492-e66483983a7c",
   "metadata": {
    "execution": {
     "iopub.execute_input": "2022-06-06T18:47:12.422922Z",
     "iopub.status.busy": "2022-06-06T18:47:12.422746Z",
     "iopub.status.idle": "2022-06-06T18:47:12.427820Z",
     "shell.execute_reply": "2022-06-06T18:47:12.427477Z",
     "shell.execute_reply.started": "2022-06-06T18:47:12.422903Z"
    },
    "tags": []
   },
   "outputs": [],
   "source": [
    "# beta = np.sort(lrModel.coefficients)\n",
    "# plt.plot(beta)\n",
    "# plt.ylabel('Beta Coefficients')\n",
    "# plt.show()\n",
    "# evaluvation_M_B(predictionsLG, 'logestic Regression Classifier')"
   ]
  },
  {
   "cell_type": "markdown",
   "id": "f68585d6-8756-45b4-b3ac-53bbd051492a",
   "metadata": {},
   "source": [
    "<h6>ElasticNet mixing parameter, in range [0, 1]. For alpha = 0, the penalty is an L2 penalty. For alpha = 1, it is an L1 penalty.')</h6>"
   ]
  },
  {
   "cell_type": "code",
   "execution_count": 47,
   "id": "86e64c00-f285-48b8-a084-240a958fcf82",
   "metadata": {
    "execution": {
     "iopub.execute_input": "2022-06-06T18:47:12.429546Z",
     "iopub.status.busy": "2022-06-06T18:47:12.429386Z",
     "iopub.status.idle": "2022-06-06T18:47:12.437115Z",
     "shell.execute_reply": "2022-06-06T18:47:12.436584Z",
     "shell.execute_reply.started": "2022-06-06T18:47:12.429524Z"
    }
   },
   "outputs": [],
   "source": [
    "def logistic_regression_pipeline(train, k_fold=5):\n",
    "    \"\"\"\n",
    "    summary: a pipleline will be trained using cross validation for logestic Regression\n",
    "    \n",
    "    params:\n",
    "        train: trained tranformed vectories data\n",
    "        k_fold: the number of folds used in CV\n",
    "    returns:\n",
    "        cv_model: CV model trained with traing data given with best choosen paarams\n",
    "    \"\"\"\n",
    "    log_reg = LogisticRegression(featuresCol=\"std_features\", labelCol=\"label\", maxIter=100)\n",
    "    stage = [log_reg]\n",
    "\n",
    "\n",
    "    pipeline = Pipeline(stages=stage)\n",
    "    param_grid = ParamGridBuilder()\\\n",
    "    .addGrid(log_reg.regParam, [0.0, 0.05, 0.1]) \\\n",
    "    .addGrid(log_reg.elasticNetParam, [0.0, 0.5, 1.0]) \\\n",
    "    .build()\n",
    "    \n",
    "    cross_val = CrossValidator(estimator=pipeline, \n",
    "                               estimatorParamMaps=param_grid,\n",
    "                               evaluator=BinaryClassificationEvaluator(metricName=\"areaUnderROC\"), # default = \"areaUnderROC\", alternatively \"areaUnderPR\"\n",
    "                               numFolds=k_fold,\n",
    "                               collectSubModels=True \n",
    "                               )\n",
    "\n",
    "    cv_model = cross_val.fit(train)\n",
    "\n",
    "    return cv_model\n"
   ]
  },
  {
   "cell_type": "code",
   "execution_count": 48,
   "id": "9bb2b165-49e6-4cd6-bd9f-867d00404018",
   "metadata": {
    "execution": {
     "iopub.execute_input": "2022-06-06T18:47:12.438595Z",
     "iopub.status.busy": "2022-06-06T18:47:12.438413Z",
     "iopub.status.idle": "2022-06-06T18:56:06.895324Z",
     "shell.execute_reply": "2022-06-06T18:56:06.894732Z",
     "shell.execute_reply.started": "2022-06-06T18:47:12.438573Z"
    }
   },
   "outputs": [],
   "source": [
    "lrModel = logistic_regression_pipeline(trainRDD, 5)\n",
    "lrModel.save(basePath + \"/lrModel\")"
   ]
  },
  {
   "cell_type": "code",
   "execution_count": 49,
   "id": "d8517906-da01-4d4b-b5e3-e01d0debd7f8",
   "metadata": {
    "execution": {
     "iopub.execute_input": "2022-06-06T18:56:06.897663Z",
     "iopub.status.busy": "2022-06-06T18:56:06.897414Z",
     "iopub.status.idle": "2022-06-06T18:56:06.901571Z",
     "shell.execute_reply": "2022-06-06T18:56:06.900951Z",
     "shell.execute_reply.started": "2022-06-06T18:56:06.897636Z"
    }
   },
   "outputs": [
    {
     "name": "stdout",
     "output_type": "stream",
     "text": [
      "Avg. ROC AUC computed across k-fold cross validation for model setting #1: 0.564\n",
      "Avg. ROC AUC computed across k-fold cross validation for model setting #2: 0.564\n",
      "Avg. ROC AUC computed across k-fold cross validation for model setting #3: 0.564\n",
      "Avg. ROC AUC computed across k-fold cross validation for model setting #4: 0.563\n",
      "Avg. ROC AUC computed across k-fold cross validation for model setting #5: 0.547\n",
      "Avg. ROC AUC computed across k-fold cross validation for model setting #6: 0.500\n",
      "Avg. ROC AUC computed across k-fold cross validation for model setting #7: 0.562\n",
      "Avg. ROC AUC computed across k-fold cross validation for model setting #8: 0.500\n",
      "Avg. ROC AUC computed across k-fold cross validation for model setting #9: 0.500\n"
     ]
    }
   ],
   "source": [
    "CV_data(lrModel)"
   ]
  },
  {
   "cell_type": "code",
   "execution_count": 50,
   "id": "9c45ac88-46ee-467c-8c5d-315ab172d955",
   "metadata": {
    "execution": {
     "iopub.execute_input": "2022-06-06T18:56:06.903332Z",
     "iopub.status.busy": "2022-06-06T18:56:06.903158Z",
     "iopub.status.idle": "2022-06-06T18:56:06.912069Z",
     "shell.execute_reply": "2022-06-06T18:56:06.911506Z",
     "shell.execute_reply.started": "2022-06-06T18:56:06.903314Z"
    }
   },
   "outputs": [
    {
     "name": "stdout",
     "output_type": "stream",
     "text": [
      "Best model according to k-fold cross validation: lambda=[0.000]; alfa=[1.000]\n",
      "LogisticRegressionModel: uid=LogisticRegression_0882dbbcabc9, numClasses=2, numFeatures=8\n"
     ]
    }
   ],
   "source": [
    "print(\"Best model according to k-fold cross validation: lambda=[{:.3f}]; alfa=[{:.3f}]\".\n",
    "      format(lrModel.bestModel.stages[-1]._java_obj.getRegParam(), \n",
    "             lrModel.bestModel.stages[-1]._java_obj.getElasticNetParam(),\n",
    "             )\n",
    "      )\n",
    "print(lrModel.bestModel.stages[-1])"
   ]
  },
  {
   "cell_type": "code",
   "execution_count": 51,
   "id": "56fcd7e3-38ab-4ced-824a-2563eadf7a6e",
   "metadata": {
    "execution": {
     "iopub.execute_input": "2022-06-06T18:56:06.913913Z",
     "iopub.status.busy": "2022-06-06T18:56:06.913651Z",
     "iopub.status.idle": "2022-06-06T18:56:45.309928Z",
     "shell.execute_reply": "2022-06-06T18:56:45.309504Z",
     "shell.execute_reply.started": "2022-06-06T18:56:06.913886Z"
    }
   },
   "outputs": [
    {
     "name": "stdout",
     "output_type": "stream",
     "text": [
      "***** Training Set *****\n",
      "Area Under ROC Curve (ROC AUC): 0.564\n",
      "***** Training Set *****\n"
     ]
    }
   ],
   "source": [
    "# `bestModel` is the best resulting model according to k-fold cross validation, which is also entirely retrained on the whole `train_df`\n",
    "training_result = lrModel.bestModel.stages[-1].summary\n",
    "print(\"***** Training Set *****\")\n",
    "print(\"Area Under ROC Curve (ROC AUC): {:.3f}\".format(training_result.areaUnderROC))\n",
    "print(\"***** Training Set *****\")"
   ]
  },
  {
   "cell_type": "code",
   "execution_count": 52,
   "id": "e4a0ca45-5b48-48ac-b89b-1edd6a5d99fb",
   "metadata": {
    "execution": {
     "iopub.execute_input": "2022-06-06T18:56:45.311339Z",
     "iopub.status.busy": "2022-06-06T18:56:45.311149Z",
     "iopub.status.idle": "2022-06-06T18:58:20.428496Z",
     "shell.execute_reply": "2022-06-06T18:58:20.425140Z",
     "shell.execute_reply.started": "2022-06-06T18:56:45.311315Z"
    }
   },
   "outputs": [
    {
     "name": "stdout",
     "output_type": "stream",
     "text": [
      "***** Test Set Results For logestic Regression Classifier *****\n",
      "Area Under ROC Curve (ROC AUC): 0.564\n",
      "Area Under Precision-Recall Curve: 0.570\n",
      "Accuracy : : 0.547\n",
      "Test Error : 0.453\n",
      "[[1276505.  915582.]\n",
      " [1044727. 1092225.]]\n"
     ]
    },
    {
     "data": {
      "image/png": "[encoded data removed]",
      "text/plain": [
       "<Figure size 432x288 with 2 Axes>"
      ]
     },
     "metadata": {
      "needs_background": "light"
     },
     "output_type": "display_data"
    },
    {
     "name": "stdout",
     "output_type": "stream",
     "text": [
      "***** Test Set *****\n"
     ]
    }
   ],
   "source": [
    "predictionsLG = lrModel.transform(testRDD)\n",
    "evaluvation_M_B(predictionsLG, 'logestic Regression Classifier')"
   ]
  },
  {
   "cell_type": "code",
   "execution_count": 53,
   "id": "aba1c070-ab94-4f75-8b0b-239273b6f57b",
   "metadata": {
    "execution": {
     "iopub.execute_input": "2022-06-06T18:58:20.445899Z",
     "iopub.status.busy": "2022-06-06T18:58:20.443799Z",
     "iopub.status.idle": "2022-06-06T18:58:20.469421Z",
     "shell.execute_reply": "2022-06-06T18:58:20.468840Z",
     "shell.execute_reply.started": "2022-06-06T18:58:20.445604Z"
    }
   },
   "outputs": [],
   "source": [
    "def gbdt_pipeline(train, k_fold=5):\n",
    "    \"\"\"\n",
    "    summary: a pipleline will be trained using cross validation for gradient boosting descision tree\n",
    "    \n",
    "    params:\n",
    "        train: trained tranformed vectories data\n",
    "        k_fold: the number of folds used in CV\n",
    "    returns:\n",
    "        cv_model: CV model trained with traing data given with best choosen paarams\n",
    "    \"\"\"\n",
    "    gbdt = GBTClassifier(featuresCol=\"std_features\", labelCol=\"label\") \n",
    "    stage = [gbdt]\n",
    "    pipeline = Pipeline(stages=stage)\n",
    "    param_grid = ParamGridBuilder()\\\n",
    "    .addGrid(gbdt.maxDepth, [5, 8]) \\\n",
    "    .addGrid(gbdt.maxIter, [50, 100, 120]) \\\n",
    "    .build()\n",
    "    \n",
    "    cross_val = CrossValidator(estimator=pipeline, \n",
    "                               estimatorParamMaps=param_grid,\n",
    "                               evaluator=BinaryClassificationEvaluator(metricName=\"areaUnderROC\"),\n",
    "                               numFolds=k_fold,\n",
    "                               collectSubModels=True\n",
    "                               )\n",
    "\n",
    "    cv_model = cross_val.fit(train)\n",
    "\n",
    "    return cv_model\n"
   ]
  },
  {
   "cell_type": "code",
   "execution_count": 54,
   "id": "7fe7eef8-73dc-4609-a989-3b0bff173ff4",
   "metadata": {
    "execution": {
     "iopub.execute_input": "2022-06-06T18:58:20.471100Z",
     "iopub.status.busy": "2022-06-06T18:58:20.470863Z",
     "iopub.status.idle": "2022-06-06T19:04:38.469278Z",
     "shell.execute_reply": "2022-06-06T19:04:38.466813Z",
     "shell.execute_reply.started": "2022-06-06T18:58:20.471075Z"
    }
   },
   "outputs": [],
   "source": [
    "#5,20\n",
    "gbt = GBTClassifier(featuresCol=\"std_features\", labelCol=\"label\", maxDepth=8, maxIter=50)\n",
    "hi = gbt.fit(trainRDD)"
   ]
  },
  {
   "cell_type": "code",
   "execution_count": 55,
   "id": "0f5747bd-9cc1-4bba-b6ab-65c60d2b99bb",
   "metadata": {
    "execution": {
     "iopub.execute_input": "2022-06-06T19:04:38.473435Z",
     "iopub.status.busy": "2022-06-06T19:04:38.472924Z",
     "iopub.status.idle": "2022-06-06T19:06:43.042904Z",
     "shell.execute_reply": "2022-06-06T19:06:43.042316Z",
     "shell.execute_reply.started": "2022-06-06T19:04:38.473413Z"
    }
   },
   "outputs": [
    {
     "name": "stdout",
     "output_type": "stream",
     "text": [
      "***** Test Set Results For GBT Classifier *****\n",
      "Area Under ROC Curve (ROC AUC): 0.658\n",
      "Area Under Precision-Recall Curve: 0.667\n",
      "Accuracy : : 0.609\n",
      "Test Error : 0.391\n",
      "[[1556442.  635645.]\n",
      " [1041862. 1095090.]]\n"
     ]
    },
    {
     "data": {
      "image/png": "[encoded data removed]",
      "text/plain": [
       "<Figure size 432x288 with 2 Axes>"
      ]
     },
     "metadata": {
      "needs_background": "light"
     },
     "output_type": "display_data"
    },
    {
     "name": "stdout",
     "output_type": "stream",
     "text": [
      "***** Test Set *****\n"
     ]
    }
   ],
   "source": [
    "test_predictions = hi.transform(testRDD)\n",
    "evaluvation_M_B(test_predictions, 'GBT Classifier')"
   ]
  },
  {
   "cell_type": "code",
   "execution_count": 56,
   "id": "0d3e360c-f4f3-49b9-bbae-185fcd3b64d9",
   "metadata": {
    "execution": {
     "iopub.execute_input": "2022-06-06T19:06:43.044141Z",
     "iopub.status.busy": "2022-06-06T19:06:43.043980Z",
     "iopub.status.idle": "2022-06-07T02:03:59.984318Z",
     "shell.execute_reply": "2022-06-07T02:03:59.972873Z",
     "shell.execute_reply.started": "2022-06-06T19:06:43.044126Z"
    }
   },
   "outputs": [],
   "source": [
    "cv_model = gbdt_pipeline(trainRDD,5)\n",
    "test_predictions = cv_model.transform(testRDD)"
   ]
  },
  {
   "cell_type": "markdown",
   "id": "00075d73-87ee-48de-8d71-4dde79d9c04d",
   "metadata": {
    "execution": {
     "iopub.execute_input": "2022-06-07T02:04:00.010374Z",
     "iopub.status.busy": "2022-06-07T02:04:00.009814Z",
     "iopub.status.idle": "2022-06-07T02:07:13.206172Z",
     "shell.execute_reply": "2022-06-07T02:07:13.205787Z",
     "shell.execute_reply.started": "2022-06-07T02:04:00.010333Z"
    }
   },
   "source": [
    "#### CV_data(cv_model)\n",
    "cv_model.save(basePath + \"/cv_model\")\n",
    "evaluvation_M_B(test_predictions, 'GBT Classifier')"
   ]
  },
  {
   "cell_type": "code",
   "execution_count": 58,
   "id": "de580f3a-087d-4721-8f4d-8c52c7d8a59d",
   "metadata": {
    "execution": {
     "iopub.execute_input": "2022-06-07T02:07:13.207292Z",
     "iopub.status.busy": "2022-06-07T02:07:13.207156Z",
     "iopub.status.idle": "2022-06-07T02:07:13.212755Z",
     "shell.execute_reply": "2022-06-07T02:07:13.212298Z",
     "shell.execute_reply.started": "2022-06-07T02:07:13.207274Z"
    }
   },
   "outputs": [
    {
     "name": "stdout",
     "output_type": "stream",
     "text": [
      "Best model according to k-fold cross validation: maxDept=[8]; maxIter=[120]\n",
      "GBTClassificationModel: uid = GBTClassifier_3e898232d7a9, numTrees=120, numClasses=2, numFeatures=8\n"
     ]
    }
   ],
   "source": [
    "print(\"Best model according to k-fold cross validation: maxDept=[{:d}]; maxIter=[{:d}]\".\n",
    "      format(cv_model.bestModel.stages[-1]._java_obj.getMaxDepth(), \n",
    "             cv_model.bestModel.stages[-1]._java_obj.getMaxIter()\n",
    "             )\n",
    "      )\n",
    "print(cv_model.bestModel.stages[-1])"
   ]
  },
  {
   "cell_type": "markdown",
   "id": "03486013-951d-4c24-b16b-396b3ff82590",
   "metadata": {},
   "source": [
    "<h1> Deep learning part </h1>"
   ]
  },
  {
   "cell_type": "code",
   "execution_count": 59,
   "id": "ae4aabde-5183-48d9-95b9-73f6bd3c4fe1",
   "metadata": {
    "execution": {
     "iopub.execute_input": "2022-06-07T02:07:13.214254Z",
     "iopub.status.busy": "2022-06-07T02:07:13.213907Z",
     "iopub.status.idle": "2022-06-07T02:07:13.220680Z",
     "shell.execute_reply": "2022-06-07T02:07:13.220237Z",
     "shell.execute_reply.started": "2022-06-07T02:07:13.214234Z"
    }
   },
   "outputs": [],
   "source": [
    "def Mlp(train, layers):\n",
    "    \"\"\"\n",
    "    summary: this function will be trained using MLP \n",
    "    \n",
    "    params:\n",
    "        train: trained tranformed vectories data\n",
    "        layers: the number of nuourns in each different layer\n",
    "    returns:\n",
    "        mlp_model: a mlp model trained with traing data given\n",
    "    \"\"\"\n",
    "    mlp = MultilayerPerceptronClassifier(featuresCol=\"std_features\", labelCol=\"label\",\\\n",
    "                                         layers = layers, seed = seed)\n",
    "    mlp_model = mlp.fit(train)\n",
    "    return mlp_model"
   ]
  },
  {
   "cell_type": "code",
   "execution_count": 60,
   "id": "b4382d8b-5966-46a3-a22c-735a5990a409",
   "metadata": {
    "execution": {
     "iopub.execute_input": "2022-06-07T02:07:13.222026Z",
     "iopub.status.busy": "2022-06-07T02:07:13.221708Z",
     "iopub.status.idle": "2022-06-07T02:09:05.573651Z",
     "shell.execute_reply": "2022-06-07T02:09:05.572894Z",
     "shell.execute_reply.started": "2022-06-07T02:07:13.222001Z"
    }
   },
   "outputs": [],
   "source": [
    "mlp_model = Mlp(trainRDD, [8,5,3,2])\n",
    "mlp_model.save(basePath + \"/mlp_model\")\n",
    "predictionsMLP = mlp_model.transform(testRDD)               "
   ]
  },
  {
   "cell_type": "code",
   "execution_count": 61,
   "id": "12841a55-def1-4574-82fb-abd01eb37c5c",
   "metadata": {
    "execution": {
     "iopub.execute_input": "2022-06-07T02:09:05.574651Z",
     "iopub.status.busy": "2022-06-07T02:09:05.574551Z",
     "iopub.status.idle": "2022-06-07T02:10:49.136459Z",
     "shell.execute_reply": "2022-06-07T02:10:49.136085Z",
     "shell.execute_reply.started": "2022-06-07T02:09:05.574638Z"
    }
   },
   "outputs": [
    {
     "name": "stdout",
     "output_type": "stream",
     "text": [
      "***** Test Set Results For MLP Classifier *****\n",
      "Area Under ROC Curve (ROC AUC): 0.595\n",
      "Area Under Precision-Recall Curve: 0.602\n",
      "Accuracy : : 0.561\n",
      "Test Error : 0.439\n",
      "[[1606236.  585851.]\n",
      " [1265523.  871429.]]\n"
     ]
    },
    {
     "data": {
      "image/png": "[encoded data removed]",
      "text/plain": [
       "<Figure size 432x288 with 2 Axes>"
      ]
     },
     "metadata": {
      "needs_background": "light"
     },
     "output_type": "display_data"
    },
    {
     "name": "stdout",
     "output_type": "stream",
     "text": [
      "***** Test Set *****\n"
     ]
    }
   ],
   "source": [
    "evaluvation_M_B(predictionsMLP, 'MLP Classifier')"
   ]
  },
  {
   "cell_type": "code",
   "execution_count": 62,
   "id": "0895b559-63bd-4c15-bb69-4035f3bc5494",
   "metadata": {
    "execution": {
     "iopub.execute_input": "2022-06-07T02:10:49.138007Z",
     "iopub.status.busy": "2022-06-07T02:10:49.137797Z",
     "iopub.status.idle": "2022-06-07T02:10:49.141911Z",
     "shell.execute_reply": "2022-06-07T02:10:49.141555Z",
     "shell.execute_reply.started": "2022-06-07T02:10:49.137992Z"
    }
   },
   "outputs": [],
   "source": [
    "new = testRDD.limit(1000)"
   ]
  },
  {
   "cell_type": "code",
   "execution_count": 63,
   "id": "3e2c8aa1-e43c-4bdf-8d6e-db57e38544c3",
   "metadata": {
    "execution": {
     "iopub.execute_input": "2022-06-07T02:10:49.143286Z",
     "iopub.status.busy": "2022-06-07T02:10:49.143188Z",
     "iopub.status.idle": "2022-06-07T02:10:58.583804Z",
     "shell.execute_reply": "2022-06-07T02:10:58.583233Z",
     "shell.execute_reply.started": "2022-06-07T02:10:49.143273Z"
    }
   },
   "outputs": [
    {
     "name": "stdout",
     "output_type": "stream",
     "text": [
      "input_dim 8\n"
     ]
    }
   ],
   "source": [
    "from tensorflow.keras.models import Sequential\n",
    "from tensorflow.keras.layers import Dense, Dropout, Activation\n",
    "from tensorflow.keras.utils import to_categorical\n",
    "\n",
    "nb_classes = 2\n",
    "input_dim = len(trainRDD.select(\"std_features\").first()[0])\n",
    "print(\"input_dim\" , input_dim)\n",
    "\n",
    "model = Sequential()\n",
    "model.add(Dense(16, input_shape=(input_dim,)))\n",
    "model.add(Activation('relu'))\n",
    "model.add(Dropout(0.5))\n",
    "model.add(Dense(8))\n",
    "model.add(Activation('relu'))\n",
    "model.add(Dropout(0.5))\n",
    "model.add(Dense(4))\n",
    "model.add(Activation('relu'))\n",
    "model.add(Dropout(0.5))\n",
    "model.add(Dense(2))\n",
    "model.add(Dense(1))\n",
    "model.add(Activation('sigmoid'))\n",
    "\n",
    "model.compile(loss='binary_crossentropy', optimizer='adam')"
   ]
  },
  {
   "cell_type": "code",
   "execution_count": 64,
   "id": "829fc46c-1101-4c5e-ba66-dbc6bca98591",
   "metadata": {
    "execution": {
     "iopub.execute_input": "2022-06-07T02:10:58.585146Z",
     "iopub.status.busy": "2022-06-07T02:10:58.585004Z",
     "iopub.status.idle": "2022-06-07T02:12:24.914001Z",
     "shell.execute_reply": "2022-06-07T02:12:24.913548Z",
     "shell.execute_reply.started": "2022-06-07T02:10:58.585128Z"
    }
   },
   "outputs": [
    {
     "name": "stdout",
     "output_type": "stream",
     "text": [
      ">>> Fit model\n",
      ">>> Synchronous training complete.\n",
      "+-----+--------------------+\n",
      "|label|          prediction|\n",
      "+-----+--------------------+\n",
      "|  1.0|[0.4996674656867981]|\n",
      "|  1.0|[0.49175092577934...|\n",
      "|  0.0|[0.4932590126991272]|\n",
      "+-----+--------------------+\n",
      "only showing top 3 rows\n",
      "\n"
     ]
    }
   ],
   "source": [
    "# sgd = optimizers.SGD(lr=0.01, momentum=0.9)\n",
    "adam = optimizers.Adam(lr=0.001)\n",
    "opt_conf = optimizers.serialize(adam)\n",
    "\n",
    "# Initialize SparkML Estimator and set all relevant properties\n",
    "estimator = ElephasEstimator()\n",
    "estimator.setFeaturesCol(\"std_features\")            \n",
    "estimator.setLabelCol(\"label\")                 \n",
    "estimator.set_keras_model_config(model.to_json())      \n",
    "estimator.set_categorical_labels(False)\n",
    "estimator.set_nb_classes(1)\n",
    "estimator.set_epochs(1) \n",
    "estimator.set_batch_size(10000)\n",
    "estimator.set_verbosity(1)\n",
    "estimator.set_validation_split(0.2)\n",
    "estimator.set_optimizer_config(opt_conf)\n",
    "estimator.set_mode(\"synchronous\")\n",
    "estimator.set_loss(\"binary_crossentropy\")\n",
    "estimator.set_metrics(['acc'])\n",
    "\n",
    "# Fitting a model returns a Transformer\n",
    "pipeline = Pipeline(stages=[estimator])\n",
    "fitted_pipeline = pipeline.fit(trainRDD)\n",
    "\n",
    "prediction = fitted_pipeline.transform(new)\n",
    "\n",
    "pnl = prediction.select(\"label\", \"prediction\")\n",
    "\n",
    "pnl.show(3)\n"
   ]
  },
  {
   "cell_type": "code",
   "execution_count": 65,
   "id": "31b4140a-b507-434e-891f-1d26685fe1f1",
   "metadata": {
    "execution": {
     "iopub.execute_input": "2022-06-07T02:12:24.916781Z",
     "iopub.status.busy": "2022-06-07T02:12:24.916444Z",
     "iopub.status.idle": "2022-06-07T02:12:24.931838Z",
     "shell.execute_reply": "2022-06-07T02:12:24.931396Z",
     "shell.execute_reply.started": "2022-06-07T02:12:24.916762Z"
    }
   },
   "outputs": [],
   "source": [
    "prediction_and_label = pnl.rdd.map(lambda row: [row.label, 0.0 if row.prediction[0]>=0.48 else 1.0])"
   ]
  },
  {
   "cell_type": "code",
   "execution_count": 66,
   "id": "a8da0cb9-d3ad-43cc-944f-20e9c4646d81",
   "metadata": {
    "execution": {
     "iopub.execute_input": "2022-06-07T02:12:24.933292Z",
     "iopub.status.busy": "2022-06-07T02:12:24.933067Z",
     "iopub.status.idle": "2022-06-07T02:12:25.217931Z",
     "shell.execute_reply": "2022-06-07T02:12:25.217461Z",
     "shell.execute_reply.started": "2022-06-07T02:12:24.933268Z"
    }
   },
   "outputs": [],
   "source": [
    "predictionDF = prediction_and_label.toDF([\"label\",\"prediction\"])"
   ]
  },
  {
   "cell_type": "code",
   "execution_count": 67,
   "id": "e89ef7d6-f1c4-4193-8b78-b17c5e579cf0",
   "metadata": {
    "execution": {
     "iopub.execute_input": "2022-06-07T02:12:25.236874Z",
     "iopub.status.busy": "2022-06-07T02:12:25.236629Z",
     "iopub.status.idle": "2022-06-07T02:12:28.197457Z",
     "shell.execute_reply": "2022-06-07T02:12:28.196906Z",
     "shell.execute_reply.started": "2022-06-07T02:12:25.236855Z"
    }
   },
   "outputs": [
    {
     "name": "stdout",
     "output_type": "stream",
     "text": [
      "Accuracy : : 0.326\n",
      "Test Error : 0.674\n",
      "[[493.   1.]\n",
      " [506.   0.]]\n"
     ]
    },
    {
     "data": {
      "image/png": "[encoded data removed]",
      "text/plain": [
       "<Figure size 432x288 with 2 Axes>"
      ]
     },
     "metadata": {
      "needs_background": "light"
     },
     "output_type": "display_data"
    }
   ],
   "source": [
    "evaluate_model_Multi(predictionDF)"
   ]
  },
  {
   "cell_type": "code",
   "execution_count": 68,
   "id": "dd4e7826-19ee-473d-ae3f-0d647bb484e7",
   "metadata": {
    "execution": {
     "iopub.execute_input": "2022-06-09T18:05:04.704700Z",
     "iopub.status.busy": "2022-06-09T18:05:04.700340Z",
     "iopub.status.idle": "2022-06-09T18:05:15.358139Z",
     "shell.execute_reply": "2022-06-09T18:05:15.356649Z",
     "shell.execute_reply.started": "2022-06-09T18:05:04.704179Z"
    }
   },
   "outputs": [
    {
     "name": "stdout",
     "output_type": "stream",
     "text": [
      "Accuracy : : 0.326\n",
      "Test Error : 0.674\n",
      "[[493.   1.]\n",
      " [506.   0.]]\n"
     ]
    },
    {
     "data": {
      "image/png": "[encoded data removed]",
      "text/plain": [
       "<Figure size 432x288 with 2 Axes>"
      ]
     },
     "metadata": {
      "needs_background": "light"
     },
     "output_type": "display_data"
    }
   ],
   "source": [
    "evaluate_model_Multi(predictionDF)"
   ]
  },
  {
   "cell_type": "code",
   "execution_count": null,
   "id": "e225c2e7-1304-40c1-9f3d-6ba05c31a9aa",
   "metadata": {},
   "outputs": [],
   "source": []
  }
 ],
 "metadata": {
  "kernelspec": {
   "display_name": "Python 3 (ipykernel)",
   "language": "python",
   "name": "python3"
  },
  "language_info": {
   "codemirror_mode": {
    "name": "ipython",
    "version": 3
   },
   "file_extension": ".py",
   "mimetype": "text/x-python",
   "name": "python",
   "nbconvert_exporter": "python",
   "pygments_lexer": "ipython3",
   "version": "3.9.10"
  }
 },
 "nbformat": 4,
 "nbformat_minor": 5
}
