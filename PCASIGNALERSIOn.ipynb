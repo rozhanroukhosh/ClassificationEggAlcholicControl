{
 "cells": [
  {
   "cell_type": "code",
   "execution_count": 1,
   "id": "f36a61bc-847d-46d2-a26f-d3239d64b305",
   "metadata": {
    "execution": {
     "iopub.execute_input": "2022-06-09T13:17:26.810265Z",
     "iopub.status.busy": "2022-06-09T13:17:26.810026Z",
     "iopub.status.idle": "2022-06-09T13:17:29.032221Z",
     "shell.execute_reply": "2022-06-09T13:17:29.031735Z",
     "shell.execute_reply.started": "2022-06-09T13:17:26.810203Z"
    },
    "tags": []
   },
   "outputs": [
    {
     "data": {
      "text/html": [
       "        <script type=\"text/javascript\">\n",
       "        window.PlotlyConfig = {MathJaxConfig: 'local'};\n",
       "        if (window.MathJax) {MathJax.Hub.Config({SVG: {font: \"STIX-Web\"}});}\n",
       "        if (typeof require !== 'undefined') {\n",
       "        require.undef(\"plotly\");\n",
       "        requirejs.config({\n",
       "            paths: {\n",
       "                'plotly': ['https://cdn.plot.ly/plotly-2.11.1.min']\n",
       "            }\n",
       "        });\n",
       "        require(['plotly'], function(Plotly) {\n",
       "            window._Plotly = Plotly;\n",
       "        });\n",
       "        }\n",
       "        </script>\n",
       "        "
      ]
     },
     "metadata": {},
     "output_type": "display_data"
    },
    {
     "data": {
      "text/html": [
       "        <script type=\"text/javascript\">\n",
       "        window.PlotlyConfig = {MathJaxConfig: 'local'};\n",
       "        if (window.MathJax) {MathJax.Hub.Config({SVG: {font: \"STIX-Web\"}});}\n",
       "        if (typeof require !== 'undefined') {\n",
       "        require.undef(\"plotly\");\n",
       "        requirejs.config({\n",
       "            paths: {\n",
       "                'plotly': ['https://cdn.plot.ly/plotly-2.11.1.min']\n",
       "            }\n",
       "        });\n",
       "        require(['plotly'], function(Plotly) {\n",
       "            window._Plotly = Plotly;\n",
       "        });\n",
       "        }\n",
       "        </script>\n",
       "        "
      ]
     },
     "metadata": {},
     "output_type": "display_data"
    }
   ],
   "source": [
    "import numpy as np\n",
    "import pandas as pd \n",
    "import os\n",
    "import random\n",
    "from tqdm import tqdm\n",
    "import matplotlib\n",
    "import seaborn as sns\n",
    "import matplotlib.pyplot as plt\n",
    "import plotly.graph_objs as go\n",
    "import warnings\n",
    "from tqdm import tqdm\n",
    "warnings.filterwarnings('ignore')\n",
    "\n",
    "import visulization as vs\n",
    "\n",
    "\n",
    "from plotly.offline import init_notebook_mode, iplot\n",
    "from elephas.utils.rdd_utils import to_simple_rdd\n",
    "\n",
    "import pyspark\n",
    "from pyspark import SparkContext, SparkConf\n",
    "from pyspark.sql import *\n",
    "from pyspark.sql.types import *\n",
    "from pyspark.sql.types import FloatType\n",
    "import pyspark.sql.functions as F\n",
    "from pyspark.sql.functions import *\n",
    "from pyspark.sql.types import IntegerType, StringType, FloatType\n",
    "from pyspark.sql.functions import col\n",
    "\n",
    "from pyspark.ml import Pipeline\n",
    "from pyspark.ml.feature import StringIndexer, OneHotEncoder, VectorAssembler, StandardScaler,MinMaxScaler\n",
    "from pyspark.ml.tuning import CrossValidator, ParamGridBuilder\n",
    "from pyspark.ml.classification import LogisticRegression , GBTClassifier, RandomForestClassifier, LinearSVC, MultilayerPerceptronClassifier\n",
    "\n",
    "from pyspark.ml.evaluation import BinaryClassificationEvaluator, MulticlassClassificationEvaluator\n",
    "\n",
    "\n",
    "from pyspark.mllib.util import MLUtils\n",
    "from pyspark.mllib.evaluation import MulticlassMetrics\n",
    "\n",
    "\n",
    "import tensorflow as tf\n",
    "from tensorflow.keras.models import Sequential\n",
    "from tensorflow.keras.layers import Dense, Dropout, Activation\n",
    "from tensorflow.keras.optimizers import SGD\n",
    "from tensorflow.keras.applications.resnet50 import ResNet50\n",
    "\n",
    "from tensorflow.keras.utils import to_categorical\n",
    "from tensorflow.keras import optimizers\n",
    "\n",
    "from sklearn import preprocessing\n",
    "import time\n",
    "\n",
    "from elephas.ml_model import ElephasEstimator\n",
    "from elephas.ml.adapter import to_data_frame\n",
    "from tensorflow.keras import optimizers\n",
    "\n",
    "\n",
    "seed = 23\n",
    "random.seed = seed\n",
    "init_notebook_mode(connected=True) ## plotly init"
   ]
  },
  {
   "cell_type": "markdown",
   "id": "19b2d3e4-3173-4f5f-a615-8b9b3676beb4",
   "metadata": {},
   "source": [
    "<h1>set ups Section</h1>"
   ]
  },
  {
   "cell_type": "code",
   "execution_count": 2,
   "id": "cb71ea98-2dcd-408a-bb9b-d6e204a99952",
   "metadata": {
    "execution": {
     "iopub.execute_input": "2022-06-09T13:17:29.033135Z",
     "iopub.status.busy": "2022-06-09T13:17:29.033001Z",
     "iopub.status.idle": "2022-06-09T13:17:31.304599Z",
     "shell.execute_reply": "2022-06-09T13:17:31.304022Z",
     "shell.execute_reply.started": "2022-06-09T13:17:29.033122Z"
    },
    "tags": []
   },
   "outputs": [],
   "source": [
    "# Create the session\n",
    "conf = SparkConf().set(\"spark.ui.port\", \"4050\").set('spark.executor.memory', '32G').set('spark.driver.memory', '32G').set('spark.driver.maxResultSize', '32G').setAppName('Elephas_App')\n",
    "sc = pyspark.SparkContext(conf=conf)\n",
    "spark = SparkSession.builder.getOrCreate()"
   ]
  },
  {
   "cell_type": "code",
   "execution_count": 3,
   "id": "10ae415b-500e-4917-80c1-f7ed4bf42560",
   "metadata": {
    "execution": {
     "iopub.execute_input": "2022-06-09T13:17:31.306289Z",
     "iopub.status.busy": "2022-06-09T13:17:31.305814Z",
     "iopub.status.idle": "2022-06-09T13:17:31.789971Z",
     "shell.execute_reply": "2022-06-09T13:17:31.789484Z",
     "shell.execute_reply.started": "2022-06-09T13:17:31.306256Z"
    },
    "tags": []
   },
   "outputs": [],
   "source": [
    "spark.conf.set('spark.sql.repl.eagerEval.enabled', True)"
   ]
  },
  {
   "cell_type": "markdown",
   "id": "e5645dea-d0a0-4088-bbb8-fe673e96d809",
   "metadata": {},
   "source": [
    "<h1>Reading Data</h1>"
   ]
  },
  {
   "cell_type": "code",
   "execution_count": 4,
   "id": "0a2a17fd-fc6e-4da2-af10-d4f4866e14b0",
   "metadata": {
    "execution": {
     "iopub.execute_input": "2022-06-09T13:17:32.607358Z",
     "iopub.status.busy": "2022-06-09T13:17:32.607131Z",
     "iopub.status.idle": "2022-06-09T13:17:38.886379Z",
     "shell.execute_reply": "2022-06-09T13:17:38.885847Z",
     "shell.execute_reply.started": "2022-06-09T13:17:32.607333Z"
    },
    "tags": []
   },
   "outputs": [],
   "source": [
    "EEG_data_train = spark.read.load('./TRAIN/Train', \n",
    "                           format=\"csv\", \n",
    "                           sep=\",\", \n",
    "                           inferSchema=\"true\", \n",
    "                           header=\"true\")"
   ]
  },
  {
   "cell_type": "code",
   "execution_count": 5,
   "id": "9297c67b-41dd-493d-a48c-05ae58802b44",
   "metadata": {
    "execution": {
     "iopub.execute_input": "2022-06-09T13:17:38.887794Z",
     "iopub.status.busy": "2022-06-09T13:17:38.887526Z",
     "iopub.status.idle": "2022-06-09T13:17:41.886790Z",
     "shell.execute_reply": "2022-06-09T13:17:41.886158Z",
     "shell.execute_reply.started": "2022-06-09T13:17:38.887770Z"
    },
    "tags": []
   },
   "outputs": [],
   "source": [
    "EEG_data_test = spark.read.load('./TEST/Test', \n",
    "                           format=\"csv\", \n",
    "                           sep=\",\", \n",
    "                           inferSchema=\"true\", \n",
    "                           header=\"true\")"
   ]
  },
  {
   "cell_type": "code",
   "execution_count": 6,
   "id": "294c83e9-1f60-4878-b9e7-289d86da4275",
   "metadata": {
    "execution": {
     "iopub.execute_input": "2022-06-09T13:17:41.887924Z",
     "iopub.status.busy": "2022-06-09T13:17:41.887693Z",
     "iopub.status.idle": "2022-06-09T13:17:41.909231Z",
     "shell.execute_reply": "2022-06-09T13:17:41.908613Z",
     "shell.execute_reply.started": "2022-06-09T13:17:41.887895Z"
    },
    "tags": []
   },
   "outputs": [],
   "source": [
    "EEG_data = EEG_data_train.unionByName(EEG_data_test)"
   ]
  },
  {
   "cell_type": "markdown",
   "id": "ead2db1b-f046-4ee3-a1a4-fb0d1abb891a",
   "metadata": {},
   "source": [
    "<h1>grasps on Data<h1>"
   ]
  },
  {
   "cell_type": "code",
   "execution_count": 7,
   "id": "95b911d1-8f43-4116-972e-041472fa801a",
   "metadata": {
    "execution": {
     "iopub.execute_input": "2022-06-06T16:23:14.883258Z",
     "iopub.status.busy": "2022-06-06T16:23:14.883011Z",
     "iopub.status.idle": "2022-06-06T16:23:15.142942Z",
     "shell.execute_reply": "2022-06-06T16:23:15.142587Z",
     "shell.execute_reply.started": "2022-06-06T16:23:14.883231Z"
    }
   },
   "outputs": [
    {
     "name": "stdout",
     "output_type": "stream",
     "text": [
      "+---+------------+---------------+----------+------------+------------------+------------------+-------+-----------+----------+\n",
      "|_c0|trial number|sensor position|sample num|sensor value|subject identifier|matching condition|channel|       name|      time|\n",
      "+---+------------+---------------+----------+------------+------------------+------------------+-------+-----------+----------+\n",
      "|  5|          13|            FP1|         0|       2.686|                 a|       S2 nomatch,|      0|co2a0000375|       0.0|\n",
      "|  6|          13|            FP1|         1|      -0.244|                 a|       S2 nomatch,|      0|co2a0000375|0.00390625|\n",
      "|  7|          13|            FP1|         2|       -4.15|                 a|       S2 nomatch,|      0|co2a0000375| 0.0078125|\n",
      "|  8|          13|            FP1|         3|      -7.568|                 a|       S2 nomatch,|      0|co2a0000375|0.01171875|\n",
      "|  9|          13|            FP1|         4|      -9.521|                 a|       S2 nomatch,|      0|co2a0000375|  0.015625|\n",
      "+---+------------+---------------+----------+------------+------------------+------------------+-------+-----------+----------+\n",
      "only showing top 5 rows\n",
      "\n"
     ]
    }
   ],
   "source": [
    "EEG_data.show(5)"
   ]
  },
  {
   "cell_type": "code",
   "execution_count": 8,
   "id": "f865dc32-5b0e-498a-8664-cd8f014417b0",
   "metadata": {
    "execution": {
     "iopub.execute_input": "2022-06-06T16:23:15.143766Z",
     "iopub.status.busy": "2022-06-06T16:23:15.143606Z",
     "iopub.status.idle": "2022-06-06T16:23:16.383655Z",
     "shell.execute_reply": "2022-06-06T16:23:16.383189Z",
     "shell.execute_reply.started": "2022-06-06T16:23:15.143747Z"
    }
   },
   "outputs": [
    {
     "name": "stdout",
     "output_type": "stream",
     "text": [
      "The shape of the dataset is 15532032 rows by 10 columns\n"
     ]
    }
   ],
   "source": [
    "print(\"The shape of the dataset is {:d} rows by {:d} columns\".format(EEG_data.count(), len(EEG_data.columns)))"
   ]
  },
  {
   "cell_type": "code",
   "execution_count": 9,
   "id": "3769efce-f802-4a5e-8f36-967524ea75bb",
   "metadata": {
    "execution": {
     "iopub.execute_input": "2022-06-06T16:23:16.384560Z",
     "iopub.status.busy": "2022-06-06T16:23:16.384378Z",
     "iopub.status.idle": "2022-06-06T16:23:16.388560Z",
     "shell.execute_reply": "2022-06-06T16:23:16.388129Z",
     "shell.execute_reply.started": "2022-06-06T16:23:16.384539Z"
    }
   },
   "outputs": [
    {
     "name": "stdout",
     "output_type": "stream",
     "text": [
      "['_c0', 'trial number', 'sensor position', 'sample num', 'sensor value', 'subject identifier', 'matching condition', 'channel', 'name', 'time']\n",
      "root\n",
      " |-- _c0: integer (nullable = true)\n",
      " |-- trial number: integer (nullable = true)\n",
      " |-- sensor position: string (nullable = true)\n",
      " |-- sample num: integer (nullable = true)\n",
      " |-- sensor value: double (nullable = true)\n",
      " |-- subject identifier: string (nullable = true)\n",
      " |-- matching condition: string (nullable = true)\n",
      " |-- channel: integer (nullable = true)\n",
      " |-- name: string (nullable = true)\n",
      " |-- time: double (nullable = true)\n",
      "\n"
     ]
    }
   ],
   "source": [
    "print(EEG_data.columns)\n",
    "EEG_data.printSchema()"
   ]
  },
  {
   "cell_type": "markdown",
   "id": "48973571-4ba8-42da-adf3-ff7a5b5a3982",
   "metadata": {},
   "source": [
    "<h1>Data Initial Preprocessing<h1>"
   ]
  },
  {
   "cell_type": "code",
   "execution_count": 7,
   "id": "cb253de1-d38e-4963-a9a7-83016f843299",
   "metadata": {
    "execution": {
     "iopub.execute_input": "2022-06-09T13:17:57.128205Z",
     "iopub.status.busy": "2022-06-09T13:17:57.127922Z",
     "iopub.status.idle": "2022-06-09T13:17:57.185333Z",
     "shell.execute_reply": "2022-06-09T13:17:57.184906Z",
     "shell.execute_reply.started": "2022-06-09T13:17:57.128180Z"
    },
    "tags": []
   },
   "outputs": [],
   "source": [
    "## replace some 'sensor position' values\n",
    "EEG_data = EEG_data.withColumn(\"sensor position\", when(EEG_data['sensor position'] == 'AF1',\"AF3\") \\\n",
    "      .when(EEG_data['sensor position'] == 'AF2',\"AF4\") \\\n",
    "      .when(EEG_data['sensor position'] == 'PO1',\"PO3\") \\\n",
    "      .when(EEG_data['sensor position'] == 'PO2',\"PO4\") \\\n",
    "      .otherwise(EEG_data['sensor position']))\n",
    "##replace the comma in matchas\n",
    "EEG_data = EEG_data.withColumn(\"matching condition\", when(EEG_data[\"matching condition\"]== 'S2 nomatch,','S2 nomatch')\\\n",
    "           .otherwise(EEG_data[\"matching condition\"]))"
   ]
  },
  {
   "cell_type": "code",
   "execution_count": 8,
   "id": "f243c924-1044-4048-9133-91894af52ebd",
   "metadata": {
    "execution": {
     "iopub.execute_input": "2022-06-09T13:17:57.518139Z",
     "iopub.status.busy": "2022-06-09T13:17:57.517955Z",
     "iopub.status.idle": "2022-06-09T13:17:57.536545Z",
     "shell.execute_reply": "2022-06-09T13:17:57.536010Z",
     "shell.execute_reply.started": "2022-06-09T13:17:57.518115Z"
    },
    "tags": []
   },
   "outputs": [],
   "source": [
    "## remove rows with undefined positions\n",
    "EEG_data = EEG_data.where(~EEG_data['sensor position'].contains('X') & ~EEG_data['sensor position'].contains('Y') & ~EEG_data['sensor position'].contains('nd'))"
   ]
  },
  {
   "cell_type": "code",
   "execution_count": 9,
   "id": "b11d2c85-e961-4c6d-9c91-0a222545e98e",
   "metadata": {
    "execution": {
     "iopub.execute_input": "2022-06-09T13:17:58.086582Z",
     "iopub.status.busy": "2022-06-09T13:17:58.086360Z",
     "iopub.status.idle": "2022-06-09T13:18:16.050823Z",
     "shell.execute_reply": "2022-06-09T13:18:16.050077Z",
     "shell.execute_reply.started": "2022-06-09T13:17:58.086559Z"
    },
    "tags": []
   },
   "outputs": [
    {
     "name": "stdout",
     "output_type": "stream",
     "text": [
      "Distinct count: 14429184\n",
      "+---+------------+---------------+----------+------------+------------------+------------------+-------+-----------+----------+\n",
      "|_c0|trial number|sensor position|sample num|sensor value|subject identifier|matching condition|channel|       name|      time|\n",
      "+---+------------+---------------+----------+------------+------------------+------------------+-------+-----------+----------+\n",
      "|132|          13|            FP1|       127|     -20.752|                 a|        S2 nomatch|      0|co2a0000375|0.49609375|\n",
      "|194|          13|            FP1|       189|       3.174|                 a|        S2 nomatch|      0|co2a0000375|0.73828125|\n",
      "|243|          13|            FP1|       238|      18.799|                 a|        S2 nomatch|      0|co2a0000375| 0.9296875|\n",
      "|556|          13|             F7|        37|      -8.982|                 a|        S2 nomatch|      2|co2a0000375|0.14453125|\n",
      "|772|          13|             F7|       253|       8.108|                 a|        S2 nomatch|      2|co2a0000375|0.98828125|\n",
      "+---+------------+---------------+----------+------------+------------------+------------------+-------+-----------+----------+\n",
      "only showing top 5 rows\n",
      "\n"
     ]
    }
   ],
   "source": [
    "#drop duplicated rows\n",
    "EEG_data = EEG_data.dropDuplicates()\n",
    "print(\"Distinct count: \"+str(EEG_data.count()))\n",
    "EEG_data.show(5)"
   ]
  },
  {
   "cell_type": "code",
   "execution_count": 51,
   "id": "f1061e95-07e0-4f23-badb-45a92e6a2e9d",
   "metadata": {
    "execution": {
     "iopub.execute_input": "2022-06-09T14:17:27.627132Z",
     "iopub.status.busy": "2022-06-09T14:17:27.626825Z",
     "iopub.status.idle": "2022-06-09T14:18:57.681155Z",
     "shell.execute_reply": "2022-06-09T14:18:57.680635Z",
     "shell.execute_reply.started": "2022-06-09T14:17:27.627094Z"
    },
    "tags": []
   },
   "outputs": [],
   "source": [
    "new = EEG_data.toPandas()"
   ]
  },
  {
   "cell_type": "code",
   "execution_count": 60,
   "id": "8b7ac11b-16c5-4597-aab5-a442ebf9bc19",
   "metadata": {
    "execution": {
     "iopub.execute_input": "2022-06-09T14:32:40.332864Z",
     "iopub.status.busy": "2022-06-09T14:32:40.332358Z",
     "iopub.status.idle": "2022-06-09T14:34:23.996413Z",
     "shell.execute_reply": "2022-06-09T14:34:23.995778Z",
     "shell.execute_reply.started": "2022-06-09T14:32:40.332838Z"
    },
    "tags": []
   },
   "outputs": [
    {
     "name": "stderr",
     "output_type": "stream",
     "text": [
      "100%|██████████| 56364/56364 [01:11<00:00, 785.73it/s]\n"
     ]
    },
    {
     "data": {
      "text/html": [
       "<div>\n",
       "<style scoped>\n",
       "    .dataframe tbody tr th:only-of-type {\n",
       "        vertical-align: middle;\n",
       "    }\n",
       "\n",
       "    .dataframe tbody tr th {\n",
       "        vertical-align: top;\n",
       "    }\n",
       "\n",
       "    .dataframe thead th {\n",
       "        text-align: right;\n",
       "    }\n",
       "</style>\n",
       "<table border=\"1\" class=\"dataframe\">\n",
       "  <thead>\n",
       "    <tr style=\"text-align: right;\">\n",
       "      <th></th>\n",
       "      <th>name</th>\n",
       "      <th>trial number</th>\n",
       "      <th>matching condition</th>\n",
       "      <th>channel</th>\n",
       "      <th>subject identifier</th>\n",
       "      <th>sample_0</th>\n",
       "      <th>sample_1</th>\n",
       "      <th>sample_2</th>\n",
       "      <th>sample_3</th>\n",
       "      <th>sample_4</th>\n",
       "      <th>...</th>\n",
       "      <th>sample_246</th>\n",
       "      <th>sample_247</th>\n",
       "      <th>sample_248</th>\n",
       "      <th>sample_249</th>\n",
       "      <th>sample_250</th>\n",
       "      <th>sample_251</th>\n",
       "      <th>sample_252</th>\n",
       "      <th>sample_253</th>\n",
       "      <th>sample_254</th>\n",
       "      <th>sample_255</th>\n",
       "    </tr>\n",
       "  </thead>\n",
       "  <tbody>\n",
       "    <tr>\n",
       "      <th>0</th>\n",
       "      <td>co2a0000364</td>\n",
       "      <td>0</td>\n",
       "      <td>S1 obj</td>\n",
       "      <td>0</td>\n",
       "      <td>a</td>\n",
       "      <td>5.239</td>\n",
       "      <td>11.098</td>\n",
       "      <td>4.751</td>\n",
       "      <td>8.169</td>\n",
       "      <td>2.309</td>\n",
       "      <td>...</td>\n",
       "      <td>15.981</td>\n",
       "      <td>18.911</td>\n",
       "      <td>7.192</td>\n",
       "      <td>10.122</td>\n",
       "      <td>-3.550</td>\n",
       "      <td>-8.433</td>\n",
       "      <td>0.844</td>\n",
       "      <td>1.333</td>\n",
       "      <td>7.192</td>\n",
       "      <td>3.286</td>\n",
       "    </tr>\n",
       "    <tr>\n",
       "      <th>1</th>\n",
       "      <td>co2a0000364</td>\n",
       "      <td>0</td>\n",
       "      <td>S1 obj</td>\n",
       "      <td>1</td>\n",
       "      <td>a</td>\n",
       "      <td>-1.607</td>\n",
       "      <td>20.365</td>\n",
       "      <td>2.787</td>\n",
       "      <td>11.088</td>\n",
       "      <td>2.299</td>\n",
       "      <td>...</td>\n",
       "      <td>8.647</td>\n",
       "      <td>-3.072</td>\n",
       "      <td>6.694</td>\n",
       "      <td>6.694</td>\n",
       "      <td>5.717</td>\n",
       "      <td>12.065</td>\n",
       "      <td>7.182</td>\n",
       "      <td>6.694</td>\n",
       "      <td>-9.908</td>\n",
       "      <td>-10.885</td>\n",
       "    </tr>\n",
       "    <tr>\n",
       "      <th>2</th>\n",
       "      <td>co2a0000364</td>\n",
       "      <td>0</td>\n",
       "      <td>S1 obj</td>\n",
       "      <td>2</td>\n",
       "      <td>a</td>\n",
       "      <td>14.821</td>\n",
       "      <td>-5.686</td>\n",
       "      <td>7.009</td>\n",
       "      <td>12.380</td>\n",
       "      <td>8.962</td>\n",
       "      <td>...</td>\n",
       "      <td>9.939</td>\n",
       "      <td>14.821</td>\n",
       "      <td>-1.780</td>\n",
       "      <td>2.126</td>\n",
       "      <td>2.126</td>\n",
       "      <td>2.126</td>\n",
       "      <td>5.056</td>\n",
       "      <td>-11.058</td>\n",
       "      <td>16.286</td>\n",
       "      <td>7.497</td>\n",
       "    </tr>\n",
       "  </tbody>\n",
       "</table>\n",
       "<p>3 rows × 261 columns</p>\n",
       "</div>"
      ],
      "text/plain": [
       "          name  trial number matching condition  channel subject identifier  \\\n",
       "0  co2a0000364             0             S1 obj        0                  a   \n",
       "1  co2a0000364             0             S1 obj        1                  a   \n",
       "2  co2a0000364             0             S1 obj        2                  a   \n",
       "\n",
       "   sample_0  sample_1  sample_2  sample_3  sample_4  ...  sample_246  \\\n",
       "0     5.239    11.098     4.751     8.169     2.309  ...      15.981   \n",
       "1    -1.607    20.365     2.787    11.088     2.299  ...       8.647   \n",
       "2    14.821    -5.686     7.009    12.380     8.962  ...       9.939   \n",
       "\n",
       "   sample_247  sample_248  sample_249  sample_250  sample_251  sample_252  \\\n",
       "0      18.911       7.192      10.122      -3.550      -8.433       0.844   \n",
       "1      -3.072       6.694       6.694       5.717      12.065       7.182   \n",
       "2      14.821      -1.780       2.126       2.126       2.126       5.056   \n",
       "\n",
       "   sample_253  sample_254  sample_255  \n",
       "0       1.333       7.192       3.286  \n",
       "1       6.694      -9.908     -10.885  \n",
       "2     -11.058      16.286       7.497  \n",
       "\n",
       "[3 rows x 261 columns]"
      ]
     },
     "execution_count": 60,
     "metadata": {},
     "output_type": "execute_result"
    }
   ],
   "source": [
    "transposed_df_list = []\n",
    "\n",
    "for group_df in tqdm(new.groupby(['name', 'trial number', 'matching condition', 'channel', 'subject identifier'])): \n",
    "    _df = pd.DataFrame(group_df[1]['sensor value']).T\n",
    "    _df.columns = [f'sample_{idx}' for idx in range(256)]\n",
    "    _df['name'] = group_df[0][0]\n",
    "    _df['trial number'] = group_df[0][1]\n",
    "    _df['matching condition'] = group_df[0][2]\n",
    "    _df['channel'] = group_df[0][3]\n",
    "    _df['subject identifier'] = group_df[0][4]\n",
    "    \n",
    "    transposed_df_list.append(_df)\n",
    "    \n",
    "df = pd.concat(transposed_df_list)\n",
    "df = df[[*df.columns[-5:],*df.columns[0:-5]]]\n",
    "df = df.reset_index(drop=True)\n",
    "df.head(3)"
   ]
  },
  {
   "cell_type": "code",
   "execution_count": 61,
   "id": "532fe6a5-cf39-4034-9227-cb43b48f3327",
   "metadata": {
    "execution": {
     "iopub.execute_input": "2022-06-09T14:34:37.026672Z",
     "iopub.status.busy": "2022-06-09T14:34:37.026440Z",
     "iopub.status.idle": "2022-06-09T14:34:37.031176Z",
     "shell.execute_reply": "2022-06-09T14:34:37.030632Z",
     "shell.execute_reply.started": "2022-06-09T14:34:37.026644Z"
    },
    "tags": []
   },
   "outputs": [
    {
     "data": {
      "text/plain": [
       "(56364, 261)"
      ]
     },
     "execution_count": 61,
     "metadata": {},
     "output_type": "execute_result"
    }
   ],
   "source": [
    "df.shape"
   ]
  },
  {
   "cell_type": "code",
   "execution_count": 62,
   "id": "687441f6-9776-4913-b856-74c86741794b",
   "metadata": {
    "execution": {
     "iopub.execute_input": "2022-06-09T14:34:37.688522Z",
     "iopub.status.busy": "2022-06-09T14:34:37.688079Z",
     "iopub.status.idle": "2022-06-09T14:35:52.671933Z",
     "shell.execute_reply": "2022-06-09T14:35:52.671507Z",
     "shell.execute_reply.started": "2022-06-09T14:34:37.688492Z"
    },
    "tags": []
   },
   "outputs": [],
   "source": [
    "EEG_data = spark.createDataFrame(df)\n"
   ]
  },
  {
   "cell_type": "code",
   "execution_count": 64,
   "id": "0572084e-8074-458e-a0b3-0da4df08b953",
   "metadata": {
    "execution": {
     "iopub.execute_input": "2022-06-09T14:38:06.833333Z",
     "iopub.status.busy": "2022-06-09T14:38:06.833037Z",
     "iopub.status.idle": "2022-06-09T14:38:07.090528Z",
     "shell.execute_reply": "2022-06-09T14:38:07.090082Z",
     "shell.execute_reply.started": "2022-06-09T14:38:06.833307Z"
    },
    "tags": []
   },
   "outputs": [
    {
     "name": "stdout",
     "output_type": "stream",
     "text": [
      "+-----------+------------+------------------+-------+------------------+--------+--------+--------+--------+--------+--------+--------+--------+--------+--------+---------+---------+---------+---------+---------+---------+---------+---------+---------+---------+---------+---------+---------+---------+---------+---------+---------+---------+---------+---------+---------+---------+---------+---------+---------+---------+---------+---------+---------+---------+---------+---------+---------+---------+---------+---------+---------+---------+---------+---------+---------+---------+---------+---------+---------+---------+---------+---------+---------+---------+---------+---------+---------+---------+---------+---------+---------+---------+---------+---------+---------+---------+---------+---------+---------+---------+---------+---------+---------+---------+---------+---------+---------+---------+---------+---------+---------+---------+---------+---------+---------+---------+---------+---------+---------+---------+---------+---------+---------+---------+----------+----------+----------+----------+----------+----------+----------+----------+----------+----------+----------+----------+----------+----------+----------+----------+----------+----------+----------+----------+----------+----------+----------+----------+----------+----------+----------+----------+----------+----------+----------+----------+----------+----------+----------+----------+----------+----------+----------+----------+----------+----------+----------+----------+----------+----------+----------+----------+----------+----------+----------+----------+----------+----------+----------+----------+----------+----------+----------+----------+----------+----------+----------+----------+----------+----------+----------+----------+----------+----------+----------+----------+----------+----------+----------+----------+----------+----------+----------+----------+----------+----------+----------+----------+----------+----------+----------+----------+----------+----------+----------+----------+----------+----------+----------+----------+----------+----------+----------+----------+----------+----------+----------+----------+----------+----------+----------+----------+----------+----------+----------+----------+----------+----------+----------+----------+----------+----------+----------+----------+----------+----------+----------+----------+----------+----------+----------+----------+----------+----------+----------+----------+----------+----------+----------+----------+----------+----------+----------+----------+----------+----------+----------+----------+----------+----------+----------+----------+----------+----------+----------+----------+----------+----------+----------+----------+\n",
      "|       name|trial number|matching condition|channel|subject identifier|sample_0|sample_1|sample_2|sample_3|sample_4|sample_5|sample_6|sample_7|sample_8|sample_9|sample_10|sample_11|sample_12|sample_13|sample_14|sample_15|sample_16|sample_17|sample_18|sample_19|sample_20|sample_21|sample_22|sample_23|sample_24|sample_25|sample_26|sample_27|sample_28|sample_29|sample_30|sample_31|sample_32|sample_33|sample_34|sample_35|sample_36|sample_37|sample_38|sample_39|sample_40|sample_41|sample_42|sample_43|sample_44|sample_45|sample_46|sample_47|sample_48|sample_49|sample_50|sample_51|sample_52|sample_53|sample_54|sample_55|sample_56|sample_57|sample_58|sample_59|sample_60|sample_61|sample_62|sample_63|sample_64|sample_65|sample_66|sample_67|sample_68|sample_69|sample_70|sample_71|sample_72|sample_73|sample_74|sample_75|sample_76|sample_77|sample_78|sample_79|sample_80|sample_81|sample_82|sample_83|sample_84|sample_85|sample_86|sample_87|sample_88|sample_89|sample_90|sample_91|sample_92|sample_93|sample_94|sample_95|sample_96|sample_97|sample_98|sample_99|sample_100|sample_101|sample_102|sample_103|sample_104|sample_105|sample_106|sample_107|sample_108|sample_109|sample_110|sample_111|sample_112|sample_113|sample_114|sample_115|sample_116|sample_117|sample_118|sample_119|sample_120|sample_121|sample_122|sample_123|sample_124|sample_125|sample_126|sample_127|sample_128|sample_129|sample_130|sample_131|sample_132|sample_133|sample_134|sample_135|sample_136|sample_137|sample_138|sample_139|sample_140|sample_141|sample_142|sample_143|sample_144|sample_145|sample_146|sample_147|sample_148|sample_149|sample_150|sample_151|sample_152|sample_153|sample_154|sample_155|sample_156|sample_157|sample_158|sample_159|sample_160|sample_161|sample_162|sample_163|sample_164|sample_165|sample_166|sample_167|sample_168|sample_169|sample_170|sample_171|sample_172|sample_173|sample_174|sample_175|sample_176|sample_177|sample_178|sample_179|sample_180|sample_181|sample_182|sample_183|sample_184|sample_185|sample_186|sample_187|sample_188|sample_189|sample_190|sample_191|sample_192|sample_193|sample_194|sample_195|sample_196|sample_197|sample_198|sample_199|sample_200|sample_201|sample_202|sample_203|sample_204|sample_205|sample_206|sample_207|sample_208|sample_209|sample_210|sample_211|sample_212|sample_213|sample_214|sample_215|sample_216|sample_217|sample_218|sample_219|sample_220|sample_221|sample_222|sample_223|sample_224|sample_225|sample_226|sample_227|sample_228|sample_229|sample_230|sample_231|sample_232|sample_233|sample_234|sample_235|sample_236|sample_237|sample_238|sample_239|sample_240|sample_241|sample_242|sample_243|sample_244|sample_245|sample_246|sample_247|sample_248|sample_249|sample_250|sample_251|sample_252|sample_253|sample_254|sample_255|\n",
      "+-----------+------------+------------------+-------+------------------+--------+--------+--------+--------+--------+--------+--------+--------+--------+--------+---------+---------+---------+---------+---------+---------+---------+---------+---------+---------+---------+---------+---------+---------+---------+---------+---------+---------+---------+---------+---------+---------+---------+---------+---------+---------+---------+---------+---------+---------+---------+---------+---------+---------+---------+---------+---------+---------+---------+---------+---------+---------+---------+---------+---------+---------+---------+---------+---------+---------+---------+---------+---------+---------+---------+---------+---------+---------+---------+---------+---------+---------+---------+---------+---------+---------+---------+---------+---------+---------+---------+---------+---------+---------+---------+---------+---------+---------+---------+---------+---------+---------+---------+---------+---------+---------+---------+---------+---------+---------+----------+----------+----------+----------+----------+----------+----------+----------+----------+----------+----------+----------+----------+----------+----------+----------+----------+----------+----------+----------+----------+----------+----------+----------+----------+----------+----------+----------+----------+----------+----------+----------+----------+----------+----------+----------+----------+----------+----------+----------+----------+----------+----------+----------+----------+----------+----------+----------+----------+----------+----------+----------+----------+----------+----------+----------+----------+----------+----------+----------+----------+----------+----------+----------+----------+----------+----------+----------+----------+----------+----------+----------+----------+----------+----------+----------+----------+----------+----------+----------+----------+----------+----------+----------+----------+----------+----------+----------+----------+----------+----------+----------+----------+----------+----------+----------+----------+----------+----------+----------+----------+----------+----------+----------+----------+----------+----------+----------+----------+----------+----------+----------+----------+----------+----------+----------+----------+----------+----------+----------+----------+----------+----------+----------+----------+----------+----------+----------+----------+----------+----------+----------+----------+----------+----------+----------+----------+----------+----------+----------+----------+----------+----------+----------+----------+----------+----------+----------+----------+----------+----------+----------+----------+----------+----------+----------+\n",
      "|co2a0000364|           0|            S1 obj|      0|                 a|   5.239|  11.098|   4.751|   8.169|   2.309|  -3.062|  -7.456|   10.61|   3.286|   5.727|   -1.109|   16.958|   -1.597|    2.797|   11.587|    0.356|   -2.085|    7.192|    6.215|    1.821|    2.309|    4.262|   15.004|    9.633|    6.215|    5.727|   -3.062|   -2.574|    4.262|    9.633|    6.215|    8.169|   -4.527|   -0.621|    4.751|    0.844|   16.469|    5.727|    6.215|   13.051|    6.704|    0.356|    9.145|    3.774|    5.239|    0.356|   -4.038|    5.239|   -9.898|   -0.132|    6.215|    5.727|    8.169|   13.051|   -5.503|    8.169|    3.286|   -1.597|   -2.574|   14.516|    6.704|    8.169|   -0.132|   15.493|    1.821|   -4.038|   -2.574|   14.516|    5.727|     7.68|   -7.945|    6.704|   -8.433|   15.004|   -5.503|    9.145|    10.61|    4.262|    7.192|    8.169|    1.821|    6.704|    5.727|    0.356|    3.774|    -6.48|    -3.55|    -6.48|    2.797|    0.356|    10.61|   15.004|  -11.363|    4.751|   18.911|    6.215|    3.286|    -3.55|    2.797|    7.192|     8.657|     10.61|     9.145|     8.169|    -4.038|      7.68|     5.727|     10.61|    14.516|     2.797|    -8.921|     5.727|     8.657|    11.587|    -7.456|    -3.062|     0.844|     1.821|    -3.062|   -10.386|   -13.316|    10.122|     6.215|     1.333|    -2.574|     9.633|     6.215|     7.192|     -3.55|     4.751|    10.122|     8.657|    -2.574|    14.028|     2.309|    -5.503|    -0.621|    -1.597|     4.262|     7.192|     9.633|     2.309|     2.309|     7.192|     5.727|    -0.132|     5.239|    -8.921|     6.704|    -1.597|    -2.574|    -1.109|    -4.527|    16.958|     10.61|     7.192|     3.774|     4.751|     1.333|    -2.574|     1.333|     10.61|    -1.597|    19.887|     6.704|    16.958|    19.887|     8.169|     6.704|    -0.132|     8.169|     6.215|    -0.621|     4.262|    -1.597|     4.262|     4.262|     5.727|    -2.085|     10.61|    12.075|    15.981|     1.821|    -5.503|    -1.109|     5.239|     2.797|     2.309|    -0.132|     5.727|    14.028|     6.215|     3.286|    -0.132|     1.333|    -0.132|     8.169|    18.911|    14.028|    13.051|     2.309|     9.633|     6.704|     0.356|     9.145|    -0.132|    -2.574|    11.587|     0.844|    -1.597|    12.563|    12.563|    19.887|     8.657|    -7.456|     8.169|     8.169|     4.262|    -2.085|    -5.992|     13.54|   -11.363|     5.239|    -0.132|    11.098|    -3.062|     6.704|     9.633|    -2.574|     6.704|    -1.109|    -7.945|    14.516|     2.309|     1.333|    -4.038|     6.704|     5.239|    -8.433|     8.169|     4.262|     1.821|    -5.992|    -0.132|    -4.038|     8.657|    15.981|    18.911|     7.192|    10.122|     -3.55|    -8.433|     0.844|     1.333|     7.192|     3.286|\n",
      "|co2a0000364|           0|            S1 obj|      1|                 a|  -1.607|  20.365|   2.787|  11.088|   2.299|  -3.072|   0.346|   -3.56|   8.158|  15.971|    6.694|   20.854|   11.088|   -4.049|    6.694|    -6.49|   -4.537|   -0.142|   10.111|    6.205|  -13.326|    2.787|     7.67|   -6.978|   -7.955|   16.459|    9.623|    5.717|   -6.002|   -0.631|  -12.838|   14.994|    3.764|    5.717|    9.623|  -10.396|   -3.072|    0.346|    3.764|    7.182|   12.065|  -11.373|   -1.607|   -9.908|    3.764|   -5.514|   -5.025|   -4.537|   -1.607|   -5.025|   -4.049|    -3.56|    9.623|   -3.072|   21.342|   24.272|    5.717|   -0.142|    1.322|     4.74|    9.623|    6.205|   -6.978|    7.182|   12.553|     4.74|    -6.49|   -2.584|   10.111|   -6.978|    2.787|    6.694|    1.322|    6.694|   12.553|   -2.096|    6.694|    6.694|   -6.002|     7.67|    8.158|   -0.631|   -0.142|     4.74|    8.647|  -13.326|   -1.119|    5.717|  -11.861|    0.834|    3.276|   -1.607|   11.576|    0.346|    0.834|   11.088|   -3.072|   17.436|  -11.373|     7.67|      7.67|     6.205|     9.135|    -1.119|   -14.303|    12.553|      10.6|     8.647|     8.647|    -2.584|    11.088|     8.158|    12.553|     -9.42|     0.834|     5.717|     8.647|    13.529|    -1.119|    -1.119|    17.924|     4.252|     3.276|     8.647|     1.811|     4.252|     1.811|     1.811|     24.76|    -2.096|      7.67|    -8.443|     5.229|     5.229|    -1.607|     9.135|     5.717|      7.67|     5.229|    11.576|     6.205|     6.694|    12.553|     3.276|    13.041|    11.088|    -5.514|    -9.908|     2.299|    -1.119|    15.483|    14.994|      4.74|    10.111|    14.018|     0.346|     5.717|    12.553|    14.506|     6.694|      4.74|    -2.096|    -4.537|     2.787|     8.647|     7.182|     5.717|     6.694|    12.065|    10.111|    -2.584|   -14.303|      7.67|      4.74|    -4.049|     9.623|     -9.42|     3.764|     5.229|    20.365|      7.67|     5.229|     9.135|    -0.631|     2.787|     0.346|   -10.396|    -1.607|     2.787|    12.065|    13.529|    24.272|    -6.978|    -2.584|     4.252|     3.276|    -0.631|     8.647|     0.346|    -2.096|    -3.072|   -14.303|    -7.955|    24.272|    -5.025|     5.717|    -0.631|    -1.119|     3.764|     7.182|    -5.514|     2.787|      10.6|      7.67|    16.947|     0.346|     6.205|     9.623|     0.346|     9.135|    -1.119|     7.182|    11.576|    -5.025|    18.412|    -4.049|     9.135|    -2.584|    12.065|      10.6|     0.834|     2.299|     8.647|    21.342|     0.834|     6.694|    -0.631|     8.158|     2.787|    20.854|     2.787|    -4.537|     4.252|   -13.814|     9.623|     6.205|     8.647|    -3.072|     6.694|     6.694|     5.717|    12.065|     7.182|     6.694|    -9.908|   -10.885|\n",
      "+-----------+------------+------------------+-------+------------------+--------+--------+--------+--------+--------+--------+--------+--------+--------+--------+---------+---------+---------+---------+---------+---------+---------+---------+---------+---------+---------+---------+---------+---------+---------+---------+---------+---------+---------+---------+---------+---------+---------+---------+---------+---------+---------+---------+---------+---------+---------+---------+---------+---------+---------+---------+---------+---------+---------+---------+---------+---------+---------+---------+---------+---------+---------+---------+---------+---------+---------+---------+---------+---------+---------+---------+---------+---------+---------+---------+---------+---------+---------+---------+---------+---------+---------+---------+---------+---------+---------+---------+---------+---------+---------+---------+---------+---------+---------+---------+---------+---------+---------+---------+---------+---------+---------+---------+---------+---------+----------+----------+----------+----------+----------+----------+----------+----------+----------+----------+----------+----------+----------+----------+----------+----------+----------+----------+----------+----------+----------+----------+----------+----------+----------+----------+----------+----------+----------+----------+----------+----------+----------+----------+----------+----------+----------+----------+----------+----------+----------+----------+----------+----------+----------+----------+----------+----------+----------+----------+----------+----------+----------+----------+----------+----------+----------+----------+----------+----------+----------+----------+----------+----------+----------+----------+----------+----------+----------+----------+----------+----------+----------+----------+----------+----------+----------+----------+----------+----------+----------+----------+----------+----------+----------+----------+----------+----------+----------+----------+----------+----------+----------+----------+----------+----------+----------+----------+----------+----------+----------+----------+----------+----------+----------+----------+----------+----------+----------+----------+----------+----------+----------+----------+----------+----------+----------+----------+----------+----------+----------+----------+----------+----------+----------+----------+----------+----------+----------+----------+----------+----------+----------+----------+----------+----------+----------+----------+----------+----------+----------+----------+----------+----------+----------+----------+----------+----------+----------+----------+----------+----------+----------+----------+----------+----------+\n",
      "only showing top 2 rows\n",
      "\n"
     ]
    }
   ],
   "source": [
    "EEG_data.show(2)"
   ]
  },
  {
   "cell_type": "markdown",
   "id": "4e19ce91-b9ac-41c4-b5ae-e49659635051",
   "metadata": {},
   "source": [
    "<h1>Grasp on data after Preprocessing</h1>"
   ]
  },
  {
   "cell_type": "code",
   "execution_count": 63,
   "id": "71f478f1-b608-4a32-9b37-504371bc746b",
   "metadata": {
    "execution": {
     "iopub.execute_input": "2022-06-09T14:35:52.672824Z",
     "iopub.status.busy": "2022-06-09T14:35:52.672723Z",
     "iopub.status.idle": "2022-06-09T14:38:06.831963Z",
     "shell.execute_reply": "2022-06-09T14:38:06.831522Z",
     "shell.execute_reply.started": "2022-06-09T14:35:52.672812Z"
    },
    "tags": []
   },
   "outputs": [
    {
     "name": "stdout",
     "output_type": "stream",
     "text": [
      "N. of missing values of column `name` = 0\n",
      "N. of missing values of column `trial number` = 0\n",
      "N. of missing values of column `matching condition` = 0\n",
      "N. of missing values of column `channel` = 0\n",
      "N. of missing values of column `subject identifier` = 0\n",
      "N. of missing values of column `sample_0` = 0\n",
      "N. of missing values of column `sample_1` = 0\n",
      "N. of missing values of column `sample_2` = 0\n",
      "N. of missing values of column `sample_3` = 0\n",
      "N. of missing values of column `sample_4` = 0\n",
      "N. of missing values of column `sample_5` = 0\n",
      "N. of missing values of column `sample_6` = 0\n",
      "N. of missing values of column `sample_7` = 0\n",
      "N. of missing values of column `sample_8` = 0\n",
      "N. of missing values of column `sample_9` = 0\n",
      "N. of missing values of column `sample_10` = 0\n",
      "N. of missing values of column `sample_11` = 0\n",
      "N. of missing values of column `sample_12` = 0\n",
      "N. of missing values of column `sample_13` = 0\n",
      "N. of missing values of column `sample_14` = 0\n",
      "N. of missing values of column `sample_15` = 0\n",
      "N. of missing values of column `sample_16` = 0\n",
      "N. of missing values of column `sample_17` = 0\n",
      "N. of missing values of column `sample_18` = 0\n",
      "N. of missing values of column `sample_19` = 0\n",
      "N. of missing values of column `sample_20` = 0\n",
      "N. of missing values of column `sample_21` = 0\n",
      "N. of missing values of column `sample_22` = 0\n",
      "N. of missing values of column `sample_23` = 0\n",
      "N. of missing values of column `sample_24` = 0\n",
      "N. of missing values of column `sample_25` = 0\n",
      "N. of missing values of column `sample_26` = 0\n",
      "N. of missing values of column `sample_27` = 0\n",
      "N. of missing values of column `sample_28` = 0\n",
      "N. of missing values of column `sample_29` = 0\n",
      "N. of missing values of column `sample_30` = 0\n",
      "N. of missing values of column `sample_31` = 0\n",
      "N. of missing values of column `sample_32` = 0\n",
      "N. of missing values of column `sample_33` = 0\n",
      "N. of missing values of column `sample_34` = 0\n",
      "N. of missing values of column `sample_35` = 0\n",
      "N. of missing values of column `sample_36` = 0\n",
      "N. of missing values of column `sample_37` = 0\n",
      "N. of missing values of column `sample_38` = 0\n",
      "N. of missing values of column `sample_39` = 0\n",
      "N. of missing values of column `sample_40` = 0\n",
      "N. of missing values of column `sample_41` = 0\n",
      "N. of missing values of column `sample_42` = 0\n",
      "N. of missing values of column `sample_43` = 0\n",
      "N. of missing values of column `sample_44` = 0\n",
      "N. of missing values of column `sample_45` = 0\n",
      "N. of missing values of column `sample_46` = 0\n",
      "N. of missing values of column `sample_47` = 0\n",
      "N. of missing values of column `sample_48` = 0\n",
      "N. of missing values of column `sample_49` = 0\n",
      "N. of missing values of column `sample_50` = 0\n",
      "N. of missing values of column `sample_51` = 0\n",
      "N. of missing values of column `sample_52` = 0\n",
      "N. of missing values of column `sample_53` = 0\n",
      "N. of missing values of column `sample_54` = 0\n",
      "N. of missing values of column `sample_55` = 0\n",
      "N. of missing values of column `sample_56` = 0\n",
      "N. of missing values of column `sample_57` = 0\n",
      "N. of missing values of column `sample_58` = 0\n",
      "N. of missing values of column `sample_59` = 0\n",
      "N. of missing values of column `sample_60` = 0\n",
      "N. of missing values of column `sample_61` = 0\n",
      "N. of missing values of column `sample_62` = 0\n",
      "N. of missing values of column `sample_63` = 0\n",
      "N. of missing values of column `sample_64` = 0\n",
      "N. of missing values of column `sample_65` = 0\n",
      "N. of missing values of column `sample_66` = 0\n",
      "N. of missing values of column `sample_67` = 0\n",
      "N. of missing values of column `sample_68` = 0\n",
      "N. of missing values of column `sample_69` = 0\n",
      "N. of missing values of column `sample_70` = 0\n",
      "N. of missing values of column `sample_71` = 0\n",
      "N. of missing values of column `sample_72` = 0\n",
      "N. of missing values of column `sample_73` = 0\n",
      "N. of missing values of column `sample_74` = 0\n",
      "N. of missing values of column `sample_75` = 0\n",
      "N. of missing values of column `sample_76` = 0\n",
      "N. of missing values of column `sample_77` = 0\n",
      "N. of missing values of column `sample_78` = 0\n",
      "N. of missing values of column `sample_79` = 0\n",
      "N. of missing values of column `sample_80` = 0\n",
      "N. of missing values of column `sample_81` = 0\n",
      "N. of missing values of column `sample_82` = 0\n",
      "N. of missing values of column `sample_83` = 0\n",
      "N. of missing values of column `sample_84` = 0\n",
      "N. of missing values of column `sample_85` = 0\n",
      "N. of missing values of column `sample_86` = 0\n",
      "N. of missing values of column `sample_87` = 0\n",
      "N. of missing values of column `sample_88` = 0\n",
      "N. of missing values of column `sample_89` = 0\n",
      "N. of missing values of column `sample_90` = 0\n",
      "N. of missing values of column `sample_91` = 0\n",
      "N. of missing values of column `sample_92` = 0\n",
      "N. of missing values of column `sample_93` = 0\n",
      "N. of missing values of column `sample_94` = 0\n",
      "N. of missing values of column `sample_95` = 0\n",
      "N. of missing values of column `sample_96` = 0\n",
      "N. of missing values of column `sample_97` = 0\n",
      "N. of missing values of column `sample_98` = 0\n",
      "N. of missing values of column `sample_99` = 0\n",
      "N. of missing values of column `sample_100` = 0\n",
      "N. of missing values of column `sample_101` = 0\n",
      "N. of missing values of column `sample_102` = 0\n",
      "N. of missing values of column `sample_103` = 0\n",
      "N. of missing values of column `sample_104` = 0\n",
      "N. of missing values of column `sample_105` = 0\n",
      "N. of missing values of column `sample_106` = 0\n",
      "N. of missing values of column `sample_107` = 0\n",
      "N. of missing values of column `sample_108` = 0\n",
      "N. of missing values of column `sample_109` = 0\n",
      "N. of missing values of column `sample_110` = 0\n",
      "N. of missing values of column `sample_111` = 0\n",
      "N. of missing values of column `sample_112` = 0\n",
      "N. of missing values of column `sample_113` = 0\n",
      "N. of missing values of column `sample_114` = 0\n",
      "N. of missing values of column `sample_115` = 0\n",
      "N. of missing values of column `sample_116` = 0\n",
      "N. of missing values of column `sample_117` = 0\n",
      "N. of missing values of column `sample_118` = 0\n",
      "N. of missing values of column `sample_119` = 0\n",
      "N. of missing values of column `sample_120` = 0\n",
      "N. of missing values of column `sample_121` = 0\n",
      "N. of missing values of column `sample_122` = 0\n",
      "N. of missing values of column `sample_123` = 0\n",
      "N. of missing values of column `sample_124` = 0\n",
      "N. of missing values of column `sample_125` = 0\n",
      "N. of missing values of column `sample_126` = 0\n",
      "N. of missing values of column `sample_127` = 0\n",
      "N. of missing values of column `sample_128` = 0\n",
      "N. of missing values of column `sample_129` = 0\n",
      "N. of missing values of column `sample_130` = 0\n",
      "N. of missing values of column `sample_131` = 0\n",
      "N. of missing values of column `sample_132` = 0\n",
      "N. of missing values of column `sample_133` = 0\n",
      "N. of missing values of column `sample_134` = 0\n",
      "N. of missing values of column `sample_135` = 0\n",
      "N. of missing values of column `sample_136` = 0\n",
      "N. of missing values of column `sample_137` = 0\n",
      "N. of missing values of column `sample_138` = 0\n",
      "N. of missing values of column `sample_139` = 0\n",
      "N. of missing values of column `sample_140` = 0\n",
      "N. of missing values of column `sample_141` = 0\n",
      "N. of missing values of column `sample_142` = 0\n",
      "N. of missing values of column `sample_143` = 0\n",
      "N. of missing values of column `sample_144` = 0\n",
      "N. of missing values of column `sample_145` = 0\n",
      "N. of missing values of column `sample_146` = 0\n",
      "N. of missing values of column `sample_147` = 0\n",
      "N. of missing values of column `sample_148` = 0\n",
      "N. of missing values of column `sample_149` = 0\n",
      "N. of missing values of column `sample_150` = 0\n",
      "N. of missing values of column `sample_151` = 0\n",
      "N. of missing values of column `sample_152` = 0\n",
      "N. of missing values of column `sample_153` = 0\n",
      "N. of missing values of column `sample_154` = 0\n",
      "N. of missing values of column `sample_155` = 0\n",
      "N. of missing values of column `sample_156` = 0\n",
      "N. of missing values of column `sample_157` = 0\n",
      "N. of missing values of column `sample_158` = 0\n",
      "N. of missing values of column `sample_159` = 0\n",
      "N. of missing values of column `sample_160` = 0\n",
      "N. of missing values of column `sample_161` = 0\n",
      "N. of missing values of column `sample_162` = 0\n",
      "N. of missing values of column `sample_163` = 0\n",
      "N. of missing values of column `sample_164` = 0\n",
      "N. of missing values of column `sample_165` = 0\n",
      "N. of missing values of column `sample_166` = 0\n",
      "N. of missing values of column `sample_167` = 0\n",
      "N. of missing values of column `sample_168` = 0\n",
      "N. of missing values of column `sample_169` = 0\n",
      "N. of missing values of column `sample_170` = 0\n",
      "N. of missing values of column `sample_171` = 0\n",
      "N. of missing values of column `sample_172` = 0\n",
      "N. of missing values of column `sample_173` = 0\n",
      "N. of missing values of column `sample_174` = 0\n",
      "N. of missing values of column `sample_175` = 0\n",
      "N. of missing values of column `sample_176` = 0\n",
      "N. of missing values of column `sample_177` = 0\n",
      "N. of missing values of column `sample_178` = 0\n",
      "N. of missing values of column `sample_179` = 0\n",
      "N. of missing values of column `sample_180` = 0\n",
      "N. of missing values of column `sample_181` = 0\n",
      "N. of missing values of column `sample_182` = 0\n",
      "N. of missing values of column `sample_183` = 0\n",
      "N. of missing values of column `sample_184` = 0\n",
      "N. of missing values of column `sample_185` = 0\n",
      "N. of missing values of column `sample_186` = 0\n",
      "N. of missing values of column `sample_187` = 0\n",
      "N. of missing values of column `sample_188` = 0\n",
      "N. of missing values of column `sample_189` = 0\n",
      "N. of missing values of column `sample_190` = 0\n",
      "N. of missing values of column `sample_191` = 0\n",
      "N. of missing values of column `sample_192` = 0\n",
      "N. of missing values of column `sample_193` = 0\n",
      "N. of missing values of column `sample_194` = 0\n",
      "N. of missing values of column `sample_195` = 0\n",
      "N. of missing values of column `sample_196` = 0\n",
      "N. of missing values of column `sample_197` = 0\n",
      "N. of missing values of column `sample_198` = 0\n",
      "N. of missing values of column `sample_199` = 0\n",
      "N. of missing values of column `sample_200` = 0\n",
      "N. of missing values of column `sample_201` = 0\n",
      "N. of missing values of column `sample_202` = 0\n",
      "N. of missing values of column `sample_203` = 0\n",
      "N. of missing values of column `sample_204` = 0\n",
      "N. of missing values of column `sample_205` = 0\n",
      "N. of missing values of column `sample_206` = 0\n",
      "N. of missing values of column `sample_207` = 0\n",
      "N. of missing values of column `sample_208` = 0\n",
      "N. of missing values of column `sample_209` = 0\n",
      "N. of missing values of column `sample_210` = 0\n",
      "N. of missing values of column `sample_211` = 0\n",
      "N. of missing values of column `sample_212` = 0\n",
      "N. of missing values of column `sample_213` = 0\n",
      "N. of missing values of column `sample_214` = 0\n",
      "N. of missing values of column `sample_215` = 0\n",
      "N. of missing values of column `sample_216` = 0\n",
      "N. of missing values of column `sample_217` = 0\n",
      "N. of missing values of column `sample_218` = 0\n",
      "N. of missing values of column `sample_219` = 0\n",
      "N. of missing values of column `sample_220` = 0\n",
      "N. of missing values of column `sample_221` = 0\n",
      "N. of missing values of column `sample_222` = 0\n",
      "N. of missing values of column `sample_223` = 0\n",
      "N. of missing values of column `sample_224` = 0\n",
      "N. of missing values of column `sample_225` = 0\n",
      "N. of missing values of column `sample_226` = 0\n",
      "N. of missing values of column `sample_227` = 0\n",
      "N. of missing values of column `sample_228` = 0\n",
      "N. of missing values of column `sample_229` = 0\n",
      "N. of missing values of column `sample_230` = 0\n",
      "N. of missing values of column `sample_231` = 0\n",
      "N. of missing values of column `sample_232` = 0\n",
      "N. of missing values of column `sample_233` = 0\n",
      "N. of missing values of column `sample_234` = 0\n",
      "N. of missing values of column `sample_235` = 0\n",
      "N. of missing values of column `sample_236` = 0\n",
      "N. of missing values of column `sample_237` = 0\n",
      "N. of missing values of column `sample_238` = 0\n",
      "N. of missing values of column `sample_239` = 0\n",
      "N. of missing values of column `sample_240` = 0\n",
      "N. of missing values of column `sample_241` = 0\n",
      "N. of missing values of column `sample_242` = 0\n",
      "N. of missing values of column `sample_243` = 0\n",
      "N. of missing values of column `sample_244` = 0\n",
      "N. of missing values of column `sample_245` = 0\n",
      "N. of missing values of column `sample_246` = 0\n",
      "N. of missing values of column `sample_247` = 0\n",
      "N. of missing values of column `sample_248` = 0\n",
      "N. of missing values of column `sample_249` = 0\n",
      "N. of missing values of column `sample_250` = 0\n",
      "N. of missing values of column `sample_251` = 0\n",
      "N. of missing values of column `sample_252` = 0\n",
      "N. of missing values of column `sample_253` = 0\n",
      "N. of missing values of column `sample_254` = 0\n",
      "N. of missing values of column `sample_255` = 0\n"
     ]
    }
   ],
   "source": [
    "for c in EEG_data.columns:\n",
    "  print(\"N. of missing values of column `{:s}` = {:d}\".format(c, EEG_data.where(col(c).isNull()).count()))"
   ]
  },
  {
   "cell_type": "code",
   "execution_count": 16,
   "id": "e7558bb7-0224-4e03-aa95-56fce4a854c7",
   "metadata": {
    "execution": {
     "iopub.execute_input": "2022-06-06T16:24:10.556143Z",
     "iopub.status.busy": "2022-06-06T16:24:10.555980Z",
     "iopub.status.idle": "2022-06-06T16:24:14.606343Z",
     "shell.execute_reply": "2022-06-06T16:24:14.605664Z",
     "shell.execute_reply.started": "2022-06-06T16:24:10.556124Z"
    }
   },
   "outputs": [
    {
     "name": "stdout",
     "output_type": "stream",
     "text": [
      "+------------------+\n",
      "|subject identifier|\n",
      "+------------------+\n",
      "|                 c|\n",
      "|                 a|\n",
      "+------------------+\n",
      "\n"
     ]
    }
   ],
   "source": [
    "#show the distinc label in the experiment\n",
    "EEG_data.select('subject identifier').distinct().show()"
   ]
  },
  {
   "cell_type": "code",
   "execution_count": 17,
   "id": "5f324995-5a9b-4e94-9411-0157732a441c",
   "metadata": {
    "execution": {
     "iopub.execute_input": "2022-06-06T16:24:14.607804Z",
     "iopub.status.busy": "2022-06-06T16:24:14.607348Z",
     "iopub.status.idle": "2022-06-06T16:24:18.614346Z",
     "shell.execute_reply": "2022-06-06T16:24:18.613820Z",
     "shell.execute_reply.started": "2022-06-06T16:24:14.607769Z"
    }
   },
   "outputs": [
    {
     "name": "stdout",
     "output_type": "stream",
     "text": [
      "+------------------+\n",
      "|matching condition|\n",
      "+------------------+\n",
      "|        S2 nomatch|\n",
      "|          S2 match|\n",
      "|            S1 obj|\n",
      "+------------------+\n",
      "\n"
     ]
    }
   ],
   "source": [
    "#show the distinc maching condition in the experiment\n",
    "EEG_data.select('matching condition').distinct().show()"
   ]
  },
  {
   "cell_type": "code",
   "execution_count": 18,
   "id": "8230fa84-2438-4cf8-8bf2-fd3d6eb2922c",
   "metadata": {
    "execution": {
     "iopub.execute_input": "2022-06-06T16:24:18.615443Z",
     "iopub.status.busy": "2022-06-06T16:24:18.615229Z",
     "iopub.status.idle": "2022-06-06T16:24:21.811534Z",
     "shell.execute_reply": "2022-06-06T16:24:21.810955Z",
     "shell.execute_reply.started": "2022-06-06T16:24:18.615418Z"
    }
   },
   "outputs": [
    {
     "name": "stdout",
     "output_type": "stream",
     "text": [
      "+-----------+\n",
      "|       name|\n",
      "+-----------+\n",
      "|co2c0000345|\n",
      "|co2a0000369|\n",
      "|co2a0000371|\n",
      "|co2a0000375|\n",
      "|co2a0000365|\n",
      "|co2c0000339|\n",
      "|co2c0000337|\n",
      "|co2c0000342|\n",
      "|co2a0000368|\n",
      "|co2c0000344|\n",
      "|co2a0000364|\n",
      "|co2c0000338|\n",
      "|co2c0000340|\n",
      "|co2c0000341|\n",
      "|co2a0000370|\n",
      "|co2a0000372|\n",
      "+-----------+\n",
      "\n"
     ]
    }
   ],
   "source": [
    "#show the distinc person in the experiment\n",
    "EEG_data.select('name').distinct().show()"
   ]
  },
  {
   "cell_type": "markdown",
   "id": "1bc8f257-b9cb-4e60-9318-498b8382d778",
   "metadata": {},
   "source": [
    "<h1>visualization</h1>\n",
    "\n",
    "<pre>For this purpose I will <b>randmoly</b> choose one subject of the each group[alcoholic, control], \n",
    "     and to be able to visulise them based on the stimulus they saw 1.s1 obj 2. nomatch 3. match.\n",
    "     \n",
    "     in the second part of Visulization we check for correlation between differenr brain region of the dataset divied into groups of group[alcoholic, control] and with respect to stimuls they saw  1.s1 obj 2. nomatch 3. match.\n",
    "        \n",
    "</pre>"
   ]
  },
  {
   "cell_type": "markdown",
   "id": "95dc0fcb-c54c-425f-80b7-03baca1fce80",
   "metadata": {},
   "source": [
    "<h1>Data Preprocessing<h1>"
   ]
  },
  {
   "cell_type": "code",
   "execution_count": 65,
   "id": "2d77bb09-2737-469f-bcc3-b654bf5c4cab",
   "metadata": {
    "execution": {
     "iopub.execute_input": "2022-06-09T14:38:58.035826Z",
     "iopub.status.busy": "2022-06-09T14:38:58.035543Z",
     "iopub.status.idle": "2022-06-09T14:38:58.044914Z",
     "shell.execute_reply": "2022-06-09T14:38:58.044468Z",
     "shell.execute_reply.started": "2022-06-09T14:38:58.035800Z"
    },
    "tags": []
   },
   "outputs": [],
   "source": [
    "def to_numerical(df, numerical_features, categorical_features, target_variable):\n",
    "\n",
    "    \"\"\"\n",
    "    summary: This function is responsible to implement the pipeline for transforming categorical features into numerical ones\n",
    "             also after transfering the daata \n",
    "    paraams:\n",
    "        - df: the input dataframe\n",
    "        - numerical_features: the list of column names in `df` corresponding to numerical features\n",
    "        - categorical_features: the list of column names in `df` corresponding to categorical features\n",
    "        - target_variable: the column name in `df` corresponding to the target variable\n",
    "\n",
    "    Return:\n",
    "        - transformer: the pipeline of transformation fit to `df` (for future usage)\n",
    "        - df_transformed: the dataframe transformed according to the pipeline\n",
    "    \"\"\"\n",
    "\n",
    "    indexers = [StringIndexer(inputCol=c, outputCol=\"{0}_indexed\".format(c), handleInvalid=\"keep\") for c in categorical_features]\n",
    "    encoder = OneHotEncoder(inputCols=[indexer.getOutputCol() for indexer in indexers], \n",
    "                                    outputCols=[\"{0}_encoded\".format(indexer.getOutputCol()) for indexer in indexers], \n",
    "                                    handleInvalid=\"keep\")\n",
    "\n",
    "    label_indexer = StringIndexer(inputCol = target_variable, outputCol = \"label\")\n",
    "    assembler = VectorAssembler(inputCols=encoder.getOutputCols() + numerical_features, outputCol=\"features\")\n",
    "    scaler = StandardScaler(inputCol=assembler.getOutputCol(), outputCol=\"std_\"+assembler.getOutputCol(), withStd=True, withMean=True)\n",
    "    stages = indexers + [encoder] + [label_indexer] + [assembler] + [scaler]\n",
    "    pipeline = Pipeline(stages=stages)\n",
    "    transformer = pipeline.fit(df)\n",
    "    df_transformed = transformer.transform(df)\n",
    "    return transformer, df_transformed "
   ]
  },
  {
   "cell_type": "code",
   "execution_count": 76,
   "id": "c4fe96de-2dc9-4898-8bb5-f5412a8e7e32",
   "metadata": {
    "execution": {
     "iopub.execute_input": "2022-06-09T14:40:58.152375Z",
     "iopub.status.busy": "2022-06-09T14:40:58.152133Z",
     "iopub.status.idle": "2022-06-09T14:40:58.156300Z",
     "shell.execute_reply": "2022-06-09T14:40:58.155790Z",
     "shell.execute_reply.started": "2022-06-09T14:40:58.152350Z"
    },
    "tags": []
   },
   "outputs": [],
   "source": [
    "numerical_features = ['channel', 'trial number']+[f'sample_{idx}' for idx in range(256)]\n",
    "categorial_features = ['matching condition']\n",
    "target_feature = 'subject identifier'"
   ]
  },
  {
   "cell_type": "code",
   "execution_count": 74,
   "id": "60d64540-0130-42c4-9b3b-80105e195311",
   "metadata": {
    "execution": {
     "iopub.execute_input": "2022-06-09T14:40:26.968296Z",
     "iopub.status.busy": "2022-06-09T14:40:26.968096Z",
     "iopub.status.idle": "2022-06-09T14:40:26.987011Z",
     "shell.execute_reply": "2022-06-09T14:40:26.986509Z",
     "shell.execute_reply.started": "2022-06-09T14:40:26.968274Z"
    },
    "tags": []
   },
   "outputs": [],
   "source": [
    "train_df, test_df = EEG_data.randomSplit([0.7, 0.3], seed=seed)"
   ]
  },
  {
   "cell_type": "code",
   "execution_count": 77,
   "id": "9f09d173-cc32-44c1-abed-862d7e061c2d",
   "metadata": {
    "execution": {
     "iopub.execute_input": "2022-06-09T14:41:21.082412Z",
     "iopub.status.busy": "2022-06-09T14:41:21.082196Z",
     "iopub.status.idle": "2022-06-09T14:41:24.757322Z",
     "shell.execute_reply": "2022-06-09T14:41:24.756943Z",
     "shell.execute_reply.started": "2022-06-09T14:41:21.082387Z"
    },
    "tags": []
   },
   "outputs": [],
   "source": [
    "# Transform the training set and get back both the transformer and the new dataset\n",
    "transformer, train = to_numerical(train_df, numerical_features, categorial_features, 'subject identifier')"
   ]
  },
  {
   "cell_type": "code",
   "execution_count": 78,
   "id": "fe0fa3c2-61c5-426e-8f73-c7d7846cd5b7",
   "metadata": {
    "execution": {
     "iopub.execute_input": "2022-06-09T14:41:25.799302Z",
     "iopub.status.busy": "2022-06-09T14:41:25.799080Z",
     "iopub.status.idle": "2022-06-09T14:41:25.922256Z",
     "shell.execute_reply": "2022-06-09T14:41:25.921810Z",
     "shell.execute_reply.started": "2022-06-09T14:41:25.799277Z"
    },
    "tags": []
   },
   "outputs": [],
   "source": [
    "#transform the test data\n",
    "test = transformer.transform(test_df)"
   ]
  },
  {
   "cell_type": "code",
   "execution_count": 79,
   "id": "bdbba5ec-36f8-4016-8739-1a9e3832e4ae",
   "metadata": {
    "execution": {
     "iopub.execute_input": "2022-06-09T14:41:26.799870Z",
     "iopub.status.busy": "2022-06-09T14:41:26.799595Z",
     "iopub.status.idle": "2022-06-09T14:41:27.301738Z",
     "shell.execute_reply": "2022-06-09T14:41:27.301313Z",
     "shell.execute_reply.started": "2022-06-09T14:41:26.799842Z"
    },
    "tags": []
   },
   "outputs": [
    {
     "name": "stdout",
     "output_type": "stream",
     "text": [
      "+-----------+------------+------------------+-------+------------------+--------+--------+--------+--------+--------+--------+--------+--------+--------+--------+---------+---------+---------+---------+---------+---------+---------+---------+---------+---------+---------+---------+---------+---------+---------+---------+---------+---------+---------+---------+---------+---------+---------+---------+---------+---------+---------+---------+---------+---------+---------+---------+---------+---------+---------+---------+---------+---------+---------+---------+---------+---------+---------+---------+---------+---------+---------+---------+---------+---------+---------+---------+---------+---------+---------+---------+---------+---------+---------+---------+---------+---------+---------+---------+---------+---------+---------+---------+---------+---------+---------+---------+---------+---------+---------+---------+---------+---------+---------+---------+---------+---------+---------+---------+---------+---------+---------+---------+---------+---------+----------+----------+----------+----------+----------+----------+----------+----------+----------+----------+----------+----------+----------+----------+----------+----------+----------+----------+----------+----------+----------+----------+----------+----------+----------+----------+----------+----------+----------+----------+----------+----------+----------+----------+----------+----------+----------+----------+----------+----------+----------+----------+----------+----------+----------+----------+----------+----------+----------+----------+----------+----------+----------+----------+----------+----------+----------+----------+----------+----------+----------+----------+----------+----------+----------+----------+----------+----------+----------+----------+----------+----------+----------+----------+----------+----------+----------+----------+----------+----------+----------+----------+----------+----------+----------+----------+----------+----------+----------+----------+----------+----------+----------+----------+----------+----------+----------+----------+----------+----------+----------+----------+----------+----------+----------+----------+----------+----------+----------+----------+----------+----------+----------+----------+----------+----------+----------+----------+----------+----------+----------+----------+----------+----------+----------+----------+----------+----------+----------+----------+----------+----------+----------+----------+----------+----------+----------+----------+----------+----------+----------+----------+----------+----------+----------+----------+----------+----------+----------+----------+----------+----------+----------+----------+----------+----------+--------------------------+----------------------------------+-----+--------------------+--------------------+\n",
      "|       name|trial number|matching condition|channel|subject identifier|sample_0|sample_1|sample_2|sample_3|sample_4|sample_5|sample_6|sample_7|sample_8|sample_9|sample_10|sample_11|sample_12|sample_13|sample_14|sample_15|sample_16|sample_17|sample_18|sample_19|sample_20|sample_21|sample_22|sample_23|sample_24|sample_25|sample_26|sample_27|sample_28|sample_29|sample_30|sample_31|sample_32|sample_33|sample_34|sample_35|sample_36|sample_37|sample_38|sample_39|sample_40|sample_41|sample_42|sample_43|sample_44|sample_45|sample_46|sample_47|sample_48|sample_49|sample_50|sample_51|sample_52|sample_53|sample_54|sample_55|sample_56|sample_57|sample_58|sample_59|sample_60|sample_61|sample_62|sample_63|sample_64|sample_65|sample_66|sample_67|sample_68|sample_69|sample_70|sample_71|sample_72|sample_73|sample_74|sample_75|sample_76|sample_77|sample_78|sample_79|sample_80|sample_81|sample_82|sample_83|sample_84|sample_85|sample_86|sample_87|sample_88|sample_89|sample_90|sample_91|sample_92|sample_93|sample_94|sample_95|sample_96|sample_97|sample_98|sample_99|sample_100|sample_101|sample_102|sample_103|sample_104|sample_105|sample_106|sample_107|sample_108|sample_109|sample_110|sample_111|sample_112|sample_113|sample_114|sample_115|sample_116|sample_117|sample_118|sample_119|sample_120|sample_121|sample_122|sample_123|sample_124|sample_125|sample_126|sample_127|sample_128|sample_129|sample_130|sample_131|sample_132|sample_133|sample_134|sample_135|sample_136|sample_137|sample_138|sample_139|sample_140|sample_141|sample_142|sample_143|sample_144|sample_145|sample_146|sample_147|sample_148|sample_149|sample_150|sample_151|sample_152|sample_153|sample_154|sample_155|sample_156|sample_157|sample_158|sample_159|sample_160|sample_161|sample_162|sample_163|sample_164|sample_165|sample_166|sample_167|sample_168|sample_169|sample_170|sample_171|sample_172|sample_173|sample_174|sample_175|sample_176|sample_177|sample_178|sample_179|sample_180|sample_181|sample_182|sample_183|sample_184|sample_185|sample_186|sample_187|sample_188|sample_189|sample_190|sample_191|sample_192|sample_193|sample_194|sample_195|sample_196|sample_197|sample_198|sample_199|sample_200|sample_201|sample_202|sample_203|sample_204|sample_205|sample_206|sample_207|sample_208|sample_209|sample_210|sample_211|sample_212|sample_213|sample_214|sample_215|sample_216|sample_217|sample_218|sample_219|sample_220|sample_221|sample_222|sample_223|sample_224|sample_225|sample_226|sample_227|sample_228|sample_229|sample_230|sample_231|sample_232|sample_233|sample_234|sample_235|sample_236|sample_237|sample_238|sample_239|sample_240|sample_241|sample_242|sample_243|sample_244|sample_245|sample_246|sample_247|sample_248|sample_249|sample_250|sample_251|sample_252|sample_253|sample_254|sample_255|matching condition_indexed|matching condition_indexed_encoded|label|            features|        std_features|\n",
      "+-----------+------------+------------------+-------+------------------+--------+--------+--------+--------+--------+--------+--------+--------+--------+--------+---------+---------+---------+---------+---------+---------+---------+---------+---------+---------+---------+---------+---------+---------+---------+---------+---------+---------+---------+---------+---------+---------+---------+---------+---------+---------+---------+---------+---------+---------+---------+---------+---------+---------+---------+---------+---------+---------+---------+---------+---------+---------+---------+---------+---------+---------+---------+---------+---------+---------+---------+---------+---------+---------+---------+---------+---------+---------+---------+---------+---------+---------+---------+---------+---------+---------+---------+---------+---------+---------+---------+---------+---------+---------+---------+---------+---------+---------+---------+---------+---------+---------+---------+---------+---------+---------+---------+---------+---------+---------+----------+----------+----------+----------+----------+----------+----------+----------+----------+----------+----------+----------+----------+----------+----------+----------+----------+----------+----------+----------+----------+----------+----------+----------+----------+----------+----------+----------+----------+----------+----------+----------+----------+----------+----------+----------+----------+----------+----------+----------+----------+----------+----------+----------+----------+----------+----------+----------+----------+----------+----------+----------+----------+----------+----------+----------+----------+----------+----------+----------+----------+----------+----------+----------+----------+----------+----------+----------+----------+----------+----------+----------+----------+----------+----------+----------+----------+----------+----------+----------+----------+----------+----------+----------+----------+----------+----------+----------+----------+----------+----------+----------+----------+----------+----------+----------+----------+----------+----------+----------+----------+----------+----------+----------+----------+----------+----------+----------+----------+----------+----------+----------+----------+----------+----------+----------+----------+----------+----------+----------+----------+----------+----------+----------+----------+----------+----------+----------+----------+----------+----------+----------+----------+----------+----------+----------+----------+----------+----------+----------+----------+----------+----------+----------+----------+----------+----------+----------+----------+----------+----------+----------+----------+----------+----------+----------+--------------------------+----------------------------------+-----+--------------------+--------------------+\n",
      "|co2a0000364|           0|            S1 obj|      1|                 a|  -1.607|  20.365|   2.787|  11.088|   2.299|  -3.072|   0.346|   -3.56|   8.158|  15.971|    6.694|   20.854|   11.088|   -4.049|    6.694|    -6.49|   -4.537|   -0.142|   10.111|    6.205|  -13.326|    2.787|     7.67|   -6.978|   -7.955|   16.459|    9.623|    5.717|   -6.002|   -0.631|  -12.838|   14.994|    3.764|    5.717|    9.623|  -10.396|   -3.072|    0.346|    3.764|    7.182|   12.065|  -11.373|   -1.607|   -9.908|    3.764|   -5.514|   -5.025|   -4.537|   -1.607|   -5.025|   -4.049|    -3.56|    9.623|   -3.072|   21.342|   24.272|    5.717|   -0.142|    1.322|     4.74|    9.623|    6.205|   -6.978|    7.182|   12.553|     4.74|    -6.49|   -2.584|   10.111|   -6.978|    2.787|    6.694|    1.322|    6.694|   12.553|   -2.096|    6.694|    6.694|   -6.002|     7.67|    8.158|   -0.631|   -0.142|     4.74|    8.647|  -13.326|   -1.119|    5.717|  -11.861|    0.834|    3.276|   -1.607|   11.576|    0.346|    0.834|   11.088|   -3.072|   17.436|  -11.373|     7.67|      7.67|     6.205|     9.135|    -1.119|   -14.303|    12.553|      10.6|     8.647|     8.647|    -2.584|    11.088|     8.158|    12.553|     -9.42|     0.834|     5.717|     8.647|    13.529|    -1.119|    -1.119|    17.924|     4.252|     3.276|     8.647|     1.811|     4.252|     1.811|     1.811|     24.76|    -2.096|      7.67|    -8.443|     5.229|     5.229|    -1.607|     9.135|     5.717|      7.67|     5.229|    11.576|     6.205|     6.694|    12.553|     3.276|    13.041|    11.088|    -5.514|    -9.908|     2.299|    -1.119|    15.483|    14.994|      4.74|    10.111|    14.018|     0.346|     5.717|    12.553|    14.506|     6.694|      4.74|    -2.096|    -4.537|     2.787|     8.647|     7.182|     5.717|     6.694|    12.065|    10.111|    -2.584|   -14.303|      7.67|      4.74|    -4.049|     9.623|     -9.42|     3.764|     5.229|    20.365|      7.67|     5.229|     9.135|    -0.631|     2.787|     0.346|   -10.396|    -1.607|     2.787|    12.065|    13.529|    24.272|    -6.978|    -2.584|     4.252|     3.276|    -0.631|     8.647|     0.346|    -2.096|    -3.072|   -14.303|    -7.955|    24.272|    -5.025|     5.717|    -0.631|    -1.119|     3.764|     7.182|    -5.514|     2.787|      10.6|      7.67|    16.947|     0.346|     6.205|     9.623|     0.346|     9.135|    -1.119|     7.182|    11.576|    -5.025|    18.412|    -4.049|     9.135|    -2.584|    12.065|      10.6|     0.834|     2.299|     8.647|    21.342|     0.834|     6.694|    -0.631|     8.158|     2.787|    20.854|     2.787|    -4.537|     4.252|   -13.814|     9.623|     6.205|     8.647|    -3.072|     6.694|     6.694|     5.717|    12.065|     7.182|     6.694|    -9.908|   -10.885|                       0.0|                     (4,[0],[1.0])|  0.0|[1.0,0.0,0.0,0.0,...|[1.37306843197482...|\n",
      "|co2a0000364|           0|            S1 obj|      2|                 a|  14.821|  -5.686|   7.009|   12.38|   8.962|   7.009|  11.403|  18.239|   9.939|  -1.292|    7.009|    6.521|    4.079|   16.774|    1.149|   14.821|    3.103|   -0.315|  -13.011|  -12.522|    1.149|    7.009|   14.333|    6.521|   14.333|   23.122|   17.751|    4.567|  -12.522|    2.614|   19.216|   27.028|   -1.292|    8.474|   -8.128|   11.403|    7.985|    15.31|    2.126|   -5.686|    7.497|     9.45|   -2.268|  -13.011|    8.962|   16.774|    8.962|   -0.315|   -3.733|    7.497|    2.614|   14.333|    -1.78|   -3.733|   -5.686|   18.728|    7.497|  -10.081|    2.126|   17.263|    -7.64|   10.427|   -3.245|  -29.124|    7.985|   -0.315|   -3.245|   31.423|    1.638|   13.357|   10.915|    9.939|    4.079|    0.173|  -10.569|    8.474|   11.892|   14.821|   27.517|   12.868|    -7.64|    5.056|    -4.71|    8.962|   19.704|   -4.222|   27.028|    -7.64|    6.521|    6.032|   20.681|    2.614|   13.845|    0.661|   11.403|   22.146|    4.567|    7.497|    2.126|    2.126|     7.985|    -5.198|     7.985|    20.681|    -3.245|    17.751|     0.173|    -7.151|    -6.663|    -5.686|    -9.593|    15.798|    18.239|    21.657|    11.403|    10.915|     3.103|     2.126|     4.079|    14.333|    -0.315|     0.661|    -0.804|     8.962|     7.497|     9.939|    11.892|    10.427|     12.38|    12.868|     3.591|    16.774|    -0.315|    18.728|    18.728|     5.544|     2.614|    -2.268|   -19.847|    10.915|     0.173|     0.173|     1.149|   -13.011|    -2.268|    14.333|     4.567|     6.521|   -17.893|     0.173|     5.544|    -2.268|    11.403|     1.149|    -0.315|    -3.245|    11.892|     0.173|    -9.104|     -7.64|    -9.104|     5.544|     2.126|   -30.589|    12.868|   -12.522|    15.798|     3.103|     0.661|     7.009|     1.638|    13.845|     23.61|     2.614|    11.403|    14.333|     -1.78|     7.497|   -10.081|    13.357|    11.403|    22.634|     9.939|     1.149|    -5.198|     8.962|    16.286|     0.173|     7.009|     3.591|    10.915|     8.962|    18.728|    -4.222|     0.661|    -0.315|     8.474|     2.126|    17.751|    21.169|     7.009|    11.403|    20.681|    22.146|     15.31|     4.567|     3.103|    -5.686|    -0.315|    13.357|    22.634|     3.103|     -1.78|    -1.292|    15.798|    -0.315|    -2.268|    13.357|    -5.686|     7.497|     2.126|     9.939|     -1.78|     3.103|     8.962|     1.638|    17.263|     3.591|     2.126|     -1.78|    19.216|     1.149|    14.821|    13.357|     1.149|    14.333|     9.939|     1.149|    27.517|     4.567|    13.357|     7.497|    -5.198|    -0.804|    12.868|    13.845|     9.939|    14.821|     -1.78|     2.126|     2.126|     2.126|     5.056|   -11.058|    16.286|     7.497|                       0.0|                     (4,[0],[1.0])|  0.0|[1.0,0.0,0.0,0.0,...|[1.37306843197482...|\n",
      "+-----------+------------+------------------+-------+------------------+--------+--------+--------+--------+--------+--------+--------+--------+--------+--------+---------+---------+---------+---------+---------+---------+---------+---------+---------+---------+---------+---------+---------+---------+---------+---------+---------+---------+---------+---------+---------+---------+---------+---------+---------+---------+---------+---------+---------+---------+---------+---------+---------+---------+---------+---------+---------+---------+---------+---------+---------+---------+---------+---------+---------+---------+---------+---------+---------+---------+---------+---------+---------+---------+---------+---------+---------+---------+---------+---------+---------+---------+---------+---------+---------+---------+---------+---------+---------+---------+---------+---------+---------+---------+---------+---------+---------+---------+---------+---------+---------+---------+---------+---------+---------+---------+---------+---------+---------+---------+----------+----------+----------+----------+----------+----------+----------+----------+----------+----------+----------+----------+----------+----------+----------+----------+----------+----------+----------+----------+----------+----------+----------+----------+----------+----------+----------+----------+----------+----------+----------+----------+----------+----------+----------+----------+----------+----------+----------+----------+----------+----------+----------+----------+----------+----------+----------+----------+----------+----------+----------+----------+----------+----------+----------+----------+----------+----------+----------+----------+----------+----------+----------+----------+----------+----------+----------+----------+----------+----------+----------+----------+----------+----------+----------+----------+----------+----------+----------+----------+----------+----------+----------+----------+----------+----------+----------+----------+----------+----------+----------+----------+----------+----------+----------+----------+----------+----------+----------+----------+----------+----------+----------+----------+----------+----------+----------+----------+----------+----------+----------+----------+----------+----------+----------+----------+----------+----------+----------+----------+----------+----------+----------+----------+----------+----------+----------+----------+----------+----------+----------+----------+----------+----------+----------+----------+----------+----------+----------+----------+----------+----------+----------+----------+----------+----------+----------+----------+----------+----------+----------+----------+----------+----------+----------+----------+--------------------------+----------------------------------+-----+--------------------+--------------------+\n",
      "only showing top 2 rows\n",
      "\n"
     ]
    }
   ],
   "source": [
    "train.show(2)"
   ]
  },
  {
   "cell_type": "code",
   "execution_count": 80,
   "id": "195a18ab-16dc-4eb9-87b9-f0bfe9dd3fe2",
   "metadata": {
    "execution": {
     "iopub.execute_input": "2022-06-09T14:41:35.382762Z",
     "iopub.status.busy": "2022-06-09T14:41:35.382481Z",
     "iopub.status.idle": "2022-06-09T14:41:35.401115Z",
     "shell.execute_reply": "2022-06-09T14:41:35.400570Z",
     "shell.execute_reply.started": "2022-06-09T14:41:35.382736Z"
    },
    "tags": []
   },
   "outputs": [],
   "source": [
    "#get only standard scaled features and labels and usse them through of the whole trainings\n",
    "trainRDD = train.select([\"std_features\", \"label\"])\n",
    "testRDD = test.select([\"std_features\",\"label\"])"
   ]
  },
  {
   "cell_type": "code",
   "execution_count": 87,
   "id": "c1dddc21-c59b-468f-8540-5f1f625ca2bf",
   "metadata": {
    "execution": {
     "iopub.execute_input": "2022-06-09T14:48:09.864356Z",
     "iopub.status.busy": "2022-06-09T14:48:09.864065Z",
     "iopub.status.idle": "2022-06-09T14:48:13.294650Z",
     "shell.execute_reply": "2022-06-09T14:48:13.294011Z",
     "shell.execute_reply.started": "2022-06-09T14:48:09.864331Z"
    }
   },
   "outputs": [],
   "source": [
    "from pyspark.ml.feature import PCA\n",
    "\n",
    "pca_model = PCA(k=64, inputCol=\"std_features\", outputCol=\"pca_features\")\n",
    "pca_features = pca_model.fit(trainRDD)\n"
   ]
  },
  {
   "cell_type": "code",
   "execution_count": 95,
   "id": "0467143f-83a7-4553-990b-59cdfbcdc30c",
   "metadata": {
    "execution": {
     "iopub.execute_input": "2022-06-09T15:07:58.919358Z",
     "iopub.status.busy": "2022-06-09T15:07:58.918860Z",
     "iopub.status.idle": "2022-06-09T15:07:58.937500Z",
     "shell.execute_reply": "2022-06-09T15:07:58.936935Z",
     "shell.execute_reply.started": "2022-06-09T15:07:58.919323Z"
    }
   },
   "outputs": [],
   "source": [
    "basePath = \"./bestModels\""
   ]
  },
  {
   "cell_type": "code",
   "execution_count": 103,
   "id": "d1ea22a4-a6e4-4a49-b448-9995d5516e47",
   "metadata": {
    "execution": {
     "iopub.execute_input": "2022-06-09T15:29:38.038106Z",
     "iopub.status.busy": "2022-06-09T15:29:38.037611Z",
     "iopub.status.idle": "2022-06-09T15:29:38.414499Z",
     "shell.execute_reply": "2022-06-09T15:29:38.413800Z",
     "shell.execute_reply.started": "2022-06-09T15:29:38.038076Z"
    },
    "tags": []
   },
   "outputs": [
    {
     "name": "stdout",
     "output_type": "stream",
     "text": [
      "+--------------------+-----+\n",
      "|        pca_features|label|\n",
      "+--------------------+-----+\n",
      "|[-9.8122008790933...|  0.0|\n",
      "+--------------------+-----+\n",
      "only showing top 1 row\n",
      "\n"
     ]
    }
   ],
   "source": [
    "pca_train_df = pca_features.transform(trainRDD).cache().select([\"pca_features\", \"label\"])\n",
    "pca_test_df = pca_features.transform(testRDD).cache().select([\"pca_features\",\"label\"])\n",
    "pca_train_df.show(1)"
   ]
  },
  {
   "cell_type": "markdown",
   "id": "7cec44d7-870e-40dc-89b6-2dde5505e432",
   "metadata": {},
   "source": [
    "<h1>ML algorithms</h1>"
   ]
  },
  {
   "cell_type": "code",
   "execution_count": 88,
   "id": "0024bd68-a1ae-4a4d-9783-d9bdb9e4b548",
   "metadata": {
    "execution": {
     "iopub.execute_input": "2022-06-09T14:48:17.750260Z",
     "iopub.status.busy": "2022-06-09T14:48:17.750057Z",
     "iopub.status.idle": "2022-06-09T14:48:17.756368Z",
     "shell.execute_reply": "2022-06-09T14:48:17.755901Z",
     "shell.execute_reply.started": "2022-06-09T14:48:17.750232Z"
    },
    "tags": []
   },
   "outputs": [],
   "source": [
    "def evaluate_model_Multi(predictions):\n",
    "        \"\"\"\n",
    "        summary: based on the prediction Dataframe, this function calculate accuracy,\n",
    "        test Error, and plot the confusion Matrix\n",
    "        \n",
    "        params:\n",
    "            predication: Spark Dataframe conating all the predictions for test set\n",
    "        \"\"\"\n",
    "        evaluator = MulticlassClassificationEvaluator(labelCol=\"label\", predictionCol=\"prediction\")\n",
    "        accuracy = evaluator.evaluate(predictions)\n",
    "        print(\"Accuracy : : {:.3f}\".format(accuracy))\n",
    "        print(\"Test Error : {:.3f}\".format(1-accuracy))\n",
    "\n",
    "        preds_and_labels = predictions.select(['prediction','label'])\\\n",
    "                            .withColumn('label', F.col('label').cast(FloatType())).orderBy('prediction')\n",
    "        preds_and_labels = preds_and_labels.select(['prediction','label'])\n",
    "        metrics = MulticlassMetrics(preds_and_labels.rdd.map(tuple))\n",
    "        \n",
    "        print(metrics.confusionMatrix().toArray())\n",
    "        vs.plot_confusion(metrics.confusionMatrix().toArray())"
   ]
  },
  {
   "cell_type": "code",
   "execution_count": 89,
   "id": "1ee60b7e-fd97-43be-920d-b912505a09a2",
   "metadata": {
    "execution": {
     "iopub.execute_input": "2022-06-09T14:48:18.051768Z",
     "iopub.status.busy": "2022-06-09T14:48:18.051550Z",
     "iopub.status.idle": "2022-06-09T14:48:18.055356Z",
     "shell.execute_reply": "2022-06-09T14:48:18.054850Z",
     "shell.execute_reply.started": "2022-06-09T14:48:18.051745Z"
    },
    "tags": []
   },
   "outputs": [],
   "source": [
    "def evaluate_model_bin(predictions, metric=\"areaUnderROC\"):\n",
    "    \"\"\"\n",
    "    summary: evaluations of the model with binary classifier \n",
    "    params:\n",
    "        predication: Spark Dataframe conating all the predictions for test set\n",
    "        metric: metric to evaluvate for the dataframe\n",
    "    returns:\n",
    "        a float number indicating the value of metric given\n",
    "    \"\"\"\n",
    "    evaluator = BinaryClassificationEvaluator(metricName=metric)\n",
    "    return evaluator.evaluate(predictions)"
   ]
  },
  {
   "cell_type": "code",
   "execution_count": 90,
   "id": "23b61d66-58c1-4839-b778-3f6a65162143",
   "metadata": {
    "execution": {
     "iopub.execute_input": "2022-06-09T14:48:18.291610Z",
     "iopub.status.busy": "2022-06-09T14:48:18.291436Z",
     "iopub.status.idle": "2022-06-09T14:48:18.296075Z",
     "shell.execute_reply": "2022-06-09T14:48:18.295554Z",
     "shell.execute_reply.started": "2022-06-09T14:48:18.291588Z"
    },
    "tags": []
   },
   "outputs": [],
   "source": [
    "def evaluvation_M_B(predeictions, model):\n",
    "    \"\"\"\n",
    "    summary: get the prediction calculate areaunderROC, areaUnderPR, accuracy , test errorr\n",
    "             plot the confusion Matrix\n",
    "    params:\n",
    "         predication: Spark Dataframe conating all the predictions for test set\n",
    "         model: string, name of the model that the predications are based on\n",
    "        \n",
    "    \"\"\"\n",
    "    print(\"***** Test Set Results For {0} *****\".format(model))\n",
    "    print(\"Area Under ROC Curve (ROC AUC): {:.3f}\".format(evaluate_model_bin(predeictions)))\n",
    "    print(\"Area Under Precision-Recall Curve: {:.3f}\".format(evaluate_model_bin(predeictions, metric=\"areaUnderPR\")))\n",
    "    evaluate_model_Multi(predeictions)\n",
    "    print(\"***** Test Set *****\")"
   ]
  },
  {
   "cell_type": "code",
   "execution_count": 91,
   "id": "6a3c69d6-3f0f-4d07-aeeb-6d99bdfc4454",
   "metadata": {
    "execution": {
     "iopub.execute_input": "2022-06-09T14:48:18.863913Z",
     "iopub.status.busy": "2022-06-09T14:48:18.863733Z",
     "iopub.status.idle": "2022-06-09T14:48:18.867808Z",
     "shell.execute_reply": "2022-06-09T14:48:18.867170Z",
     "shell.execute_reply.started": "2022-06-09T14:48:18.863891Z"
    },
    "tags": []
   },
   "outputs": [],
   "source": [
    "def CV_data(models):\n",
    "    \"\"\"\n",
    "    summary: for each of the cross Validation model, it prints avarge roc_auc\n",
    "    params:\n",
    "        models: set of traind cross validate models\n",
    "    \"\"\"\n",
    "    for i, avg_roc_auc in enumerate(models.avgMetrics):\n",
    "        print(\"Avg. ROC AUC computed across k-fold cross validation for model setting #{:d}: {:.3f}\".format(i+1, avg_roc_auc))"
   ]
  },
  {
   "cell_type": "code",
   "execution_count": 128,
   "id": "68561597-c904-4322-8a23-f41aae7c433b",
   "metadata": {
    "execution": {
     "iopub.execute_input": "2022-06-09T19:15:49.612956Z",
     "iopub.status.busy": "2022-06-09T19:15:49.612663Z",
     "iopub.status.idle": "2022-06-09T19:15:49.693106Z",
     "shell.execute_reply": "2022-06-09T19:15:49.692474Z",
     "shell.execute_reply.started": "2022-06-09T19:15:49.612921Z"
    },
    "tags": []
   },
   "outputs": [],
   "source": [
    "def RandomForestClassifier_pipeline(train, k_fold=5):\n",
    "    \"\"\"\n",
    "    summary: a pipleline will be trained using cross validation for random forest\n",
    "    \n",
    "    params:\n",
    "        train: trained tranformed vectories data\n",
    "        k_fold: the number of folds used in CV\n",
    "    returns:\n",
    "        bestModel: CV model trained with traing data given with best choosen paarams\n",
    "    \"\"\"\n",
    "\n",
    "    rf = RandomForestClassifier(featuresCol = 'std_features', labelCol = 'label')\n",
    "    stage = [rf]\n",
    "    pipeline = Pipeline(stages=stage)\n",
    "    paramGrid = ParamGridBuilder() \\\n",
    "        .addGrid(rf.numTrees, np.arange(start = 64, stop = 160, step = 32)) \\\n",
    "        .addGrid(rf.maxDepth, [2, 4, 8]) \\\n",
    "        .build()\n",
    "\n",
    "\n",
    "    crossval = CrossValidator(estimator=pipeline,\n",
    "                              estimatorParamMaps=paramGrid,\n",
    "                              evaluator=BinaryClassificationEvaluator(metricName=\"areaUnderROC\"),\n",
    "                              collectSubModels=True,\n",
    "                              numFolds=k_fold)  \n",
    "    start_time = time.time()\n",
    "    # Run cross-validation, and choose the best set of parameters.\n",
    "    bestModel = crossval.fit(train)\n",
    "    print(\"--- %s seconds ---\" % (time.time() - start_time))\n",
    "    return bestModel"
   ]
  },
  {
   "cell_type": "code",
   "execution_count": 129,
   "id": "1c60c0d4-5ffc-46c7-856a-4163536a60c3",
   "metadata": {
    "execution": {
     "iopub.execute_input": "2022-06-09T19:15:49.697138Z",
     "iopub.status.busy": "2022-06-09T19:15:49.696956Z",
     "iopub.status.idle": "2022-06-09T19:15:49.758114Z",
     "shell.execute_reply": "2022-06-09T19:15:49.757633Z",
     "shell.execute_reply.started": "2022-06-09T19:15:49.697116Z"
    }
   },
   "outputs": [],
   "source": [
    "def RandomForestClassifier_pipeline_pca(train, k_fold=5):\n",
    "    \"\"\"\n",
    "    summary: a pipleline will be trained using cross validation for random forest\n",
    "    \n",
    "    params:\n",
    "        train: trained tranformed vectories data\n",
    "        k_fold: the number of folds used in CV\n",
    "    returns:\n",
    "        bestModel: CV model trained with traing data given with best choosen paarams\n",
    "    \"\"\"\n",
    "\n",
    "    rf = RandomForestClassifier(featuresCol = 'pca_features', labelCol = 'label')\n",
    "    stage = [rf]\n",
    "    pipeline = Pipeline(stages=stage)\n",
    "    paramGrid = ParamGridBuilder() \\\n",
    "        .addGrid(rf.numTrees, np.arange(start = 64, stop = 160, step = 32)) \\\n",
    "        .addGrid(rf.maxDepth, [2, 4, 8]) \\\n",
    "        .build()\n",
    "\n",
    "\n",
    "    crossval = CrossValidator(estimator=pipeline,\n",
    "                              estimatorParamMaps=paramGrid,\n",
    "                              evaluator=BinaryClassificationEvaluator(metricName=\"areaUnderROC\"),\n",
    "                              collectSubModels=True,\n",
    "                              numFolds=k_fold)  \n",
    "    start_time = time.time()\n",
    "    # Run cross-validation, and choose the best set of parameters.\n",
    "    bestModel = crossval.fit(train)\n",
    "    print(\"--- %s seconds ---\" % (time.time() - start_time))\n",
    "    return bestModel"
   ]
  },
  {
   "cell_type": "code",
   "execution_count": 130,
   "id": "61a7b0e8-567b-44ce-b1c2-fa7944ee8502",
   "metadata": {
    "execution": {
     "iopub.execute_input": "2022-06-09T19:15:59.282866Z",
     "iopub.status.busy": "2022-06-09T19:15:59.282472Z",
     "iopub.status.idle": "2022-06-09T19:19:17.557790Z",
     "shell.execute_reply": "2022-06-09T19:19:17.557421Z",
     "shell.execute_reply.started": "2022-06-09T19:15:59.282842Z"
    },
    "tags": []
   },
   "outputs": [
    {
     "name": "stdout",
     "output_type": "stream",
     "text": [
      "--- 198.2563714981079 seconds ---\n"
     ]
    }
   ],
   "source": [
    "RFModel = RandomForestClassifier_pipeline(trainRDD, 5)"
   ]
  },
  {
   "cell_type": "code",
   "execution_count": 131,
   "id": "4d8389ec-46d9-489d-b2c0-9fb39b7998aa",
   "metadata": {
    "execution": {
     "iopub.execute_input": "2022-06-09T19:19:17.560974Z",
     "iopub.status.busy": "2022-06-09T19:19:17.560601Z",
     "iopub.status.idle": "2022-06-09T19:19:17.593012Z",
     "shell.execute_reply": "2022-06-09T19:19:17.592593Z",
     "shell.execute_reply.started": "2022-06-09T19:19:17.560960Z"
    },
    "tags": []
   },
   "outputs": [
    {
     "name": "stdout",
     "output_type": "stream",
     "text": [
      "Avg. ROC AUC computed across k-fold cross validation for model setting #1: 0.602\n",
      "Avg. ROC AUC computed across k-fold cross validation for model setting #2: 0.611\n",
      "Avg. ROC AUC computed across k-fold cross validation for model setting #3: 0.623\n",
      "Avg. ROC AUC computed across k-fold cross validation for model setting #4: 0.604\n",
      "Avg. ROC AUC computed across k-fold cross validation for model setting #5: 0.613\n",
      "Avg. ROC AUC computed across k-fold cross validation for model setting #6: 0.626\n",
      "Avg. ROC AUC computed across k-fold cross validation for model setting #7: 0.605\n",
      "Avg. ROC AUC computed across k-fold cross validation for model setting #8: 0.613\n",
      "Avg. ROC AUC computed across k-fold cross validation for model setting #9: 0.628\n"
     ]
    }
   ],
   "source": [
    "predictionRF = RFModel.transform(testRDD)\n",
    "CV_data(RFModel)"
   ]
  },
  {
   "cell_type": "code",
   "execution_count": 132,
   "id": "e98ec8ba-853e-4a08-8c8f-b090f65c00e4",
   "metadata": {
    "execution": {
     "iopub.execute_input": "2022-06-09T19:19:17.595970Z",
     "iopub.status.busy": "2022-06-09T19:19:17.595824Z",
     "iopub.status.idle": "2022-06-09T19:19:23.497554Z",
     "shell.execute_reply": "2022-06-09T19:19:23.497186Z",
     "shell.execute_reply.started": "2022-06-09T19:19:17.595953Z"
    },
    "tags": []
   },
   "outputs": [
    {
     "name": "stdout",
     "output_type": "stream",
     "text": [
      "***** Test Set Results For Random Forset Classifier *****\n",
      "Area Under ROC Curve (ROC AUC): 0.625\n",
      "Area Under Precision-Recall Curve: 0.614\n",
      "Accuracy : : 0.590\n",
      "Test Error : 0.410\n",
      "[[5521. 3060.]\n",
      " [3882. 4510.]]\n"
     ]
    },
    {
     "data": {
      "image/png": "[encoded data removed]",
      "text/plain": [
       "<Figure size 432x288 with 2 Axes>"
      ]
     },
     "metadata": {
      "needs_background": "light"
     },
     "output_type": "display_data"
    },
    {
     "name": "stdout",
     "output_type": "stream",
     "text": [
      "***** Test Set *****\n"
     ]
    }
   ],
   "source": [
    "evaluvation_M_B(predictionRF, 'Random Forset Classifier')"
   ]
  },
  {
   "cell_type": "code",
   "execution_count": 133,
   "id": "4c70f189-b0ec-4f51-ac96-cd6e64b714da",
   "metadata": {
    "execution": {
     "iopub.execute_input": "2022-06-09T19:19:23.498439Z",
     "iopub.status.busy": "2022-06-09T19:19:23.498337Z",
     "iopub.status.idle": "2022-06-09T19:21:44.115477Z",
     "shell.execute_reply": "2022-06-09T19:21:44.115091Z",
     "shell.execute_reply.started": "2022-06-09T19:19:23.498426Z"
    }
   },
   "outputs": [
    {
     "name": "stdout",
     "output_type": "stream",
     "text": [
      "--- 137.3744511604309 seconds ---\n",
      "Avg. ROC AUC computed across k-fold cross validation for model setting #1: 0.600\n",
      "Avg. ROC AUC computed across k-fold cross validation for model setting #2: 0.605\n",
      "Avg. ROC AUC computed across k-fold cross validation for model setting #3: 0.612\n",
      "Avg. ROC AUC computed across k-fold cross validation for model setting #4: 0.600\n",
      "Avg. ROC AUC computed across k-fold cross validation for model setting #5: 0.605\n",
      "Avg. ROC AUC computed across k-fold cross validation for model setting #6: 0.614\n",
      "Avg. ROC AUC computed across k-fold cross validation for model setting #7: 0.601\n",
      "Avg. ROC AUC computed across k-fold cross validation for model setting #8: 0.607\n",
      "Avg. ROC AUC computed across k-fold cross validation for model setting #9: 0.614\n",
      "***** Test Set Results For lr Classifier pca *****\n",
      "Area Under ROC Curve (ROC AUC): 0.610\n",
      "Area Under Precision-Recall Curve: 0.591\n",
      "Accuracy : : 0.574\n",
      "Test Error : 0.426\n",
      "[[5501. 3080.]\n",
      " [4117. 4275.]]\n"
     ]
    },
    {
     "data": {
      "image/png": "[encoded data removed]",
      "text/plain": [
       "<Figure size 432x288 with 2 Axes>"
      ]
     },
     "metadata": {
      "needs_background": "light"
     },
     "output_type": "display_data"
    },
    {
     "name": "stdout",
     "output_type": "stream",
     "text": [
      "***** Test Set *****\n"
     ]
    }
   ],
   "source": [
    "RFModelpca = RandomForestClassifier_pipeline_pca(pca_train_df, 5)\n",
    "predictionLRpca = RFModelpca.transform(pca_test_df)\n",
    "CV_data(RFModelpca)\n",
    "evaluvation_M_B(predictionLRpca, 'lr Classifier pca')"
   ]
  },
  {
   "cell_type": "code",
   "execution_count": 134,
   "id": "4100b7d2-06e4-4813-b8a8-f98b51f739c8",
   "metadata": {
    "execution": {
     "iopub.execute_input": "2022-06-09T19:21:44.116326Z",
     "iopub.status.busy": "2022-06-09T19:21:44.116179Z",
     "iopub.status.idle": "2022-06-09T19:21:44.119971Z",
     "shell.execute_reply": "2022-06-09T19:21:44.119291Z",
     "shell.execute_reply.started": "2022-06-09T19:21:44.116312Z"
    },
    "tags": []
   },
   "outputs": [
    {
     "name": "stdout",
     "output_type": "stream",
     "text": [
      "RandomForestClassificationModel: uid=RandomForestClassifier_31c2ae1b386d, numTrees=128, numClasses=2, numFeatures=262\n"
     ]
    }
   ],
   "source": [
    "print(RFModel.bestModel.stages[-1])"
   ]
  },
  {
   "cell_type": "markdown",
   "id": "e118f244-565a-4524-b7e4-cab0dc38a37e",
   "metadata": {},
   "source": [
    "<h2>SVM</h2>"
   ]
  },
  {
   "cell_type": "code",
   "execution_count": 93,
   "id": "e335b2a6-3a36-410c-b6c0-926e3000d557",
   "metadata": {
    "execution": {
     "iopub.execute_input": "2022-06-09T14:48:25.415053Z",
     "iopub.status.busy": "2022-06-09T14:48:25.414852Z",
     "iopub.status.idle": "2022-06-09T14:48:25.421342Z",
     "shell.execute_reply": "2022-06-09T14:48:25.420776Z",
     "shell.execute_reply.started": "2022-06-09T14:48:25.415030Z"
    },
    "tags": []
   },
   "outputs": [],
   "source": [
    "def LinearSVC_pipeline(train, k_fold=5):\n",
    "    \"\"\"\n",
    "    summary: a pipleline will be trained using cross validation for linearSVC\n",
    "    \n",
    "    params:\n",
    "        train: trained tranformed vectories data\n",
    "        k_fold: the number of folds used in CV\n",
    "    returns:\n",
    "        cv_model: CV model trained with traing data given with best choosen paarams\n",
    "    \"\"\"\n",
    "    SV_reg = LinearSVC(featuresCol=\"std_features\", labelCol=\"label\", maxIter=100)\n",
    "    stage = [SV_reg]\n",
    "\n",
    "    # 6. Set up the pipeline\n",
    "    pipeline = Pipeline(stages=stage)\n",
    "    param_grid = ParamGridBuilder()\\\n",
    "    .addGrid(SV_reg.regParam, [0.0, 0.05, 0.1]) \\\n",
    "    .addGrid(SV_reg.maxIter , [100, 1000]) \\\n",
    "    .build()\n",
    "    \n",
    "    cross_val = CrossValidator(estimator=pipeline, \n",
    "                               estimatorParamMaps=param_grid,\n",
    "                               evaluator=BinaryClassificationEvaluator(metricName=\"areaUnderROC\"),\n",
    "                               numFolds=k_fold,\n",
    "                               collectSubModels=True \n",
    "                               )\n",
    "\n",
    "    # Run cross-validation, and choose the best set of parameters.\n",
    "    cv_model = cross_val.fit(train)\n",
    "\n",
    "    return cv_model\n"
   ]
  },
  {
   "cell_type": "code",
   "execution_count": 106,
   "id": "1ff8ec26-11b9-4400-b34d-909850326d50",
   "metadata": {
    "execution": {
     "iopub.execute_input": "2022-06-09T15:30:43.019977Z",
     "iopub.status.busy": "2022-06-09T15:30:43.019704Z",
     "iopub.status.idle": "2022-06-09T15:30:43.026944Z",
     "shell.execute_reply": "2022-06-09T15:30:43.026439Z",
     "shell.execute_reply.started": "2022-06-09T15:30:43.019953Z"
    },
    "tags": []
   },
   "outputs": [],
   "source": [
    "def LinearSVC_pipelinepca(train, k_fold=5):\n",
    "    \"\"\"\n",
    "    summary: a pipleline will be trained using cross validation for linearSVC\n",
    "    \n",
    "    params:\n",
    "        train: trained tranformed vectories data\n",
    "        k_fold: the number of folds used in CV\n",
    "    returns:\n",
    "        cv_model: CV model trained with traing data given with best choosen paarams\n",
    "    \"\"\"\n",
    "    SV_reg = LinearSVC(featuresCol=\"pca_features\", labelCol=\"label\", maxIter=100)\n",
    "    stage = [SV_reg]\n",
    "\n",
    "    # 6. Set up the pipeline\n",
    "    pipeline = Pipeline(stages=stage)\n",
    "    param_grid = ParamGridBuilder()\\\n",
    "    .addGrid(SV_reg.regParam, [0.0, 0.05, 0.1]) \\\n",
    "    .addGrid(SV_reg.maxIter , [100, 1000]) \\\n",
    "    .build()\n",
    "    \n",
    "    cross_val = CrossValidator(estimator=pipeline, \n",
    "                               estimatorParamMaps=param_grid,\n",
    "                               evaluator=BinaryClassificationEvaluator(metricName=\"areaUnderROC\"),\n",
    "                               numFolds=k_fold,\n",
    "                               collectSubModels=True \n",
    "                               )\n",
    "\n",
    "    # Run cross-validation, and choose the best set of parameters.\n",
    "    cv_model = cross_val.fit(train)\n",
    "\n",
    "    return cv_model"
   ]
  },
  {
   "cell_type": "code",
   "execution_count": null,
   "id": "ed6db52a-dcc8-4ddc-9a47-b8d73c10f650",
   "metadata": {
    "tags": []
   },
   "outputs": [],
   "source": [
    "lsvcModel = LinearSVC_pipeline(trainRDD, 5)"
   ]
  },
  {
   "cell_type": "code",
   "execution_count": 97,
   "id": "672e4ab8-6347-4064-9c7e-ca36bd89b96c",
   "metadata": {
    "execution": {
     "iopub.execute_input": "2022-06-09T15:08:35.219812Z",
     "iopub.status.busy": "2022-06-09T15:08:35.219591Z",
     "iopub.status.idle": "2022-06-09T15:08:40.923983Z",
     "shell.execute_reply": "2022-06-09T15:08:40.923460Z",
     "shell.execute_reply.started": "2022-06-09T15:08:35.219788Z"
    },
    "tags": []
   },
   "outputs": [],
   "source": [
    "lsvcModel.save(basePath + \"/lsvcModelnew\")\n",
    "predictionSVM = lsvcModel.transform(testRDD)"
   ]
  },
  {
   "cell_type": "code",
   "execution_count": 98,
   "id": "2ed8ef66-0b39-4ee3-b429-23efbc6e1d75",
   "metadata": {
    "execution": {
     "iopub.execute_input": "2022-06-09T15:08:52.118888Z",
     "iopub.status.busy": "2022-06-09T15:08:52.118666Z",
     "iopub.status.idle": "2022-06-09T15:08:52.124382Z",
     "shell.execute_reply": "2022-06-09T15:08:52.123907Z",
     "shell.execute_reply.started": "2022-06-09T15:08:52.118862Z"
    },
    "tags": []
   },
   "outputs": [
    {
     "name": "stdout",
     "output_type": "stream",
     "text": [
      "Avg. ROC AUC computed across k-fold cross validation for model setting #1: 0.563\n",
      "Avg. ROC AUC computed across k-fold cross validation for model setting #2: 0.563\n",
      "Avg. ROC AUC computed across k-fold cross validation for model setting #3: 0.562\n",
      "Avg. ROC AUC computed across k-fold cross validation for model setting #4: 0.562\n",
      "Avg. ROC AUC computed across k-fold cross validation for model setting #5: 0.560\n",
      "Avg. ROC AUC computed across k-fold cross validation for model setting #6: 0.560\n"
     ]
    }
   ],
   "source": [
    "CV_data(lsvcModel)"
   ]
  },
  {
   "cell_type": "code",
   "execution_count": 99,
   "id": "16f27330-85ba-471a-84a3-dbd9b8ade843",
   "metadata": {
    "execution": {
     "iopub.execute_input": "2022-06-09T15:08:54.440415Z",
     "iopub.status.busy": "2022-06-09T15:08:54.440201Z",
     "iopub.status.idle": "2022-06-09T15:08:59.019557Z",
     "shell.execute_reply": "2022-06-09T15:08:59.019208Z",
     "shell.execute_reply.started": "2022-06-09T15:08:54.440392Z"
    },
    "tags": []
   },
   "outputs": [
    {
     "name": "stdout",
     "output_type": "stream",
     "text": [
      "***** Test Set Results For SVM Classifier *****\n",
      "Area Under ROC Curve (ROC AUC): 0.554\n",
      "Area Under Precision-Recall Curve: 0.561\n",
      "Accuracy : : 0.546\n",
      "Test Error : 0.454\n",
      "[[5379. 3202.]\n",
      " [4462. 3930.]]\n"
     ]
    },
    {
     "data": {
      "image/png": "[encoded data removed]",
      "text/plain": [
       "<Figure size 432x288 with 2 Axes>"
      ]
     },
     "metadata": {
      "needs_background": "light"
     },
     "output_type": "display_data"
    },
    {
     "name": "stdout",
     "output_type": "stream",
     "text": [
      "***** Test Set *****\n"
     ]
    }
   ],
   "source": [
    "evaluvation_M_B(predictionSVM, 'SVM Classifier')"
   ]
  },
  {
   "cell_type": "code",
   "execution_count": null,
   "id": "ca7e6169-686e-4e7c-843c-b9bcc6b927fa",
   "metadata": {
    "tags": []
   },
   "outputs": [],
   "source": [
    "lsvcModelpca = LinearSVC_pipelinepca(pca_train_df, 5)\n",
    "lsvcModelpca.save(basePath + \"/lsvcModelpca\")\n"
   ]
  },
  {
   "cell_type": "code",
   "execution_count": 108,
   "id": "0f8ddcf1-2d62-4457-9200-04d8ee02ca86",
   "metadata": {
    "execution": {
     "iopub.execute_input": "2022-06-09T15:46:24.227696Z",
     "iopub.status.busy": "2022-06-09T15:46:24.227481Z",
     "iopub.status.idle": "2022-06-09T15:46:26.093861Z",
     "shell.execute_reply": "2022-06-09T15:46:26.093491Z",
     "shell.execute_reply.started": "2022-06-09T15:46:24.227672Z"
    }
   },
   "outputs": [
    {
     "name": "stdout",
     "output_type": "stream",
     "text": [
      "Avg. ROC AUC computed across k-fold cross validation for model setting #1: 0.525\n",
      "Avg. ROC AUC computed across k-fold cross validation for model setting #2: 0.525\n",
      "Avg. ROC AUC computed across k-fold cross validation for model setting #3: 0.521\n",
      "Avg. ROC AUC computed across k-fold cross validation for model setting #4: 0.521\n",
      "Avg. ROC AUC computed across k-fold cross validation for model setting #5: 0.520\n",
      "Avg. ROC AUC computed across k-fold cross validation for model setting #6: 0.520\n",
      "***** Test Set Results For SVM Classifier pca *****\n",
      "Area Under ROC Curve (ROC AUC): 0.528\n",
      "Area Under Precision-Recall Curve: 0.530\n",
      "Accuracy : : 0.488\n",
      "Test Error : 0.512\n",
      "[[5836. 2745.]\n",
      " [5672. 2720.]]\n"
     ]
    },
    {
     "data": {
      "image/png": "[encoded data removed]",
      "text/plain": [
       "<Figure size 432x288 with 2 Axes>"
      ]
     },
     "metadata": {
      "needs_background": "light"
     },
     "output_type": "display_data"
    },
    {
     "name": "stdout",
     "output_type": "stream",
     "text": [
      "***** Test Set *****\n"
     ]
    }
   ],
   "source": [
    "predictionSVMpca = lsvcModelpca.transform(pca_test_df)\n",
    "CV_data(lsvcModelpca)\n",
    "evaluvation_M_B(predictionSVMpca, 'SVM Classifier pca')"
   ]
  },
  {
   "cell_type": "markdown",
   "id": "3cd58728-9acc-427c-b618-e479000d05ba",
   "metadata": {},
   "source": [
    "<h2>LogisticRegression</h2>"
   ]
  },
  {
   "cell_type": "code",
   "execution_count": 109,
   "id": "a8cbf098-a9f1-47a5-a492-e66483983a7c",
   "metadata": {
    "execution": {
     "iopub.execute_input": "2022-06-09T15:46:41.823519Z",
     "iopub.status.busy": "2022-06-09T15:46:41.823301Z",
     "iopub.status.idle": "2022-06-09T15:46:41.830149Z",
     "shell.execute_reply": "2022-06-09T15:46:41.829564Z",
     "shell.execute_reply.started": "2022-06-09T15:46:41.823495Z"
    },
    "tags": []
   },
   "outputs": [],
   "source": [
    "def logistic_regression_pipeline_pca(train, k_fold=5):\n",
    "    \"\"\"\n",
    "    summary: a pipleline will be trained using cross validation for logestic Regression\n",
    "    \n",
    "    params:\n",
    "        train: trained tranformed vectories data\n",
    "        k_fold: the number of folds used in CV\n",
    "    returns:\n",
    "        cv_model: CV model trained with traing data given with best choosen paarams\n",
    "    \"\"\"\n",
    "    log_reg = LogisticRegression(featuresCol=\"pca_features\", labelCol=\"label\", maxIter=100)\n",
    "    stage = [log_reg]\n",
    "\n",
    "\n",
    "    pipeline = Pipeline(stages=stage)\n",
    "    param_grid = ParamGridBuilder()\\\n",
    "    .addGrid(log_reg.regParam, [0.0, 0.05, 0.1]) \\\n",
    "    .addGrid(log_reg.elasticNetParam, [0.0, 0.5, 1.0]) \\\n",
    "    .build()\n",
    "    \n",
    "    cross_val = CrossValidator(estimator=pipeline, \n",
    "                               estimatorParamMaps=param_grid,\n",
    "                               evaluator=BinaryClassificationEvaluator(metricName=\"areaUnderROC\"), # default = \"areaUnderROC\", alternatively \"areaUnderPR\"\n",
    "                               numFolds=k_fold,\n",
    "                               collectSubModels=True \n",
    "                               )\n",
    "\n",
    "    cv_model = cross_val.fit(train)\n",
    "\n",
    "    return cv_model\n"
   ]
  },
  {
   "cell_type": "markdown",
   "id": "f68585d6-8756-45b4-b3ac-53bbd051492a",
   "metadata": {},
   "source": [
    "<h6>ElasticNet mixing parameter, in range [0, 1]. For alpha = 0, the penalty is an L2 penalty. For alpha = 1, it is an L1 penalty.')</h6>"
   ]
  },
  {
   "cell_type": "code",
   "execution_count": 110,
   "id": "86e64c00-f285-48b8-a084-240a958fcf82",
   "metadata": {
    "execution": {
     "iopub.execute_input": "2022-06-09T15:46:44.813376Z",
     "iopub.status.busy": "2022-06-09T15:46:44.813156Z",
     "iopub.status.idle": "2022-06-09T15:46:44.819790Z",
     "shell.execute_reply": "2022-06-09T15:46:44.819205Z",
     "shell.execute_reply.started": "2022-06-09T15:46:44.813352Z"
    },
    "tags": []
   },
   "outputs": [],
   "source": [
    "def logistic_regression_pipeline(train, k_fold=5):\n",
    "    \"\"\"\n",
    "    summary: a pipleline will be trained using cross validation for logestic Regression\n",
    "    \n",
    "    params:\n",
    "        train: trained tranformed vectories data\n",
    "        k_fold: the number of folds used in CV\n",
    "    returns:\n",
    "        cv_model: CV model trained with traing data given with best choosen paarams\n",
    "    \"\"\"\n",
    "    log_reg = LogisticRegression(featuresCol=\"std_features\", labelCol=\"label\", maxIter=100)\n",
    "    stage = [log_reg]\n",
    "\n",
    "\n",
    "    pipeline = Pipeline(stages=stage)\n",
    "    param_grid = ParamGridBuilder()\\\n",
    "    .addGrid(log_reg.regParam, [0.0, 0.05, 0.1]) \\\n",
    "    .addGrid(log_reg.elasticNetParam, [0.0, 0.5, 1.0]) \\\n",
    "    .build()\n",
    "    \n",
    "    cross_val = CrossValidator(estimator=pipeline, \n",
    "                               estimatorParamMaps=param_grid,\n",
    "                               evaluator=BinaryClassificationEvaluator(metricName=\"areaUnderROC\"), # default = \"areaUnderROC\", alternatively \"areaUnderPR\"\n",
    "                               numFolds=k_fold,\n",
    "                               collectSubModels=True \n",
    "                               )\n",
    "\n",
    "    cv_model = cross_val.fit(train)\n",
    "\n",
    "    return cv_model\n"
   ]
  },
  {
   "cell_type": "code",
   "execution_count": 111,
   "id": "9bb2b165-49e6-4cd6-bd9f-867d00404018",
   "metadata": {
    "execution": {
     "iopub.execute_input": "2022-06-09T15:46:49.048299Z",
     "iopub.status.busy": "2022-06-09T15:46:49.047808Z",
     "iopub.status.idle": "2022-06-09T15:49:28.032836Z",
     "shell.execute_reply": "2022-06-09T15:49:28.032200Z",
     "shell.execute_reply.started": "2022-06-09T15:46:49.048276Z"
    },
    "tags": []
   },
   "outputs": [],
   "source": [
    "lrModel = logistic_regression_pipeline(trainRDD, 5)\n",
    "lrModel.save(basePath + \"/lrModelnew\")"
   ]
  },
  {
   "cell_type": "code",
   "execution_count": 112,
   "id": "d8517906-da01-4d4b-b5e3-e01d0debd7f8",
   "metadata": {
    "execution": {
     "iopub.execute_input": "2022-06-09T15:49:28.034367Z",
     "iopub.status.busy": "2022-06-09T15:49:28.034141Z",
     "iopub.status.idle": "2022-06-09T15:49:28.037695Z",
     "shell.execute_reply": "2022-06-09T15:49:28.037259Z",
     "shell.execute_reply.started": "2022-06-09T15:49:28.034342Z"
    },
    "tags": []
   },
   "outputs": [
    {
     "name": "stdout",
     "output_type": "stream",
     "text": [
      "Avg. ROC AUC computed across k-fold cross validation for model setting #1: 0.560\n",
      "Avg. ROC AUC computed across k-fold cross validation for model setting #2: 0.560\n",
      "Avg. ROC AUC computed across k-fold cross validation for model setting #3: 0.560\n",
      "Avg. ROC AUC computed across k-fold cross validation for model setting #4: 0.561\n",
      "Avg. ROC AUC computed across k-fold cross validation for model setting #5: 0.547\n",
      "Avg. ROC AUC computed across k-fold cross validation for model setting #6: 0.500\n",
      "Avg. ROC AUC computed across k-fold cross validation for model setting #7: 0.561\n",
      "Avg. ROC AUC computed across k-fold cross validation for model setting #8: 0.500\n",
      "Avg. ROC AUC computed across k-fold cross validation for model setting #9: 0.500\n"
     ]
    }
   ],
   "source": [
    "CV_data(lrModel)"
   ]
  },
  {
   "cell_type": "code",
   "execution_count": 113,
   "id": "9c45ac88-46ee-467c-8c5d-315ab172d955",
   "metadata": {
    "execution": {
     "iopub.execute_input": "2022-06-09T15:49:28.038508Z",
     "iopub.status.busy": "2022-06-09T15:49:28.038324Z",
     "iopub.status.idle": "2022-06-09T15:49:28.047556Z",
     "shell.execute_reply": "2022-06-09T15:49:28.047065Z",
     "shell.execute_reply.started": "2022-06-09T15:49:28.038490Z"
    },
    "tags": []
   },
   "outputs": [
    {
     "name": "stdout",
     "output_type": "stream",
     "text": [
      "Best model according to k-fold cross validation: lambda=[0.050]; alfa=[0.000]\n",
      "LogisticRegressionModel: uid=LogisticRegression_fbbfc8110146, numClasses=2, numFeatures=262\n"
     ]
    }
   ],
   "source": [
    "print(\"Best model according to k-fold cross validation: lambda=[{:.3f}]; alfa=[{:.3f}]\".\n",
    "      format(lrModel.bestModel.stages[-1]._java_obj.getRegParam(), \n",
    "             lrModel.bestModel.stages[-1]._java_obj.getElasticNetParam(),\n",
    "             )\n",
    "      )\n",
    "print(lrModel.bestModel.stages[-1])"
   ]
  },
  {
   "cell_type": "code",
   "execution_count": 114,
   "id": "56fcd7e3-38ab-4ced-824a-2563eadf7a6e",
   "metadata": {
    "execution": {
     "iopub.execute_input": "2022-06-09T15:49:28.049082Z",
     "iopub.status.busy": "2022-06-09T15:49:28.048826Z",
     "iopub.status.idle": "2022-06-09T15:49:29.124343Z",
     "shell.execute_reply": "2022-06-09T15:49:29.123993Z",
     "shell.execute_reply.started": "2022-06-09T15:49:28.049054Z"
    },
    "tags": []
   },
   "outputs": [
    {
     "name": "stdout",
     "output_type": "stream",
     "text": [
      "***** Training Set *****\n",
      "Area Under ROC Curve (ROC AUC): 0.583\n",
      "***** Training Set *****\n"
     ]
    }
   ],
   "source": [
    "# `bestModel` is the best resulting model according to k-fold cross validation, which is also entirely retrained on the whole `train_df`\n",
    "training_result = lrModel.bestModel.stages[-1].summary\n",
    "print(\"***** Training Set *****\")\n",
    "print(\"Area Under ROC Curve (ROC AUC): {:.3f}\".format(training_result.areaUnderROC))\n",
    "print(\"***** Training Set *****\")"
   ]
  },
  {
   "cell_type": "code",
   "execution_count": 115,
   "id": "e4a0ca45-5b48-48ac-b89b-1edd6a5d99fb",
   "metadata": {
    "execution": {
     "iopub.execute_input": "2022-06-09T15:55:52.453267Z",
     "iopub.status.busy": "2022-06-09T15:55:52.453047Z",
     "iopub.status.idle": "2022-06-09T15:55:56.765362Z",
     "shell.execute_reply": "2022-06-09T15:55:56.764929Z",
     "shell.execute_reply.started": "2022-06-09T15:55:52.453243Z"
    },
    "tags": []
   },
   "outputs": [
    {
     "name": "stdout",
     "output_type": "stream",
     "text": [
      "***** Test Set Results For logestic Regression Classifier *****\n",
      "Area Under ROC Curve (ROC AUC): 0.553\n",
      "Area Under Precision-Recall Curve: 0.560\n",
      "Accuracy : : 0.545\n",
      "Test Error : 0.455\n",
      "[[5212. 3369.]\n",
      " [4323. 4069.]]\n"
     ]
    },
    {
     "data": {
      "image/png": "[encoded data removed]",
      "text/plain": [
       "<Figure size 432x288 with 2 Axes>"
      ]
     },
     "metadata": {
      "needs_background": "light"
     },
     "output_type": "display_data"
    },
    {
     "name": "stdout",
     "output_type": "stream",
     "text": [
      "***** Test Set *****\n"
     ]
    }
   ],
   "source": [
    "predictionsLG = lrModel.transform(testRDD)\n",
    "evaluvation_M_B(predictionsLG, 'logestic Regression Classifier')"
   ]
  },
  {
   "cell_type": "code",
   "execution_count": 116,
   "id": "b4b6e0b7-dcca-4c7f-a090-943328ddb232",
   "metadata": {
    "execution": {
     "iopub.execute_input": "2022-06-09T15:55:59.628223Z",
     "iopub.status.busy": "2022-06-09T15:55:59.627948Z",
     "iopub.status.idle": "2022-06-09T15:56:55.504779Z",
     "shell.execute_reply": "2022-06-09T15:56:55.504345Z",
     "shell.execute_reply.started": "2022-06-09T15:55:59.628199Z"
    },
    "tags": []
   },
   "outputs": [
    {
     "name": "stdout",
     "output_type": "stream",
     "text": [
      "Avg. ROC AUC computed across k-fold cross validation for model setting #1: 0.517\n",
      "Avg. ROC AUC computed across k-fold cross validation for model setting #2: 0.517\n",
      "Avg. ROC AUC computed across k-fold cross validation for model setting #3: 0.517\n",
      "Avg. ROC AUC computed across k-fold cross validation for model setting #4: 0.518\n",
      "Avg. ROC AUC computed across k-fold cross validation for model setting #5: 0.500\n",
      "Avg. ROC AUC computed across k-fold cross validation for model setting #6: 0.500\n",
      "Avg. ROC AUC computed across k-fold cross validation for model setting #7: 0.518\n",
      "Avg. ROC AUC computed across k-fold cross validation for model setting #8: 0.500\n",
      "Avg. ROC AUC computed across k-fold cross validation for model setting #9: 0.500\n",
      "***** Test Set Results For lr Classifier pca *****\n",
      "Area Under ROC Curve (ROC AUC): 0.518\n",
      "Area Under Precision-Recall Curve: 0.524\n",
      "Accuracy : : 0.501\n",
      "Test Error : 0.499\n",
      "[[5795. 2786.]\n",
      " [5461. 2931.]]\n"
     ]
    },
    {
     "data": {
      "image/png": "[encoded data removed]",
      "text/plain": [
       "<Figure size 432x288 with 2 Axes>"
      ]
     },
     "metadata": {
      "needs_background": "light"
     },
     "output_type": "display_data"
    },
    {
     "name": "stdout",
     "output_type": "stream",
     "text": [
      "***** Test Set *****\n"
     ]
    }
   ],
   "source": [
    "lrModelpca = logistic_regression_pipeline_pca(pca_train_df, 5)\n",
    "lrModelpca.save(basePath + \"/lrModelpca\")\n",
    "predictionLRpca = lrModelpca.transform(pca_test_df)\n",
    "CV_data(lrModelpca)\n",
    "evaluvation_M_B(predictionLRpca, 'lr Classifier pca')"
   ]
  },
  {
   "cell_type": "code",
   "execution_count": 126,
   "id": "aba1c070-ab94-4f75-8b0b-239273b6f57b",
   "metadata": {
    "execution": {
     "iopub.execute_input": "2022-06-09T17:14:29.224622Z",
     "iopub.status.busy": "2022-06-09T17:14:29.223956Z",
     "iopub.status.idle": "2022-06-09T17:14:29.230230Z",
     "shell.execute_reply": "2022-06-09T17:14:29.229780Z",
     "shell.execute_reply.started": "2022-06-09T17:14:29.224595Z"
    },
    "tags": []
   },
   "outputs": [],
   "source": [
    "def gbdt_pipeline_pca(train, k_fold=5):\n",
    "    \"\"\"\n",
    "    summary: a pipleline will be trained using cross validation for gradient boosting descision tree\n",
    "    \n",
    "    params:\n",
    "        train: trained tranformed vectories data\n",
    "        k_fold: the number of folds used in CV\n",
    "    returns:\n",
    "        cv_model: CV model trained with traing data given with best choosen paarams\n",
    "    \"\"\"\n",
    "    gbdt = GBTClassifier(featuresCol=\"pca_features\", labelCol=\"label\") \n",
    "    stage = [gbdt]\n",
    "    pipeline = Pipeline(stages=stage)\n",
    "    param_grid = ParamGridBuilder()\\\n",
    "    .addGrid(gbdt.maxDepth, [5, 8]) \\\n",
    "    .addGrid(gbdt.maxIter, [50, 100, 120]) \\\n",
    "    .build()\n",
    "    \n",
    "    cross_val = CrossValidator(estimator=pipeline, \n",
    "                               estimatorParamMaps=param_grid,\n",
    "                               evaluator=BinaryClassificationEvaluator(metricName=\"areaUnderROC\"),\n",
    "                               numFolds=k_fold,\n",
    "                               collectSubModels=True\n",
    "                               )\n",
    "\n",
    "    cv_model = cross_val.fit(train)\n",
    "\n",
    "    return cv_model\n"
   ]
  },
  {
   "cell_type": "code",
   "execution_count": 123,
   "id": "e1dda489-1983-4ab8-9c3b-dfdf4b73aeea",
   "metadata": {
    "execution": {
     "iopub.execute_input": "2022-06-09T16:03:53.826892Z",
     "iopub.status.busy": "2022-06-09T16:03:53.825379Z",
     "iopub.status.idle": "2022-06-09T16:03:53.831632Z",
     "shell.execute_reply": "2022-06-09T16:03:53.831145Z",
     "shell.execute_reply.started": "2022-06-09T16:03:53.826844Z"
    },
    "tags": []
   },
   "outputs": [],
   "source": [
    "def gbdt_pipeline(train, k_fold=5):\n",
    "    \"\"\"\n",
    "    summary: a pipleline will be trained using cross validation for gradient boosting descision tree\n",
    "    \n",
    "    params:\n",
    "        train: trained tranformed vectories data\n",
    "        k_fold: the number of folds used in CV\n",
    "    returns:\n",
    "        cv_model: CV model trained with traing data given with best choosen paarams\n",
    "    \"\"\"\n",
    "    gbdt = GBTClassifier(featuresCol=\"std_features\", labelCol=\"label\") \n",
    "    stage = [gbdt]\n",
    "    pipeline = Pipeline(stages=stage)\n",
    "    param_grid = ParamGridBuilder()\\\n",
    "    .addGrid(gbdt.maxDepth, [5, 8]) \\\n",
    "    .addGrid(gbdt.maxIter, [50, 100, 120]) \\\n",
    "    .build()\n",
    "    \n",
    "    cross_val = CrossValidator(estimator=pipeline, \n",
    "                               estimatorParamMaps=param_grid,\n",
    "                               evaluator=BinaryClassificationEvaluator(metricName=\"areaUnderROC\"),\n",
    "                               numFolds=k_fold,\n",
    "                               collectSubModels=True\n",
    "                               )\n",
    "\n",
    "    cv_model = cross_val.fit(train)\n",
    "\n",
    "    return cv_model\n"
   ]
  },
  {
   "cell_type": "code",
   "execution_count": 124,
   "id": "0d3e360c-f4f3-49b9-bbae-185fcd3b64d9",
   "metadata": {
    "execution": {
     "iopub.execute_input": "2022-06-09T16:03:55.145740Z",
     "iopub.status.busy": "2022-06-09T16:03:55.145224Z",
     "iopub.status.idle": "2022-06-09T17:13:53.258488Z",
     "shell.execute_reply": "2022-06-09T17:13:53.257885Z",
     "shell.execute_reply.started": "2022-06-09T16:03:55.145712Z"
    },
    "tags": []
   },
   "outputs": [
    {
     "name": "stdout",
     "output_type": "stream",
     "text": [
      "Avg. ROC AUC computed across k-fold cross validation for model setting #1: 0.655\n",
      "Avg. ROC AUC computed across k-fold cross validation for model setting #2: 0.659\n",
      "Avg. ROC AUC computed across k-fold cross validation for model setting #3: 0.660\n",
      "Avg. ROC AUC computed across k-fold cross validation for model setting #4: 0.638\n",
      "Avg. ROC AUC computed across k-fold cross validation for model setting #5: 0.644\n",
      "Avg. ROC AUC computed across k-fold cross validation for model setting #6: 0.646\n",
      "***** Test Set Results For GBT Classifier *****\n",
      "Area Under ROC Curve (ROC AUC): 0.662\n",
      "Area Under Precision-Recall Curve: 0.652\n",
      "Accuracy : : 0.615\n",
      "Test Error : 0.385\n",
      "[[5749. 2832.]\n",
      " [3678. 4714.]]\n"
     ]
    },
    {
     "data": {
      "image/png": "[encoded data removed]",
      "text/plain": [
       "<Figure size 432x288 with 2 Axes>"
      ]
     },
     "metadata": {
      "needs_background": "light"
     },
     "output_type": "display_data"
    },
    {
     "name": "stdout",
     "output_type": "stream",
     "text": [
      "***** Test Set *****\n"
     ]
    }
   ],
   "source": [
    "cv_model = gbdt_pipeline(trainRDD,5)\n",
    "test_predictions = cv_model.transform(testRDD)\n",
    "CV_data(cv_model)\n",
    "evaluvation_M_B(test_predictions, 'GBT Classifier')"
   ]
  },
  {
   "cell_type": "code",
   "execution_count": 127,
   "id": "02d37a0a-a243-4e45-a301-4deecec2909d",
   "metadata": {
    "execution": {
     "iopub.execute_input": "2022-06-09T17:14:40.856015Z",
     "iopub.status.busy": "2022-06-09T17:14:40.855692Z",
     "iopub.status.idle": "2022-06-09T18:07:50.709001Z",
     "shell.execute_reply": "2022-06-09T18:07:50.706886Z",
     "shell.execute_reply.started": "2022-06-09T17:14:40.855990Z"
    },
    "tags": []
   },
   "outputs": [
    {
     "name": "stdout",
     "output_type": "stream",
     "text": [
      "Avg. ROC AUC computed across k-fold cross validation for model setting #1: 0.626\n",
      "Avg. ROC AUC computed across k-fold cross validation for model setting #2: 0.623\n",
      "Avg. ROC AUC computed across k-fold cross validation for model setting #3: 0.621\n",
      "Avg. ROC AUC computed across k-fold cross validation for model setting #4: 0.603\n",
      "Avg. ROC AUC computed across k-fold cross validation for model setting #5: 0.601\n",
      "Avg. ROC AUC computed across k-fold cross validation for model setting #6: 0.601\n",
      "***** Test Set Results For GBT Classifier *****\n",
      "Area Under ROC Curve (ROC AUC): 0.630\n",
      "Area Under Precision-Recall Curve: 0.612\n",
      "Accuracy : : 0.589\n",
      "Test Error : 0.411\n",
      "[[5608. 2973.]\n",
      " [3970. 4422.]]\n"
     ]
    },
    {
     "data": {
      "image/png": "[encoded data removed]",
      "text/plain": [
       "<Figure size 432x288 with 2 Axes>"
      ]
     },
     "metadata": {
      "needs_background": "light"
     },
     "output_type": "display_data"
    },
    {
     "name": "stdout",
     "output_type": "stream",
     "text": [
      "***** Test Set *****\n"
     ]
    }
   ],
   "source": [
    "cv_model = gbdt_pipeline_pca(pca_train_df,5)\n",
    "test_predictions = cv_model.transform(pca_test_df)\n",
    "CV_data(cv_model)\n",
    "evaluvation_M_B(test_predictions, 'GBT Classifier')"
   ]
  },
  {
   "cell_type": "code",
   "execution_count": null,
   "id": "e89ef7d6-f1c4-4193-8b78-b17c5e579cf0",
   "metadata": {
    "execution": {
     "iopub.status.busy": "2022-06-09T14:42:55.878151Z",
     "iopub.status.idle": "2022-06-09T14:42:55.878474Z",
     "shell.execute_reply": "2022-06-09T14:42:55.878368Z",
     "shell.execute_reply.started": "2022-06-09T14:42:55.878355Z"
    },
    "tags": []
   },
   "outputs": [],
   "source": []
  },
  {
   "cell_type": "code",
   "execution_count": null,
   "id": "dd4e7826-19ee-473d-ae3f-0d647bb484e7",
   "metadata": {},
   "outputs": [],
   "source": []
  }
 ],
 "metadata": {
  "kernelspec": {
   "display_name": "Python 3 (ipykernel)",
   "language": "python",
   "name": "python3"
  },
  "language_info": {
   "codemirror_mode": {
    "name": "ipython",
    "version": 3
   },
   "file_extension": ".py",
   "mimetype": "text/x-python",
   "name": "python",
   "nbconvert_exporter": "python",
   "pygments_lexer": "ipython3",
   "version": "3.9.10"
  }
 },
 "nbformat": 4,
 "nbformat_minor": 5
}
